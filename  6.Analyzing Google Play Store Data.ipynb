{
 "cells": [
  {
   "cell_type": "markdown",
   "id": "59ae2cad-2fbb-44f5-bf69-bc95f38c6dd5",
   "metadata": {},
   "source": [
    "# 1. Setup / Imports & helper utilities"
   ]
  },
  {
   "cell_type": "code",
   "execution_count": 1,
   "id": "4fa527c1-182c-444a-ab61-d4d15edd518c",
   "metadata": {},
   "outputs": [
    {
     "name": "stdout",
     "output_type": "stream",
     "text": [
      "apps.csv: FOUND\n",
      "user_reviews.csv: FOUND\n"
     ]
    }
   ],
   "source": [
    "import os\n",
    "import pandas as pd\n",
    "import numpy as np\n",
    "import matplotlib.pyplot as plt\n",
    "import warnings\n",
    "warnings.filterwarnings('ignore')\n",
    "\n",
    "# Plot display settings\n",
    "plt.rcParams['figure.figsize'] = (10,5)  # set default figure size (you can change in each plot)\n",
    "\n",
    "# Paths (adjust if needed)\n",
    "APPS_CSV = \"apps.csv\"               # or \"/mnt/data/apps.csv\"\n",
    "REVIEWS_CSV = \"user_reviews.csv\"    # or \"/mnt/data/user_reviews.csv\"\n",
    "\n",
    "# Quick file existence check:\n",
    "for p in (APPS_CSV, REVIEWS_CSV):\n",
    "    print(f\"{p}: {'FOUND' if os.path.exists(p) else 'MISSING'}\")\n"
   ]
  },
  {
   "cell_type": "markdown",
   "id": "910e02e1-e77c-4be9-a2ec-03d2d8dc57a9",
   "metadata": {},
   "source": [
    "# 2. Data Preparation (cleaning & correct data types)"
   ]
  },
  {
   "cell_type": "code",
   "execution_count": 4,
   "id": "477f688b-50bc-45c0-bbc0-cb149e4ba1b3",
   "metadata": {},
   "outputs": [
    {
     "name": "stdout",
     "output_type": "stream",
     "text": [
      "Apps shape: (9659, 14)\n"
     ]
    },
    {
     "data": {
      "text/html": [
       "<div>\n",
       "<style scoped>\n",
       "    .dataframe tbody tr th:only-of-type {\n",
       "        vertical-align: middle;\n",
       "    }\n",
       "\n",
       "    .dataframe tbody tr th {\n",
       "        vertical-align: top;\n",
       "    }\n",
       "\n",
       "    .dataframe thead th {\n",
       "        text-align: right;\n",
       "    }\n",
       "</style>\n",
       "<table border=\"1\" class=\"dataframe\">\n",
       "  <thead>\n",
       "    <tr style=\"text-align: right;\">\n",
       "      <th></th>\n",
       "      <th>Unnamed: 0</th>\n",
       "      <th>App</th>\n",
       "      <th>Category</th>\n",
       "      <th>Rating</th>\n",
       "      <th>Reviews</th>\n",
       "      <th>Size</th>\n",
       "      <th>Installs</th>\n",
       "      <th>Type</th>\n",
       "      <th>Price</th>\n",
       "      <th>Content Rating</th>\n",
       "      <th>Genres</th>\n",
       "      <th>Last Updated</th>\n",
       "      <th>Current Ver</th>\n",
       "      <th>Android Ver</th>\n",
       "    </tr>\n",
       "  </thead>\n",
       "  <tbody>\n",
       "    <tr>\n",
       "      <th>0</th>\n",
       "      <td>0</td>\n",
       "      <td>Photo Editor &amp; Candy Camera &amp; Grid &amp; ScrapBook</td>\n",
       "      <td>ART_AND_DESIGN</td>\n",
       "      <td>4.1</td>\n",
       "      <td>159</td>\n",
       "      <td>19.0</td>\n",
       "      <td>10,000+</td>\n",
       "      <td>Free</td>\n",
       "      <td>0</td>\n",
       "      <td>Everyone</td>\n",
       "      <td>Art &amp; Design</td>\n",
       "      <td>January 7, 2018</td>\n",
       "      <td>1.0.0</td>\n",
       "      <td>4.0.3 and up</td>\n",
       "    </tr>\n",
       "    <tr>\n",
       "      <th>1</th>\n",
       "      <td>1</td>\n",
       "      <td>Coloring book moana</td>\n",
       "      <td>ART_AND_DESIGN</td>\n",
       "      <td>3.9</td>\n",
       "      <td>967</td>\n",
       "      <td>14.0</td>\n",
       "      <td>500,000+</td>\n",
       "      <td>Free</td>\n",
       "      <td>0</td>\n",
       "      <td>Everyone</td>\n",
       "      <td>Art &amp; Design;Pretend Play</td>\n",
       "      <td>January 15, 2018</td>\n",
       "      <td>2.0.0</td>\n",
       "      <td>4.0.3 and up</td>\n",
       "    </tr>\n",
       "    <tr>\n",
       "      <th>2</th>\n",
       "      <td>2</td>\n",
       "      <td>U Launcher Lite – FREE Live Cool Themes, Hide ...</td>\n",
       "      <td>ART_AND_DESIGN</td>\n",
       "      <td>4.7</td>\n",
       "      <td>87510</td>\n",
       "      <td>8.7</td>\n",
       "      <td>5,000,000+</td>\n",
       "      <td>Free</td>\n",
       "      <td>0</td>\n",
       "      <td>Everyone</td>\n",
       "      <td>Art &amp; Design</td>\n",
       "      <td>August 1, 2018</td>\n",
       "      <td>1.2.4</td>\n",
       "      <td>4.0.3 and up</td>\n",
       "    </tr>\n",
       "    <tr>\n",
       "      <th>3</th>\n",
       "      <td>3</td>\n",
       "      <td>Sketch - Draw &amp; Paint</td>\n",
       "      <td>ART_AND_DESIGN</td>\n",
       "      <td>4.5</td>\n",
       "      <td>215644</td>\n",
       "      <td>25.0</td>\n",
       "      <td>50,000,000+</td>\n",
       "      <td>Free</td>\n",
       "      <td>0</td>\n",
       "      <td>Teen</td>\n",
       "      <td>Art &amp; Design</td>\n",
       "      <td>June 8, 2018</td>\n",
       "      <td>Varies with device</td>\n",
       "      <td>4.2 and up</td>\n",
       "    </tr>\n",
       "    <tr>\n",
       "      <th>4</th>\n",
       "      <td>4</td>\n",
       "      <td>Pixel Draw - Number Art Coloring Book</td>\n",
       "      <td>ART_AND_DESIGN</td>\n",
       "      <td>4.3</td>\n",
       "      <td>967</td>\n",
       "      <td>2.8</td>\n",
       "      <td>100,000+</td>\n",
       "      <td>Free</td>\n",
       "      <td>0</td>\n",
       "      <td>Everyone</td>\n",
       "      <td>Art &amp; Design;Creativity</td>\n",
       "      <td>June 20, 2018</td>\n",
       "      <td>1.1</td>\n",
       "      <td>4.4 and up</td>\n",
       "    </tr>\n",
       "  </tbody>\n",
       "</table>\n",
       "</div>"
      ],
      "text/plain": [
       "   Unnamed: 0                                                App  \\\n",
       "0           0     Photo Editor & Candy Camera & Grid & ScrapBook   \n",
       "1           1                                Coloring book moana   \n",
       "2           2  U Launcher Lite – FREE Live Cool Themes, Hide ...   \n",
       "3           3                              Sketch - Draw & Paint   \n",
       "4           4              Pixel Draw - Number Art Coloring Book   \n",
       "\n",
       "         Category  Rating  Reviews  Size     Installs  Type Price  \\\n",
       "0  ART_AND_DESIGN     4.1      159  19.0      10,000+  Free     0   \n",
       "1  ART_AND_DESIGN     3.9      967  14.0     500,000+  Free     0   \n",
       "2  ART_AND_DESIGN     4.7    87510   8.7   5,000,000+  Free     0   \n",
       "3  ART_AND_DESIGN     4.5   215644  25.0  50,000,000+  Free     0   \n",
       "4  ART_AND_DESIGN     4.3      967   2.8     100,000+  Free     0   \n",
       "\n",
       "  Content Rating                     Genres      Last Updated  \\\n",
       "0       Everyone               Art & Design   January 7, 2018   \n",
       "1       Everyone  Art & Design;Pretend Play  January 15, 2018   \n",
       "2       Everyone               Art & Design    August 1, 2018   \n",
       "3           Teen               Art & Design      June 8, 2018   \n",
       "4       Everyone    Art & Design;Creativity     June 20, 2018   \n",
       "\n",
       "          Current Ver   Android Ver  \n",
       "0               1.0.0  4.0.3 and up  \n",
       "1               2.0.0  4.0.3 and up  \n",
       "2               1.2.4  4.0.3 and up  \n",
       "3  Varies with device    4.2 and up  \n",
       "4                 1.1    4.4 and up  "
      ]
     },
     "metadata": {},
     "output_type": "display_data"
    }
   ],
   "source": [
    "apps = pd.read_csv(APPS_CSV)\n",
    "reviews = pd.read_csv(REVIEWS_CSV)\n",
    "\n",
    "# Quick peek\n",
    "print(\"Apps shape:\", apps.shape)\n",
    "display(apps.head())"
   ]
  },
  {
   "cell_type": "code",
   "execution_count": 5,
   "id": "7cf48250-5c4b-4e9f-ace6-83448ed525cd",
   "metadata": {},
   "outputs": [
    {
     "name": "stdout",
     "output_type": "stream",
     "text": [
      "\n",
      "Reviews shape: (64295, 5)\n"
     ]
    },
    {
     "data": {
      "text/html": [
       "<div>\n",
       "<style scoped>\n",
       "    .dataframe tbody tr th:only-of-type {\n",
       "        vertical-align: middle;\n",
       "    }\n",
       "\n",
       "    .dataframe tbody tr th {\n",
       "        vertical-align: top;\n",
       "    }\n",
       "\n",
       "    .dataframe thead th {\n",
       "        text-align: right;\n",
       "    }\n",
       "</style>\n",
       "<table border=\"1\" class=\"dataframe\">\n",
       "  <thead>\n",
       "    <tr style=\"text-align: right;\">\n",
       "      <th></th>\n",
       "      <th>App</th>\n",
       "      <th>Translated_Review</th>\n",
       "      <th>Sentiment</th>\n",
       "      <th>Sentiment_Polarity</th>\n",
       "      <th>Sentiment_Subjectivity</th>\n",
       "    </tr>\n",
       "  </thead>\n",
       "  <tbody>\n",
       "    <tr>\n",
       "      <th>0</th>\n",
       "      <td>10 Best Foods for You</td>\n",
       "      <td>I like eat delicious food. That's I'm cooking ...</td>\n",
       "      <td>Positive</td>\n",
       "      <td>1.00</td>\n",
       "      <td>0.533333</td>\n",
       "    </tr>\n",
       "    <tr>\n",
       "      <th>1</th>\n",
       "      <td>10 Best Foods for You</td>\n",
       "      <td>This help eating healthy exercise regular basis</td>\n",
       "      <td>Positive</td>\n",
       "      <td>0.25</td>\n",
       "      <td>0.288462</td>\n",
       "    </tr>\n",
       "    <tr>\n",
       "      <th>2</th>\n",
       "      <td>10 Best Foods for You</td>\n",
       "      <td>NaN</td>\n",
       "      <td>NaN</td>\n",
       "      <td>NaN</td>\n",
       "      <td>NaN</td>\n",
       "    </tr>\n",
       "    <tr>\n",
       "      <th>3</th>\n",
       "      <td>10 Best Foods for You</td>\n",
       "      <td>Works great especially going grocery store</td>\n",
       "      <td>Positive</td>\n",
       "      <td>0.40</td>\n",
       "      <td>0.875000</td>\n",
       "    </tr>\n",
       "    <tr>\n",
       "      <th>4</th>\n",
       "      <td>10 Best Foods for You</td>\n",
       "      <td>Best idea us</td>\n",
       "      <td>Positive</td>\n",
       "      <td>1.00</td>\n",
       "      <td>0.300000</td>\n",
       "    </tr>\n",
       "  </tbody>\n",
       "</table>\n",
       "</div>"
      ],
      "text/plain": [
       "                     App                                  Translated_Review  \\\n",
       "0  10 Best Foods for You  I like eat delicious food. That's I'm cooking ...   \n",
       "1  10 Best Foods for You    This help eating healthy exercise regular basis   \n",
       "2  10 Best Foods for You                                                NaN   \n",
       "3  10 Best Foods for You         Works great especially going grocery store   \n",
       "4  10 Best Foods for You                                       Best idea us   \n",
       "\n",
       "  Sentiment  Sentiment_Polarity  Sentiment_Subjectivity  \n",
       "0  Positive                1.00                0.533333  \n",
       "1  Positive                0.25                0.288462  \n",
       "2       NaN                 NaN                     NaN  \n",
       "3  Positive                0.40                0.875000  \n",
       "4  Positive                1.00                0.300000  "
      ]
     },
     "metadata": {},
     "output_type": "display_data"
    }
   ],
   "source": [
    "print(\"\\nReviews shape:\", reviews.shape)\n",
    "display(reviews.head())"
   ]
  },
  {
   "cell_type": "code",
   "execution_count": 6,
   "id": "ae51f1a5-eca8-4cc3-92ce-4020c53a139c",
   "metadata": {},
   "outputs": [
    {
     "name": "stdout",
     "output_type": "stream",
     "text": [
      "Rating -> numeric, nulls: 1463\n"
     ]
    }
   ],
   "source": [
    "# Common cleaning routines (adapt column names if your file differs)\n",
    "# 1) Strip whitespace from column names\n",
    "apps.columns = apps.columns.str.strip()\n",
    "reviews.columns = reviews.columns.str.strip()\n",
    "\n",
    "# 2) Normalize common columns: 'Rating', 'Size', 'Installs', 'Price', 'Last Updated'\n",
    "# Example conversions:\n",
    "def clean_rating(df, col='Rating'):\n",
    "    if col in df.columns:\n",
    "        df[col] = pd.to_numeric(df[col], errors='coerce')\n",
    "        print(f\"{col} -> numeric, nulls: {df[col].isna().sum()}\")\n",
    "\n",
    "def clean_installs(df, col='Installs'):\n",
    "    if col in df.columns:\n",
    "        s = df[col].astype(str).str.replace('[+,]', '', regex=True).str.replace('Free', '', regex=False).str.strip()\n",
    "        s = s.replace({'Varies with device': np.nan})\n",
    "        df[col] = pd.to_numeric(s, errors='coerce')\n",
    "\n",
    "def clean_price(df, col='Price'):\n",
    "    if col in df.columns:\n",
    "        s = df[col].astype(str).str.replace('[$,]', '', regex=True).str.strip()\n",
    "        s = s.replace({'Everyone': np.nan})\n",
    "        df[col] = pd.to_numeric(s, errors='coerce')\n",
    "\n",
    "clean_rating(apps, 'Rating')\n",
    "clean_installs(apps, 'Installs')\n",
    "clean_price(apps, 'Price')"
   ]
  },
  {
   "cell_type": "code",
   "execution_count": 7,
   "id": "ea556ae5-51c2-46bd-bb1d-8a0f912bb617",
   "metadata": {},
   "outputs": [
    {
     "name": "stdout",
     "output_type": "stream",
     "text": [
      "Dropped exact duplicates: 0\n",
      "<class 'pandas.core.frame.DataFrame'>\n",
      "RangeIndex: 9659 entries, 0 to 9658\n",
      "Data columns (total 15 columns):\n",
      " #   Column          Non-Null Count  Dtype         \n",
      "---  ------          --------------  -----         \n",
      " 0   Unnamed: 0      9659 non-null   int64         \n",
      " 1   App             9659 non-null   object        \n",
      " 2   Category        9659 non-null   object        \n",
      " 3   Rating          8196 non-null   float64       \n",
      " 4   Reviews         9659 non-null   int64         \n",
      " 5   Size            8432 non-null   float64       \n",
      " 6   Installs        9659 non-null   int64         \n",
      " 7   Type            9659 non-null   object        \n",
      " 8   Price           9659 non-null   float64       \n",
      " 9   Content Rating  9659 non-null   object        \n",
      " 10  Genres          9659 non-null   object        \n",
      " 11  Last Updated    9659 non-null   datetime64[ns]\n",
      " 12  Current Ver     9651 non-null   object        \n",
      " 13  Android Ver     9657 non-null   object        \n",
      " 14  Size_kb         8432 non-null   float64       \n",
      "dtypes: datetime64[ns](1), float64(4), int64(3), object(7)\n",
      "memory usage: 1.1+ MB\n"
     ]
    },
    {
     "data": {
      "text/plain": [
       "None"
      ]
     },
     "metadata": {},
     "output_type": "display_data"
    }
   ],
   "source": [
    "# 3) Clean 'Size' (e.g., \"19M\", \"1,000k\", \"Varies with device\")\n",
    "if 'Size' in apps.columns:\n",
    "    def size_to_kb(s):\n",
    "        s = str(s).strip()\n",
    "        if s in ['Varies with device', '', 'nan', 'None']:\n",
    "            return np.nan\n",
    "        if s.endswith('M'):\n",
    "            try: return float(s[:-1]) * 1024\n",
    "            except: return np.nan\n",
    "        if s.endswith('k'):\n",
    "            try: return float(s[:-1])\n",
    "            except: return np.nan\n",
    "        # number alone in bytes? try numeric\n",
    "        try:\n",
    "            return float(s) / 1024\n",
    "        except:\n",
    "            return np.nan\n",
    "    apps['Size_kb'] = apps['Size'].apply(size_to_kb)\n",
    "\n",
    "# 4) Dates\n",
    "if 'Last Updated' in apps.columns:\n",
    "    apps['Last Updated'] = pd.to_datetime(apps['Last Updated'], errors='coerce')\n",
    "\n",
    "# 5) Drop exact duplicates\n",
    "before = len(apps)\n",
    "apps = apps.drop_duplicates()\n",
    "after = len(apps)\n",
    "print(f\"Dropped exact duplicates: {before-after}\")\n",
    "\n",
    "# Show cleaned dtypes summary\n",
    "display(apps.info())"
   ]
  },
  {
   "cell_type": "markdown",
   "id": "ea0e0b19-cf63-4362-a758-bac2badab828",
   "metadata": {},
   "source": [
    "# 3. Category Exploration"
   ]
  },
  {
   "cell_type": "code",
   "execution_count": 13,
   "id": "e5855066-8db6-445d-af4d-5c8e0a6db6d9",
   "metadata": {},
   "outputs": [
    {
     "data": {
      "text/html": [
       "<div>\n",
       "<style scoped>\n",
       "    .dataframe tbody tr th:only-of-type {\n",
       "        vertical-align: middle;\n",
       "    }\n",
       "\n",
       "    .dataframe tbody tr th {\n",
       "        vertical-align: top;\n",
       "    }\n",
       "\n",
       "    .dataframe thead th {\n",
       "        text-align: right;\n",
       "    }\n",
       "</style>\n",
       "<table border=\"1\" class=\"dataframe\">\n",
       "  <thead>\n",
       "    <tr style=\"text-align: right;\">\n",
       "      <th></th>\n",
       "      <th>category</th>\n",
       "      <th>count</th>\n",
       "    </tr>\n",
       "  </thead>\n",
       "  <tbody>\n",
       "    <tr>\n",
       "      <th>0</th>\n",
       "      <td>FAMILY</td>\n",
       "      <td>1832</td>\n",
       "    </tr>\n",
       "    <tr>\n",
       "      <th>1</th>\n",
       "      <td>GAME</td>\n",
       "      <td>959</td>\n",
       "    </tr>\n",
       "    <tr>\n",
       "      <th>2</th>\n",
       "      <td>TOOLS</td>\n",
       "      <td>827</td>\n",
       "    </tr>\n",
       "    <tr>\n",
       "      <th>3</th>\n",
       "      <td>BUSINESS</td>\n",
       "      <td>420</td>\n",
       "    </tr>\n",
       "    <tr>\n",
       "      <th>4</th>\n",
       "      <td>MEDICAL</td>\n",
       "      <td>395</td>\n",
       "    </tr>\n",
       "    <tr>\n",
       "      <th>5</th>\n",
       "      <td>PERSONALIZATION</td>\n",
       "      <td>376</td>\n",
       "    </tr>\n",
       "    <tr>\n",
       "      <th>6</th>\n",
       "      <td>PRODUCTIVITY</td>\n",
       "      <td>374</td>\n",
       "    </tr>\n",
       "    <tr>\n",
       "      <th>7</th>\n",
       "      <td>LIFESTYLE</td>\n",
       "      <td>369</td>\n",
       "    </tr>\n",
       "    <tr>\n",
       "      <th>8</th>\n",
       "      <td>FINANCE</td>\n",
       "      <td>345</td>\n",
       "    </tr>\n",
       "    <tr>\n",
       "      <th>9</th>\n",
       "      <td>SPORTS</td>\n",
       "      <td>325</td>\n",
       "    </tr>\n",
       "    <tr>\n",
       "      <th>10</th>\n",
       "      <td>COMMUNICATION</td>\n",
       "      <td>315</td>\n",
       "    </tr>\n",
       "    <tr>\n",
       "      <th>11</th>\n",
       "      <td>HEALTH_AND_FITNESS</td>\n",
       "      <td>288</td>\n",
       "    </tr>\n",
       "    <tr>\n",
       "      <th>12</th>\n",
       "      <td>PHOTOGRAPHY</td>\n",
       "      <td>281</td>\n",
       "    </tr>\n",
       "    <tr>\n",
       "      <th>13</th>\n",
       "      <td>NEWS_AND_MAGAZINES</td>\n",
       "      <td>254</td>\n",
       "    </tr>\n",
       "    <tr>\n",
       "      <th>14</th>\n",
       "      <td>SOCIAL</td>\n",
       "      <td>239</td>\n",
       "    </tr>\n",
       "  </tbody>\n",
       "</table>\n",
       "</div>"
      ],
      "text/plain": [
       "              category  count\n",
       "0               FAMILY   1832\n",
       "1                 GAME    959\n",
       "2                TOOLS    827\n",
       "3             BUSINESS    420\n",
       "4              MEDICAL    395\n",
       "5      PERSONALIZATION    376\n",
       "6         PRODUCTIVITY    374\n",
       "7            LIFESTYLE    369\n",
       "8              FINANCE    345\n",
       "9               SPORTS    325\n",
       "10       COMMUNICATION    315\n",
       "11  HEALTH_AND_FITNESS    288\n",
       "12         PHOTOGRAPHY    281\n",
       "13  NEWS_AND_MAGAZINES    254\n",
       "14              SOCIAL    239"
      ]
     },
     "metadata": {},
     "output_type": "display_data"
    }
   ],
   "source": [
    "category_col = 'Category'  # change to match dataset\n",
    "\n",
    "if category_col not in apps.columns:\n",
    "    raise KeyError(f\"'{category_col}' column not found in apps dataset. Columns: {apps.columns.tolist()}\")\n",
    "\n",
    "cat_counts = apps[category_col].value_counts().rename_axis('category').reset_index(name='count')\n",
    "display(cat_counts.head(15))"
   ]
  },
  {
   "cell_type": "code",
   "execution_count": 11,
   "id": "b5cc42cc-f7e8-431c-85b8-9fc8fe39739c",
   "metadata": {},
   "outputs": [
    {
     "data": {
      "image/png": "[encoded data removed]",
      "text/plain": [
       "<Figure size 1000x600 with 1 Axes>"
      ]
     },
     "metadata": {},
     "output_type": "display_data"
    }
   ],
   "source": [
    "# Bar chart - top 15 categories\n",
    "top_n = 15\n",
    "top = cat_counts.head(top_n)\n",
    "plt.figure(figsize=(10,6))\n",
    "plt.barh(top['category'][::-1], top['count'][::-1])\n",
    "plt.title(f\"Top {top_n} Categories by Number of Apps\")\n",
    "plt.xlabel(\"Number of apps\")\n",
    "plt.ylabel(\"Category\")\n",
    "plt.tight_layout()\n",
    "plt.show()"
   ]
  },
  {
   "cell_type": "code",
   "execution_count": 12,
   "id": "653572de-26c5-43e2-b4d0-3700f588e0b3",
   "metadata": {},
   "outputs": [
    {
     "data": {
      "text/html": [
       "<div>\n",
       "<style scoped>\n",
       "    .dataframe tbody tr th:only-of-type {\n",
       "        vertical-align: middle;\n",
       "    }\n",
       "\n",
       "    .dataframe tbody tr th {\n",
       "        vertical-align: top;\n",
       "    }\n",
       "\n",
       "    .dataframe thead th {\n",
       "        text-align: right;\n",
       "    }\n",
       "</style>\n",
       "<table border=\"1\" class=\"dataframe\">\n",
       "  <thead>\n",
       "    <tr style=\"text-align: right;\">\n",
       "      <th></th>\n",
       "      <th>category</th>\n",
       "      <th>count</th>\n",
       "      <th>pct</th>\n",
       "    </tr>\n",
       "  </thead>\n",
       "  <tbody>\n",
       "    <tr>\n",
       "      <th>0</th>\n",
       "      <td>FAMILY</td>\n",
       "      <td>1832</td>\n",
       "      <td>18.966767</td>\n",
       "    </tr>\n",
       "    <tr>\n",
       "      <th>1</th>\n",
       "      <td>GAME</td>\n",
       "      <td>959</td>\n",
       "      <td>9.928564</td>\n",
       "    </tr>\n",
       "    <tr>\n",
       "      <th>2</th>\n",
       "      <td>TOOLS</td>\n",
       "      <td>827</td>\n",
       "      <td>8.561963</td>\n",
       "    </tr>\n",
       "    <tr>\n",
       "      <th>3</th>\n",
       "      <td>BUSINESS</td>\n",
       "      <td>420</td>\n",
       "      <td>4.348276</td>\n",
       "    </tr>\n",
       "    <tr>\n",
       "      <th>4</th>\n",
       "      <td>MEDICAL</td>\n",
       "      <td>395</td>\n",
       "      <td>4.089450</td>\n",
       "    </tr>\n",
       "    <tr>\n",
       "      <th>5</th>\n",
       "      <td>PERSONALIZATION</td>\n",
       "      <td>376</td>\n",
       "      <td>3.892743</td>\n",
       "    </tr>\n",
       "    <tr>\n",
       "      <th>6</th>\n",
       "      <td>PRODUCTIVITY</td>\n",
       "      <td>374</td>\n",
       "      <td>3.872036</td>\n",
       "    </tr>\n",
       "    <tr>\n",
       "      <th>7</th>\n",
       "      <td>LIFESTYLE</td>\n",
       "      <td>369</td>\n",
       "      <td>3.820271</td>\n",
       "    </tr>\n",
       "    <tr>\n",
       "      <th>8</th>\n",
       "      <td>FINANCE</td>\n",
       "      <td>345</td>\n",
       "      <td>3.571798</td>\n",
       "    </tr>\n",
       "    <tr>\n",
       "      <th>9</th>\n",
       "      <td>SPORTS</td>\n",
       "      <td>325</td>\n",
       "      <td>3.364738</td>\n",
       "    </tr>\n",
       "  </tbody>\n",
       "</table>\n",
       "</div>"
      ],
      "text/plain": [
       "          category  count        pct\n",
       "0           FAMILY   1832  18.966767\n",
       "1             GAME    959   9.928564\n",
       "2            TOOLS    827   8.561963\n",
       "3         BUSINESS    420   4.348276\n",
       "4          MEDICAL    395   4.089450\n",
       "5  PERSONALIZATION    376   3.892743\n",
       "6     PRODUCTIVITY    374   3.872036\n",
       "7        LIFESTYLE    369   3.820271\n",
       "8          FINANCE    345   3.571798\n",
       "9           SPORTS    325   3.364738"
      ]
     },
     "metadata": {},
     "output_type": "display_data"
    }
   ],
   "source": [
    "# Percentage share\n",
    "cat_counts['pct'] = 100 * cat_counts['count'] / cat_counts['count'].sum()\n",
    "display(cat_counts.head(10))"
   ]
  },
  {
   "cell_type": "markdown",
   "id": "d29086fd-a68a-4d23-a767-f1808acbfd6e",
   "metadata": {},
   "source": [
    "# 4. Metrics Analysis (ratings, size, installs, price)"
   ]
  },
  {
   "cell_type": "code",
   "execution_count": 19,
   "id": "4724199c-1ee3-49e3-b083-78ad4c347435",
   "metadata": {},
   "outputs": [
    {
     "data": {
      "image/png": "[encoded data removed]",
      "text/plain": [
       "<Figure size 1000x500 with 1 Axes>"
      ]
     },
     "metadata": {},
     "output_type": "display_data"
    },
    {
     "name": "stdout",
     "output_type": "stream",
     "text": [
      "Rating stats:\n",
      " count    8196.000000\n",
      "mean        4.173243\n",
      "std         0.536625\n",
      "min         1.000000\n",
      "25%         4.000000\n",
      "50%         4.300000\n",
      "75%         4.500000\n",
      "max         5.000000\n",
      "Name: Rating, dtype: float64\n"
     ]
    }
   ],
   "source": [
    "# Ratings distribution\n",
    "if 'Rating' in apps.columns:\n",
    "    plt.figure()\n",
    "    apps['Rating'].dropna().hist(bins=20)\n",
    "    plt.title(\"Distribution of App Ratings\")\n",
    "    plt.xlabel(\"Rating\")\n",
    "    plt.ylabel(\"Count\")\n",
    "    plt.show()\n",
    "    print(\"Rating stats:\\n\", apps['Rating'].describe())"
   ]
  },
  {
   "cell_type": "code",
   "execution_count": 16,
   "id": "7a859ee0-d91d-4ea8-89a7-10dac1a0a508",
   "metadata": {},
   "outputs": [
    {
     "data": {
      "image/png": "[encoded data removed]",
      "text/plain": [
       "<Figure size 1000x500 with 1 Axes>"
      ]
     },
     "metadata": {},
     "output_type": "display_data"
    }
   ],
   "source": [
    "# Installs vs Rating (scatter)\n",
    "if 'Installs' in apps.columns and 'Rating' in apps.columns:\n",
    "    # remove extreme nulls\n",
    "    df_scatter = apps.dropna(subset=['Installs', 'Rating'])\n",
    "    plt.figure()\n",
    "    plt.scatter(df_scatter['Installs'], df_scatter['Rating'], alpha=0.3)\n",
    "    plt.xscale('log')  # installs are usually skewed\n",
    "    plt.title(\"Installs vs Rating (log scale on Installs)\")\n",
    "    plt.xlabel(\"Installs (log scale)\")\n",
    "    plt.ylabel(\"Rating\")\n",
    "    plt.show()"
   ]
  },
  {
   "cell_type": "code",
   "execution_count": 17,
   "id": "1f35946d-a960-4eb7-8c57-7683d94e28fb",
   "metadata": {},
   "outputs": [
    {
     "name": "stdout",
     "output_type": "stream",
     "text": [
      "Free vs Paid counts:\n"
     ]
    },
    {
     "data": {
      "text/plain": [
       "is_paid\n",
       "False    8903\n",
       "True      756\n",
       "Name: count, dtype: int64"
      ]
     },
     "metadata": {},
     "output_type": "display_data"
    },
    {
     "data": {
      "text/plain": [
       "<Figure size 1000x600 with 0 Axes>"
      ]
     },
     "metadata": {},
     "output_type": "display_data"
    },
    {
     "data": {
      "image/png": "[encoded data removed]",
      "text/plain": [
       "<Figure size 1000x500 with 1 Axes>"
      ]
     },
     "metadata": {},
     "output_type": "display_data"
    }
   ],
   "source": [
    "# Price analysis\n",
    "if 'Price' in apps.columns:\n",
    "    print(\"Free vs Paid counts:\")\n",
    "    apps['is_paid'] = apps['Price'].fillna(0) > 0\n",
    "    display(apps['is_paid'].value_counts())\n",
    "    # Boxplot of price by top categories (paid apps only)\n",
    "    paid = apps[apps['is_paid']]\n",
    "    top_cats = cat_counts.head(8)['category'].tolist()\n",
    "    subset = paid[paid[category_col].isin(top_cats)]\n",
    "    if not subset.empty:\n",
    "        plt.figure(figsize=(10,6))\n",
    "        # simple price boxplot by category\n",
    "        subset.boxplot(column='Price', by=category_col, rot=45)\n",
    "        plt.title(\"Paid App Price by Category - top categories\")\n",
    "        plt.suptitle('')\n",
    "        plt.xlabel('')\n",
    "        plt.ylabel(\"Price (USD)\")\n",
    "        plt.show()"
   ]
  },
  {
   "cell_type": "code",
   "execution_count": 18,
   "id": "c734d0ec-4270-4482-94d9-dc78cac256b5",
   "metadata": {},
   "outputs": [
    {
     "data": {
      "image/png": "[encoded data removed]",
      "text/plain": [
       "<Figure size 1000x500 with 1 Axes>"
      ]
     },
     "metadata": {},
     "output_type": "display_data"
    }
   ],
   "source": [
    "# Size vs Installs (scatter) - Size_kb from cleaning\n",
    "if 'Size_kb' in apps.columns and 'Installs' in apps.columns:\n",
    "    df_sz = apps.dropna(subset=['Size_kb', 'Installs'])\n",
    "    plt.figure()\n",
    "    plt.scatter(df_sz['Size_kb'], df_sz['Installs'], alpha=0.3)\n",
    "    plt.xscale('log'); plt.yscale('log')\n",
    "    plt.xlabel(\"Size (KB, log)\")\n",
    "    plt.ylabel(\"Installs (log)\")\n",
    "    plt.title(\"App Size vs Installs (log-log)\")\n",
    "    plt.show()\n"
   ]
  },
  {
   "cell_type": "markdown",
   "id": "31f0a267-257b-4a3d-95c5-84e6ced5e049",
   "metadata": {},
   "source": [
    "# 5. Sentiment Analysis of Reviews"
   ]
  },
  {
   "cell_type": "code",
   "execution_count": 25,
   "id": "cbb6d449-d386-4185-969d-630cdc8d3be0",
   "metadata": {},
   "outputs": [
    {
     "name": "stdout",
     "output_type": "stream",
     "text": [
      "Index(['App', 'Translated_Review', 'Sentiment', 'Sentiment_Polarity',\n",
      "       'Sentiment_Subjectivity'],\n",
      "      dtype='object')\n"
     ]
    },
    {
     "data": {
      "image/png": "[encoded data removed]",
      "text/plain": [
       "<Figure size 600x400 with 1 Axes>"
      ]
     },
     "metadata": {},
     "output_type": "display_data"
    }
   ],
   "source": [
    "import pandas as pd\n",
    "import matplotlib.pyplot as plt\n",
    "import seaborn as sns\n",
    "\n",
    "# Load the reviews file\n",
    "reviews = pd.read_csv(\"user_reviews.csv\")\n",
    "\n",
    "# Check columns\n",
    "print(reviews.columns)\n",
    "\n",
    "# Drop rows with no Sentiment\n",
    "reviews = reviews.dropna(subset=['Sentiment'])\n",
    "\n",
    "# Sentiment distribution\n",
    "sentiment_counts = reviews['Sentiment'].value_counts()\n",
    "\n",
    "plt.figure(figsize=(6, 4))\n",
    "sns.barplot(x=sentiment_counts.index, y=sentiment_counts.values, palette='viridis')\n",
    "plt.title('Sentiment Distribution in User Reviews')\n",
    "plt.xlabel('Sentiment')\n",
    "plt.ylabel('Number of Reviews')\n",
    "plt.show()"
   ]
  },
  {
   "cell_type": "code",
   "execution_count": 26,
   "id": "5f742598-e4d9-48a1-9975-1b6119a28930",
   "metadata": {},
   "outputs": [
    {
     "data": {
      "image/png": "[encoded data removed]",
      "text/plain": [
       "<Figure size 800x500 with 1 Axes>"
      ]
     },
     "metadata": {},
     "output_type": "display_data"
    }
   ],
   "source": [
    "# Average polarity & subjectivity per sentiment\n",
    "sentiment_stats = reviews.groupby('Sentiment')[['Sentiment_Polarity', 'Sentiment_Subjectivity']].mean().reset_index()\n",
    "\n",
    "plt.figure(figsize=(8, 5))\n",
    "sns.barplot(data=sentiment_stats, x='Sentiment', y='Sentiment_Polarity', palette='coolwarm')\n",
    "plt.title('Average Sentiment Polarity by Sentiment Label')\n",
    "plt.ylabel('Average Polarity')\n",
    "plt.show()"
   ]
  },
  {
   "cell_type": "code",
   "execution_count": 27,
   "id": "8259cd09-ca06-4cf7-8520-98e727d4e9c1",
   "metadata": {},
   "outputs": [
    {
     "data": {
      "image/png": "[encoded data removed]",
      "text/plain": [
       "<Figure size 800x500 with 1 Axes>"
      ]
     },
     "metadata": {},
     "output_type": "display_data"
    }
   ],
   "source": [
    "plt.figure(figsize=(8, 5))\n",
    "sns.barplot(data=sentiment_stats, x='Sentiment', y='Sentiment_Subjectivity', palette='coolwarm')\n",
    "plt.title('Average Subjectivity by Sentiment Label')\n",
    "plt.ylabel('Average Subjectivity')\n",
    "plt.show()"
   ]
  },
  {
   "cell_type": "markdown",
   "id": "4083886d-507b-496c-ac0a-6bdaf5ee2b21",
   "metadata": {},
   "source": [
    "# 6. Interactive visualization (Plotly) — example: category counts & interactive scatter"
   ]
  },
  {
   "cell_type": "code",
   "execution_count": 36,
   "id": "3864f93e-12a3-42e7-b79f-6f16bc5fc371",
   "metadata": {},
   "outputs": [
    {
     "data": {
      "application/vnd.plotly.v1+json": {
       "config": {
        "plotlyServerURL": "https://plot.ly"
       },
       "data": [
        {
         "hovertemplate": "category=%{x}<br>count=%{y}<extra></extra>",
         "legendgroup": "",
         "marker": {
          "color": "#636efa",
          "pattern": {
           "shape": ""
          }
         },
         "name": "",
         "orientation": "v",
         "showlegend": false,
         "textposition": "auto",
         "type": "bar",
         "x": [
          "FAMILY",
          "GAME",
          "TOOLS",
          "BUSINESS",
          "MEDICAL",
          "PERSONALIZATION",
          "PRODUCTIVITY",
          "LIFESTYLE",
          "FINANCE",
          "SPORTS",
          "COMMUNICATION",
          "HEALTH_AND_FITNESS",
          "PHOTOGRAPHY",
          "NEWS_AND_MAGAZINES",
          "SOCIAL",
          "BOOKS_AND_REFERENCE",
          "TRAVEL_AND_LOCAL",
          "SHOPPING",
          "DATING",
          "VIDEO_PLAYERS"
         ],
         "xaxis": "x",
         "y": {
          "bdata": "KAe/AzsDpAGLAXgBdgFxAVkBRQE7ASABGQH+AO8A3gDbAMoAqwCjAA==",
          "dtype": "i2"
         },
         "yaxis": "y"
        }
       ],
       "layout": {
        "barmode": "relative",
        "legend": {
         "tracegroupgap": 0
        },
        "template": {
         "data": {
          "bar": [
           {
            "error_x": {
             "color": "#2a3f5f"
            },
            "error_y": {
             "color": "#2a3f5f"
            },
            "marker": {
             "line": {
              "color": "#E5ECF6",
              "width": 0.5
             },
             "pattern": {
              "fillmode": "overlay",
              "size": 10,
              "solidity": 0.2
             }
            },
            "type": "bar"
           }
          ],
          "barpolar": [
           {
            "marker": {
             "line": {
              "color": "#E5ECF6",
              "width": 0.5
             },
             "pattern": {
              "fillmode": "overlay",
              "size": 10,
              "solidity": 0.2
             }
            },
            "type": "barpolar"
           }
          ],
          "carpet": [
           {
            "aaxis": {
             "endlinecolor": "#2a3f5f",
             "gridcolor": "white",
             "linecolor": "white",
             "minorgridcolor": "white",
             "startlinecolor": "#2a3f5f"
            },
            "baxis": {
             "endlinecolor": "#2a3f5f",
             "gridcolor": "white",
             "linecolor": "white",
             "minorgridcolor": "white",
             "startlinecolor": "#2a3f5f"
            },
            "type": "carpet"
           }
          ],
          "choropleth": [
           {
            "colorbar": {
             "outlinewidth": 0,
             "ticks": ""
            },
            "type": "choropleth"
           }
          ],
          "contour": [
           {
            "colorbar": {
             "outlinewidth": 0,
             "ticks": ""
            },
            "colorscale": [
             [
              0,
              "#0d0887"
             ],
             [
              0.1111111111111111,
              "#46039f"
             ],
             [
              0.2222222222222222,
              "#7201a8"
             ],
             [
              0.3333333333333333,
              "#9c179e"
             ],
             [
              0.4444444444444444,
              "#bd3786"
             ],
             [
              0.5555555555555556,
              "#d8576b"
             ],
             [
              0.6666666666666666,
              "#ed7953"
             ],
             [
              0.7777777777777778,
              "#fb9f3a"
             ],
             [
              0.8888888888888888,
              "#fdca26"
             ],
             [
              1,
              "#f0f921"
             ]
            ],
            "type": "contour"
           }
          ],
          "contourcarpet": [
           {
            "colorbar": {
             "outlinewidth": 0,
             "ticks": ""
            },
            "type": "contourcarpet"
           }
          ],
          "heatmap": [
           {
            "colorbar": {
             "outlinewidth": 0,
             "ticks": ""
            },
            "colorscale": [
             [
              0,
              "#0d0887"
             ],
             [
              0.1111111111111111,
              "#46039f"
             ],
             [
              0.2222222222222222,
              "#7201a8"
             ],
             [
              0.3333333333333333,
              "#9c179e"
             ],
             [
              0.4444444444444444,
              "#bd3786"
             ],
             [
              0.5555555555555556,
              "#d8576b"
             ],
             [
              0.6666666666666666,
              "#ed7953"
             ],
             [
              0.7777777777777778,
              "#fb9f3a"
             ],
             [
              0.8888888888888888,
              "#fdca26"
             ],
             [
              1,
              "#f0f921"
             ]
            ],
            "type": "heatmap"
           }
          ],
          "histogram": [
           {
            "marker": {
             "pattern": {
              "fillmode": "overlay",
              "size": 10,
              "solidity": 0.2
             }
            },
            "type": "histogram"
           }
          ],
          "histogram2d": [
           {
            "colorbar": {
             "outlinewidth": 0,
             "ticks": ""
            },
            "colorscale": [
             [
              0,
              "#0d0887"
             ],
             [
              0.1111111111111111,
              "#46039f"
             ],
             [
              0.2222222222222222,
              "#7201a8"
             ],
             [
              0.3333333333333333,
              "#9c179e"
             ],
             [
              0.4444444444444444,
              "#bd3786"
             ],
             [
              0.5555555555555556,
              "#d8576b"
             ],
             [
              0.6666666666666666,
              "#ed7953"
             ],
             [
              0.7777777777777778,
              "#fb9f3a"
             ],
             [
              0.8888888888888888,
              "#fdca26"
             ],
             [
              1,
              "#f0f921"
             ]
            ],
            "type": "histogram2d"
           }
          ],
          "histogram2dcontour": [
           {
            "colorbar": {
             "outlinewidth": 0,
             "ticks": ""
            },
            "colorscale": [
             [
              0,
              "#0d0887"
             ],
             [
              0.1111111111111111,
              "#46039f"
             ],
             [
              0.2222222222222222,
              "#7201a8"
             ],
             [
              0.3333333333333333,
              "#9c179e"
             ],
             [
              0.4444444444444444,
              "#bd3786"
             ],
             [
              0.5555555555555556,
              "#d8576b"
             ],
             [
              0.6666666666666666,
              "#ed7953"
             ],
             [
              0.7777777777777778,
              "#fb9f3a"
             ],
             [
              0.8888888888888888,
              "#fdca26"
             ],
             [
              1,
              "#f0f921"
             ]
            ],
            "type": "histogram2dcontour"
           }
          ],
          "mesh3d": [
           {
            "colorbar": {
             "outlinewidth": 0,
             "ticks": ""
            },
            "type": "mesh3d"
           }
          ],
          "parcoords": [
           {
            "line": {
             "colorbar": {
              "outlinewidth": 0,
              "ticks": ""
             }
            },
            "type": "parcoords"
           }
          ],
          "pie": [
           {
            "automargin": true,
            "type": "pie"
           }
          ],
          "scatter": [
           {
            "fillpattern": {
             "fillmode": "overlay",
             "size": 10,
             "solidity": 0.2
            },
            "type": "scatter"
           }
          ],
          "scatter3d": [
           {
            "line": {
             "colorbar": {
              "outlinewidth": 0,
              "ticks": ""
             }
            },
            "marker": {
             "colorbar": {
              "outlinewidth": 0,
              "ticks": ""
             }
            },
            "type": "scatter3d"
           }
          ],
          "scattercarpet": [
           {
            "marker": {
             "colorbar": {
              "outlinewidth": 0,
              "ticks": ""
             }
            },
            "type": "scattercarpet"
           }
          ],
          "scattergeo": [
           {
            "marker": {
             "colorbar": {
              "outlinewidth": 0,
              "ticks": ""
             }
            },
            "type": "scattergeo"
           }
          ],
          "scattergl": [
           {
            "marker": {
             "colorbar": {
              "outlinewidth": 0,
              "ticks": ""
             }
            },
            "type": "scattergl"
           }
          ],
          "scattermap": [
           {
            "marker": {
             "colorbar": {
              "outlinewidth": 0,
              "ticks": ""
             }
            },
            "type": "scattermap"
           }
          ],
          "scattermapbox": [
           {
            "marker": {
             "colorbar": {
              "outlinewidth": 0,
              "ticks": ""
             }
            },
            "type": "scattermapbox"
           }
          ],
          "scatterpolar": [
           {
            "marker": {
             "colorbar": {
              "outlinewidth": 0,
              "ticks": ""
             }
            },
            "type": "scatterpolar"
           }
          ],
          "scatterpolargl": [
           {
            "marker": {
             "colorbar": {
              "outlinewidth": 0,
              "ticks": ""
             }
            },
            "type": "scatterpolargl"
           }
          ],
          "scatterternary": [
           {
            "marker": {
             "colorbar": {
              "outlinewidth": 0,
              "ticks": ""
             }
            },
            "type": "scatterternary"
           }
          ],
          "surface": [
           {
            "colorbar": {
             "outlinewidth": 0,
             "ticks": ""
            },
            "colorscale": [
             [
              0,
              "#0d0887"
             ],
             [
              0.1111111111111111,
              "#46039f"
             ],
             [
              0.2222222222222222,
              "#7201a8"
             ],
             [
              0.3333333333333333,
              "#9c179e"
             ],
             [
              0.4444444444444444,
              "#bd3786"
             ],
             [
              0.5555555555555556,
              "#d8576b"
             ],
             [
              0.6666666666666666,
              "#ed7953"
             ],
             [
              0.7777777777777778,
              "#fb9f3a"
             ],
             [
              0.8888888888888888,
              "#fdca26"
             ],
             [
              1,
              "#f0f921"
             ]
            ],
            "type": "surface"
           }
          ],
          "table": [
           {
            "cells": {
             "fill": {
              "color": "#EBF0F8"
             },
             "line": {
              "color": "white"
             }
            },
            "header": {
             "fill": {
              "color": "#C8D4E3"
             },
             "line": {
              "color": "white"
             }
            },
            "type": "table"
           }
          ]
         },
         "layout": {
          "annotationdefaults": {
           "arrowcolor": "#2a3f5f",
           "arrowhead": 0,
           "arrowwidth": 1
          },
          "autotypenumbers": "strict",
          "coloraxis": {
           "colorbar": {
            "outlinewidth": 0,
            "ticks": ""
           }
          },
          "colorscale": {
           "diverging": [
            [
             0,
             "#8e0152"
            ],
            [
             0.1,
             "#c51b7d"
            ],
            [
             0.2,
             "#de77ae"
            ],
            [
             0.3,
             "#f1b6da"
            ],
            [
             0.4,
             "#fde0ef"
            ],
            [
             0.5,
             "#f7f7f7"
            ],
            [
             0.6,
             "#e6f5d0"
            ],
            [
             0.7,
             "#b8e186"
            ],
            [
             0.8,
             "#7fbc41"
            ],
            [
             0.9,
             "#4d9221"
            ],
            [
             1,
             "#276419"
            ]
           ],
           "sequential": [
            [
             0,
             "#0d0887"
            ],
            [
             0.1111111111111111,
             "#46039f"
            ],
            [
             0.2222222222222222,
             "#7201a8"
            ],
            [
             0.3333333333333333,
             "#9c179e"
            ],
            [
             0.4444444444444444,
             "#bd3786"
            ],
            [
             0.5555555555555556,
             "#d8576b"
            ],
            [
             0.6666666666666666,
             "#ed7953"
            ],
            [
             0.7777777777777778,
             "#fb9f3a"
            ],
            [
             0.8888888888888888,
             "#fdca26"
            ],
            [
             1,
             "#f0f921"
            ]
           ],
           "sequentialminus": [
            [
             0,
             "#0d0887"
            ],
            [
             0.1111111111111111,
             "#46039f"
            ],
            [
             0.2222222222222222,
             "#7201a8"
            ],
            [
             0.3333333333333333,
             "#9c179e"
            ],
            [
             0.4444444444444444,
             "#bd3786"
            ],
            [
             0.5555555555555556,
             "#d8576b"
            ],
            [
             0.6666666666666666,
             "#ed7953"
            ],
            [
             0.7777777777777778,
             "#fb9f3a"
            ],
            [
             0.8888888888888888,
             "#fdca26"
            ],
            [
             1,
             "#f0f921"
            ]
           ]
          },
          "colorway": [
           "#636efa",
           "#EF553B",
           "#00cc96",
           "#ab63fa",
           "#FFA15A",
           "#19d3f3",
           "#FF6692",
           "#B6E880",
           "#FF97FF",
           "#FECB52"
          ],
          "font": {
           "color": "#2a3f5f"
          },
          "geo": {
           "bgcolor": "white",
           "lakecolor": "white",
           "landcolor": "#E5ECF6",
           "showlakes": true,
           "showland": true,
           "subunitcolor": "white"
          },
          "hoverlabel": {
           "align": "left"
          },
          "hovermode": "closest",
          "mapbox": {
           "style": "light"
          },
          "paper_bgcolor": "white",
          "plot_bgcolor": "#E5ECF6",
          "polar": {
           "angularaxis": {
            "gridcolor": "white",
            "linecolor": "white",
            "ticks": ""
           },
           "bgcolor": "#E5ECF6",
           "radialaxis": {
            "gridcolor": "white",
            "linecolor": "white",
            "ticks": ""
           }
          },
          "scene": {
           "xaxis": {
            "backgroundcolor": "#E5ECF6",
            "gridcolor": "white",
            "gridwidth": 2,
            "linecolor": "white",
            "showbackground": true,
            "ticks": "",
            "zerolinecolor": "white"
           },
           "yaxis": {
            "backgroundcolor": "#E5ECF6",
            "gridcolor": "white",
            "gridwidth": 2,
            "linecolor": "white",
            "showbackground": true,
            "ticks": "",
            "zerolinecolor": "white"
           },
           "zaxis": {
            "backgroundcolor": "#E5ECF6",
            "gridcolor": "white",
            "gridwidth": 2,
            "linecolor": "white",
            "showbackground": true,
            "ticks": "",
            "zerolinecolor": "white"
           }
          },
          "shapedefaults": {
           "line": {
            "color": "#2a3f5f"
           }
          },
          "ternary": {
           "aaxis": {
            "gridcolor": "white",
            "linecolor": "white",
            "ticks": ""
           },
           "baxis": {
            "gridcolor": "white",
            "linecolor": "white",
            "ticks": ""
           },
           "bgcolor": "#E5ECF6",
           "caxis": {
            "gridcolor": "white",
            "linecolor": "white",
            "ticks": ""
           }
          },
          "title": {
           "x": 0.05
          },
          "xaxis": {
           "automargin": true,
           "gridcolor": "white",
           "linecolor": "white",
           "ticks": "",
           "title": {
            "standoff": 15
           },
           "zerolinecolor": "white",
           "zerolinewidth": 2
          },
          "yaxis": {
           "automargin": true,
           "gridcolor": "white",
           "linecolor": "white",
           "ticks": "",
           "title": {
            "standoff": 15
           },
           "zerolinecolor": "white",
           "zerolinewidth": 2
          }
         }
        },
        "title": {
         "text": "Top 20 Categories (interactive)"
        },
        "xaxis": {
         "anchor": "y",
         "domain": [
          0,
          1
         ],
         "tickangle": -45,
         "title": {
          "text": "category"
         }
        },
        "yaxis": {
         "anchor": "x",
         "domain": [
          0,
          1
         ],
         "title": {
          "text": "count"
         }
        }
       }
      },
      "image/png": "[encoded data removed]"
     },
     "metadata": {},
     "output_type": "display_data"
    },
    {
     "data": {
      "application/vnd.plotly.v1+json": {
       "config": {
        "plotlyServerURL": "https://plot.ly"
       },
       "data": [
        {
         "customdata": [
          [
           "Perfect Piano",
           "GAME"
          ],
          [
           "Alopec - Online Shipping System",
           "MAPS_AND_NAVIGATION"
          ],
          [
           "AS Guía de las Ligas 2017-2018",
           "SPORTS"
          ],
          [
           "Seamless Food Delivery/Takeout",
           "FOOD_AND_DRINK"
          ],
          [
           "EURES - Your Job in Europe",
           "BUSINESS"
          ],
          [
           "ER Doctor Kids Emergency Room",
           "FAMILY"
          ],
          [
           "Justice League Action Run",
           "GAME"
          ],
          [
           "Flud (Ad free)",
           "VIDEO_PLAYERS"
          ],
          [
           "ibis Paint X",
           "ART_AND_DESIGN"
          ],
          [
           "Maps, GPS Navigation & Directions, Street View",
           "MAPS_AND_NAVIGATION"
          ],
          [
           "Let's Learn Alif Ba Ta",
           "FAMILY"
          ],
          [
           "LightMeter Free",
           "PHOTOGRAPHY"
          ],
          [
           "ET Markets : NSE & BSE India",
           "FINANCE"
          ],
          [
           "Water Surfer Floating BMX Bicycle Rider Racing",
           "FAMILY"
          ],
          [
           "CU: UPI Payments, Chat & Call",
           "FINANCE"
          ],
          [
           "360-M Flight",
           "TOOLS"
          ],
          [
           "DreamWorks Friends",
           "FAMILY"
          ],
          [
           "CF-Bench",
           "TOOLS"
          ],
          [
           "Pocket Lab Values",
           "MEDICAL"
          ],
          [
           "ERres- Emergency Medicine",
           "MEDICAL"
          ],
          [
           "It's open.",
           "PARENTING"
          ],
          [
           "Samsung Health",
           "HEALTH_AND_FITNESS"
          ],
          [
           "Starfall Free & Member",
           "FAMILY"
          ],
          [
           "Ant Smasher by Best Cool & Fun Games",
           "GAME"
          ],
          [
           "Essential Anatomy 3",
           "MEDICAL"
          ],
          [
           "iPair-Meet, Chat, Dating",
           "DATING"
          ],
          [
           "PHARMAGUIDE (DZ)",
           "HEALTH_AND_FITNESS"
          ],
          [
           "Tracks",
           "HEALTH_AND_FITNESS"
          ],
          [
           "AP Biology Prep: Practice Tests, Flashcards",
           "FAMILY"
          ],
          [
           "Five Nights at Freddy's 4 Demo",
           "GAME"
          ],
          [
           "DraStic DS Emulator",
           "GAME"
          ],
          [
           "CV EXAMPLES",
           "BUSINESS"
          ],
          [
           "mysms SMS Text Messaging Sync",
           "COMMUNICATION"
          ],
          [
           "Black White Interracial Dating - Interracial Match",
           "DATING"
          ],
          [
           "BBW Dating & Plus Size Chat",
           "DATING"
          ],
          [
           "Turbo FAST",
           "FAMILY"
          ],
          [
           "Smashy Road: Arena",
           "GAME"
          ],
          [
           "ALL-IN-ONE PACKAGE TRACKING",
           "PRODUCTIVITY"
          ],
          [
           "Etsy: Handmade & Vintage Goods",
           "SHOPPING"
          ],
          [
           "EF Financial Control Free",
           "FINANCE"
          ],
          [
           "dt.se",
           "NEWS_AND_MAGAZINES"
          ],
          [
           "BF at Sea Refueled",
           "GAME"
          ],
          [
           "HCP Anywhere",
           "BUSINESS"
          ],
          [
           "My Nexus for CS:S & CS:GO",
           "FAMILY"
          ],
          [
           "Last Shelter: Survival",
           "GAME"
          ],
          [
           "FunnyPixels - Color by number Sandbox",
           "FAMILY"
          ],
          [
           "Daily K-Talk",
           "FAMILY"
          ],
          [
           "AE Garage",
           "AUTO_AND_VEHICLES"
          ],
          [
           "Omlet Arcade - Stream, Meet, Play",
           "VIDEO_PLAYERS"
          ],
          [
           "SPEED L",
           "SHOPPING"
          ],
          [
           "Goldstar: Live Event Tickets",
           "EVENTS"
          ],
          [
           "DX Simulation for Double Dx Henshin Belt 2018",
           "FAMILY"
          ],
          [
           "Onet - news, weather, sport",
           "NEWS_AND_MAGAZINES"
          ],
          [
           "Little Caesars",
           "FOOD_AND_DRINK"
          ],
          [
           "pixiv comic - everyone's manga app",
           "COMICS"
          ],
          [
           "UC Browser Mini -Tiny Fast Private & Secure",
           "COMMUNICATION"
          ],
          [
           "Pic Stitch - #1 Collage Maker",
           "PHOTOGRAPHY"
          ],
          [
           "30 Day AB Challenge - Lumowell",
           "HEALTH_AND_FITNESS"
          ],
          [
           "Hornet - Gay Social Network",
           "SOCIAL"
          ],
          [
           "VSCO",
           "PHOTOGRAPHY"
          ],
          [
           "Caf - My Account",
           "LIFESTYLE"
          ],
          [
           "Loop - Caribbean Local News",
           "NEWS_AND_MAGAZINES"
          ],
          [
           "Disney Magic Timer by Oral-B",
           "FAMILY"
          ],
          [
           "Fashion in Vogue",
           "LIFESTYLE"
          ],
          [
           "Soviet Military Maps Free",
           "MAPS_AND_NAVIGATION"
          ],
          [
           "Delicious Recipes",
           "FOOD_AND_DRINK"
          ],
          [
           "Popsicle Sticks and Similar DIY Craft Ideas",
           "ART_AND_DESIGN"
          ],
          [
           "Rugby AU",
           "SPORTS"
          ],
          [
           "DS-L4 Viewer",
           "PHOTOGRAPHY"
          ],
          [
           "Pulse Nabd - World News, Urgent",
           "NEWS_AND_MAGAZINES"
          ],
          [
           "Google News",
           "NEWS_AND_MAGAZINES"
          ],
          [
           "Gormey: Find Best Restaurants",
           "TRAVEL_AND_LOCAL"
          ],
          [
           "Uber",
           "MAPS_AND_NAVIGATION"
          ],
          [
           "Farm Heroes Saga",
           "GAME"
          ],
          [
           "Naidunia: MP News & CG News",
           "NEWS_AND_MAGAZINES"
          ],
          [
           "Street Panorama View",
           "TRAVEL_AND_LOCAL"
          ],
          [
           "Pixel Draw - Number Art Coloring Book",
           "ART_AND_DESIGN"
          ],
          [
           "Tapas – Comics, Novels, and Stories",
           "COMICS"
          ],
          [
           "FG On-The-Go",
           "TOOLS"
          ],
          [
           "My Virtual Boyfriend",
           "FAMILY"
          ],
          [
           "Univision NOW - Live TV and On Demand",
           "ENTERTAINMENT"
          ],
          [
           "WebCams",
           "WEATHER"
          ],
          [
           "Samsung Calculator",
           "TOOLS"
          ],
          [
           "FH App",
           "BUSINESS"
          ],
          [
           "Build.com - Shop Home Improvement & Expert Advice",
           "HOUSE_AND_HOME"
          ],
          [
           "Masha and Bear: Cooking Dash",
           "FAMILY"
          ],
          [
           "DS file",
           "PRODUCTIVITY"
          ],
          [
           "AO Surgery Reference",
           "MEDICAL"
          ],
          [
           "aCalendar+ Calendar & Tasks",
           "PRODUCTIVITY"
          ],
          [
           "iGun Pro -The Original Gun App",
           "GAME"
          ],
          [
           "BL 1-Click Camera - Free",
           "PHOTOGRAPHY"
          ],
          [
           "CL REPL",
           "TOOLS"
          ],
          [
           "EML UPnP-AV Control Point",
           "VIDEO_PLAYERS"
          ],
          [
           "Cy-Fair Christian Church",
           "LIFESTYLE"
          ],
          [
           "Lep's World 🍀",
           "GAME"
          ],
          [
           "Azar",
           "COMMUNICATION"
          ],
          [
           "Clean My Android",
           "PRODUCTIVITY"
          ],
          [
           "Mail1Click - Secure Mail",
           "COMMUNICATION"
          ],
          [
           "The wall",
           "SHOPPING"
          ],
          [
           "VH1",
           "ENTERTAINMENT"
          ],
          [
           "Curio Quest",
           "FAMILY"
          ],
          [
           "Resume App",
           "BUSINESS"
          ],
          [
           "Visual Voicemail by MetroPCS",
           "BUSINESS"
          ],
          [
           "Baby Sleep: White noise lullabies for newborns",
           "PARENTING"
          ],
          [
           "BlackCam Pro - B&W Camera",
           "PHOTOGRAPHY"
          ],
          [
           "Crew - Free Messaging and Scheduling",
           "BUSINESS"
          ],
          [
           "Tagged - Meet, Chat & Dating",
           "SOCIAL"
          ],
          [
           "CCP DZ : Fill out a check | Number in letters DZD",
           "FINANCE"
          ],
          [
           "Message AI - Write Better Messages (Free)",
           "SOCIAL"
          ],
          [
           "CZ-USA",
           "LIFESTYLE"
          ],
          [
           "Quran Khmer Offline AY",
           "FAMILY"
          ],
          [
           "CG - Calendars Add-On",
           "PRODUCTIVITY"
          ],
          [
           "DK Virtual Reality",
           "FAMILY"
          ],
          [
           "DP and Status for WhatsApp 2018",
           "SOCIAL"
          ],
          [
           "Family Locator - GPS Tracker",
           "LIFESTYLE"
          ],
          [
           "Resume Maker / CV creator & Templates",
           "TOOLS"
          ],
          [
           "EU Flags Live Wallpaper",
           "PERSONALIZATION"
          ],
          [
           "YAZIO Calorie Counter, Nutrition Diary & Diet Plan",
           "HEALTH_AND_FITNESS"
          ],
          [
           "Dragon X Adventure: Warrior Z",
           "GAME"
          ],
          [
           "DG Screen Recorder",
           "VIDEO_PLAYERS"
          ],
          [
           "BN Pro Play-b HD Text",
           "LIBRARIES_AND_DEMO"
          ],
          [
           "2018Emoji Keyboard 😂 Emoticons Lite -sticker&gif",
           "PERSONALIZATION"
          ],
          [
           "AllTrails: Hiking, Running & Mountain Bike Trails",
           "HEALTH_AND_FITNESS"
          ],
          [
           "PLANK!",
           "GAME"
          ],
          [
           "DIRECTV for Tablets",
           "FAMILY"
          ],
          [
           "World Newspapers",
           "NEWS_AND_MAGAZINES"
          ],
          [
           "ABS Workout - Belly workout, 30 days AB",
           "HEALTH_AND_FITNESS"
          ],
          [
           "Shopee: No.1 Online Shopping",
           "SHOPPING"
          ],
          [
           "Ringtones & Wallpapers for Me",
           "PERSONALIZATION"
          ],
          [
           "Recipes Pastries and homemade pies More than 500 recipes for pastries",
           "FOOD_AND_DRINK"
          ],
          [
           "MUTV - Manchester United TV",
           "SPORTS"
          ],
          [
           "EF Teacher",
           "FAMILY"
          ],
          [
           "Cinematic Cinematic",
           "ENTERTAINMENT"
          ],
          [
           "CF",
           "FINANCE"
          ],
          [
           "American Sniper City Fight Shooting Assassin",
           "GAME"
          ],
          [
           "Wordscapes",
           "GAME"
          ],
          [
           "Advanced Download Manager",
           "TOOLS"
          ],
          [
           "FG Mobile",
           "FAMILY"
          ],
          [
           "Korean English Translator",
           "FAMILY"
          ],
          [
           "DV Lottery Photo Tool",
           "PHOTOGRAPHY"
          ],
          [
           "Camera ZOOM FX - FREE",
           "PHOTOGRAPHY"
          ],
          [
           "Sydney FC Official App",
           "SPORTS"
          ],
          [
           "Sweet Camera",
           "PHOTOGRAPHY"
          ],
          [
           "Pluto TV - It’s Free TV",
           "ENTERTAINMENT"
          ],
          [
           "EF Mentor: Words",
           "FAMILY"
          ],
          [
           "Mappy - Plan, route comparison, GPS",
           "MAPS_AND_NAVIGATION"
          ],
          [
           "Tropical Beach Live Wallpaper",
           "PERSONALIZATION"
          ],
          [
           "Mental Hospital V",
           "GAME"
          ],
          [
           "Sago Mini Babies",
           "FAMILY"
          ],
          [
           "Esporte Interativo Plus",
           "SPORTS"
          ],
          [
           "Regal Cinemas",
           "ENTERTAINMENT"
          ],
          [
           "BV Sridhara Maharaj",
           "FAMILY"
          ],
          [
           "Weather Crave",
           "WEATHER"
          ],
          [
           "Earth & Moon in HD Gyro 3D Parallax Live Wallpaper",
           "PERSONALIZATION"
          ],
          [
           "Photo Lab Picture Editor: face effects, art frames",
           "PHOTOGRAPHY"
          ],
          [
           "AK Interactive",
           "FAMILY"
          ],
          [
           "Bike Racing 3D",
           "GAME"
          ],
          [
           "My G:",
           "MAPS_AND_NAVIGATION"
          ],
          [
           "Sudoku Master",
           "GAME"
          ],
          [
           "Motorola Assist",
           "TOOLS"
          ],
          [
           "Polaris Office for LG",
           "BUSINESS"
          ],
          [
           "Denis Brogniart - AH !",
           "FAMILY"
          ],
          [
           "Hily: Dating, Chat, Match, Meet & Hook up",
           "DATING"
          ],
          [
           "Alachua County Sheriff FL",
           "LIFESTYLE"
          ],
          [
           "Color CL",
           "LIFESTYLE"
          ],
          [
           "AZ Practice Test & Questions",
           "FAMILY"
          ],
          [
           "Mahjong",
           "FAMILY"
          ],
          [
           "Textgram - write on photos",
           "ART_AND_DESIGN"
          ],
          [
           "Job CV Maker-Portfolio Maker , Resume Maker",
           "FAMILY"
          ],
          [
           "LEGO ® Batman: Beyond Gotham",
           "FAMILY"
          ],
          [
           "Arena of Valor: 5v5 Arena Game",
           "GAME"
          ],
          [
           "Ustream",
           "VIDEO_PLAYERS"
          ],
          [
           "V.360° Camera",
           "PHOTOGRAPHY"
          ],
          [
           "AK-47 sounds",
           "FAMILY"
          ],
          [
           "Cx File Explorer",
           "TOOLS"
          ],
          [
           "Mirror - Zoom & Exposure -",
           "BEAUTY"
          ],
          [
           "BAC DZ Questionnaire",
           "FAMILY"
          ],
          [
           "EC Calgary",
           "FAMILY"
          ],
          [
           "Noot-Noot-er!",
           "FAMILY"
          ],
          [
           "The Pursuit of God",
           "BOOKS_AND_REFERENCE"
          ],
          [
           "Female Daily",
           "BEAUTY"
          ],
          [
           "EU Charter",
           "BOOKS_AND_REFERENCE"
          ],
          [
           "Beautiful Design Birthday Cake",
           "LIFESTYLE"
          ],
          [
           "BM Wallet",
           "FINANCE"
          ],
          [
           "WannaMeet – Dating & Chat App",
           "DATING"
          ],
          [
           "3G/4G Config Dz",
           "TOOLS"
          ],
          [
           "Puffin for Facebook",
           "SOCIAL"
          ],
          [
           "Instant Buttons: The Best Soundboard",
           "FAMILY"
          ],
          [
           "MyAV Remote for Denon & Marantz AV Receivers",
           "LIFESTYLE"
          ],
          [
           "Servers Ultimate Pack B",
           "TOOLS"
          ],
          [
           "Permit Test FL Florida DHSMV",
           "FAMILY"
          ],
          [
           "DT Manager",
           "PRODUCTIVITY"
          ],
          [
           "BeyondPod Podcast Manager",
           "NEWS_AND_MAGAZINES"
          ],
          [
           "Video Downloader For FB: Save FB Videos 2018",
           "TOOLS"
          ],
          [
           "HTC Sense Input - CZ",
           "TOOLS"
          ],
          [
           "AV Phonetics",
           "FAMILY"
          ],
          [
           "Draw a Stickman: EPIC 2 Free",
           "GAME"
          ],
          [
           "FP FCU",
           "FINANCE"
          ],
          [
           "Web Browser ( Fast & Secure Web Explorer)",
           "SOCIAL"
          ],
          [
           "Baldur's Gate: Enhanced Edition",
           "FAMILY"
          ],
          [
           "F*ck This Game",
           "GAME"
          ],
          [
           "Farming Simulator 16",
           "FAMILY"
          ],
          [
           "MailChimp - Email, Marketing Automation",
           "BUSINESS"
          ],
          [
           "Tattoo Name On My Photo Editor",
           "ART_AND_DESIGN"
          ],
          [
           "Cyprus CU Mobile Banking",
           "FINANCE"
          ],
          [
           "DS Helpdesk Plus",
           "BUSINESS"
          ],
          [
           "I Am Rich Premium",
           "FINANCE"
          ],
          [
           "Learn English with El Chavo.",
           "FAMILY"
          ],
          [
           "BT Camera",
           "PHOTOGRAPHY"
          ],
          [
           "Cardio Journal — Blood Pressure Log",
           "MEDICAL"
          ],
          [
           "Google Trips - Travel Planner",
           "TRAVEL_AND_LOCAL"
          ],
          [
           "Houzz Interior Design Ideas",
           "HOUSE_AND_HOME"
          ],
          [
           "Learn Top 300 English Words",
           "FAMILY"
          ],
          [
           "CT-Guide & Positioning",
           "FAMILY"
          ],
          [
           "DG Users",
           "PRODUCTIVITY"
          ],
          [
           "El Falı",
           "FAMILY"
          ],
          [
           "Replika",
           "FAMILY"
          ],
          [
           "CG FM",
           "FAMILY"
          ],
          [
           "30 Day Ab Challenge FREE",
           "HEALTH_AND_FITNESS"
          ],
          [
           "TravelPirates",
           "TRAVEL_AND_LOCAL"
          ],
          [
           "Race the Traffic Moto",
           "GAME"
          ],
          [
           "ChatVideo Meet new people",
           "DATING"
          ],
          [
           "Talkie - Wi-Fi Calling, Chats, File Sharing",
           "COMMUNICATION"
          ],
          [
           "EF Universe: Endless Battle",
           "FAMILY"
          ],
          [
           "WatchESPN",
           "SPORTS"
          ],
          [
           "Adobe Premiere Clip",
           "VIDEO_PLAYERS"
          ],
          [
           "Poly Art: Paint by Sticker, Color by Number Puzzle",
           "FAMILY"
          ],
          [
           "Burrito Bash – We Bare Bears",
           "FAMILY"
          ],
          [
           "BD Hospital's",
           "FAMILY"
          ],
          [
           "Crayola Color Blaster",
           "GAME"
          ],
          [
           "Start Meeting",
           "BUSINESS"
          ],
          [
           "Google AdSense",
           "PRODUCTIVITY"
          ],
          [
           "Eyes Makeup Beauty Tips",
           "BEAUTY"
          ],
          [
           "Mirror",
           "LIFESTYLE"
          ],
          [
           "Watch AW-7",
           "TOOLS"
          ],
          [
           "DN Calculators",
           "FINANCE"
          ],
          [
           "Word Crossy - A crossword game",
           "GAME"
          ],
          [
           "My Earthquake Alerts - US & Worldwide Earthquakes",
           "WEATHER"
          ],
          [
           "TV Local El Salvador",
           "FAMILY"
          ],
          [
           "HD Video Player (wmv,avi,mp4,flv,av,mpg,mkv)2017",
           "VIDEO_PLAYERS"
          ],
          [
           "V for Voodoo",
           "GAME"
          ],
          [
           "[ROOT] X Privacy Installer",
           "TOOLS"
          ],
          [
           "AW Browser with Chrome Custom Tabs",
           "TOOLS"
          ],
          [
           "Fever Care",
           "MEDICAL"
          ],
          [
           "PK and DK Audio App",
           "FAMILY"
          ],
          [
           "My College Bookstore",
           "SHOPPING"
          ],
          [
           "The Walking Dead: Our World",
           "GAME"
          ],
          [
           "Punjab Online - Land Records • EB Bill Pay • RC/DL",
           "TOOLS"
          ],
          [
           "Mercari: The Selling App",
           "SHOPPING"
          ],
          [
           "FiSwitch",
           "TOOLS"
          ],
          [
           "Five Nights at Neighbor House",
           "GAME"
          ],
          [
           "play2prep: ACT, SAT prep",
           "EDUCATION"
          ],
          [
           "Skull Widget BW",
           "PERSONALIZATION"
          ],
          [
           "AP Calculus BC: Practice Tests and Flashcards",
           "FAMILY"
          ],
          [
           "FotMob - Live Soccer Scores",
           "SPORTS"
          ],
          [
           "German Listening",
           "FAMILY"
          ],
          [
           "All Video Downloader",
           "VIDEO_PLAYERS"
          ],
          [
           "Natural recipes for your beauty",
           "BEAUTY"
          ],
          [
           "High School Simulator 2017",
           "FAMILY"
          ],
          [
           "Camera FV-5 Lite",
           "PHOTOGRAPHY"
          ],
          [
           "Hot Wheels: Race Off",
           "FAMILY"
          ],
          [
           "Map Coordinates",
           "MAPS_AND_NAVIGATION"
          ],
          [
           "DS Flashlight",
           "TOOLS"
          ],
          [
           "Sky People (SPI): A secure blind date through authentication by Seoul National University",
           "DATING"
          ],
          [
           "AE + Aerie: Jeans, Dresses, Swimsuits & Bralettes",
           "SHOPPING"
          ],
          [
           "Airplane Pilot Car Transporter",
           "FAMILY"
          ],
          [
           "My CookBook Pro (Ad Free)",
           "FOOD_AND_DRINK"
          ],
          [
           "el",
           "FAMILY"
          ],
          [
           "Ruler",
           "HOUSE_AND_HOME"
          ],
          [
           "MARCA - Sports Leader Diary",
           "SPORTS"
          ],
          [
           "LG Health",
           "HEALTH_AND_FITNESS"
          ],
          [
           "Millionaire Quiz Free: Be Rich",
           "FAMILY"
          ],
          [
           "Let's Poke The Egg",
           "GAME"
          ],
          [
           "LINE Camera - Photo editor",
           "PHOTOGRAPHY"
          ],
          [
           "SnowMobile Parking Adventure",
           "GAME"
          ],
          [
           "GITZ.bz",
           "SHOPPING"
          ],
          [
           "live Point",
           "MEDICAL"
          ],
          [
           "Dragon Ball Wallpaper - Ringtones",
           "COMICS"
          ],
          [
           "Good room network fast rent",
           "HOUSE_AND_HOME"
          ],
          [
           "R Language Reference Guide",
           "BOOKS_AND_REFERENCE"
          ],
          [
           "Multiling O Keyboard + emoji",
           "PRODUCTIVITY"
          ],
          [
           "Fill 'er Up",
           "TRAVEL_AND_LOCAL"
          ],
          [
           "Learn To Draw Glow Flower",
           "FAMILY"
          ],
          [
           "Graffiti Letters (A-Z)",
           "LIFESTYLE"
          ],
          [
           "Mingle - Online Dating App to Chat & Meet People",
           "DATING"
          ],
          [
           "EZ TV Player",
           "VIDEO_PLAYERS"
          ],
          [
           "MLB Ballpark",
           "SPORTS"
          ],
          [
           "Multiple Sclerosis Dx & Mgmt.",
           "MEDICAL"
          ],
          [
           "Virtual Walkie Talkie",
           "COMMUNICATION"
          ],
          [
           "iSwipe Phone X",
           "TOOLS"
          ],
          [
           "dk",
           "FAMILY"
          ],
          [
           "AT&T Digital Life",
           "LIFESTYLE"
          ],
          [
           "Savory - Deals,Freebies,Sales",
           "SHOPPING"
          ],
          [
           "Food Calorie Calculator",
           "HEALTH_AND_FITNESS"
          ],
          [
           "DT Baby Cam",
           "TOOLS"
          ],
          [
           "ap,wifi testing,iperf,ping,android,Bluetooth,tcp",
           "TOOLS"
          ],
          [
           "Florida Driver License Test",
           "FAMILY"
          ],
          [
           "FP Click sound changer",
           "PERSONALIZATION"
          ],
          [
           "Diabetes, Blood Pressure, Health Tracker App",
           "MEDICAL"
          ],
          [
           "Dr. Sudoku",
           "FAMILY"
          ],
          [
           "Baba Yaad Hai?(BK's)",
           "FAMILY"
          ],
          [
           "Dr. Panda's Swimming Pool",
           "FAMILY"
          ],
          [
           "N-Back",
           "FAMILY"
          ],
          [
           "Diary with lock",
           "LIFESTYLE"
          ],
          [
           "DroidAdmin for Android - Advice",
           "EVENTS"
          ],
          [
           "Piczle Lines DX",
           "FAMILY"
          ],
          [
           "Weapon AK-74 Live Wallpaper",
           "PERSONALIZATION"
          ],
          [
           "CINEMA.BH",
           "FAMILY"
          ],
          [
           "GoodRx Drug Prices and Coupons",
           "MEDICAL"
          ],
          [
           "BW-Go",
           "GAME"
          ],
          [
           "Partymasters - Fun Idle Game",
           "GAME"
          ],
          [
           "E*TRADE Mobile",
           "FINANCE"
          ],
          [
           "GlassesOff",
           "MEDICAL"
          ],
          [
           "Teeny Titans - Teen Titans Go!",
           "FAMILY"
          ],
          [
           "Flippy Axe : Flip The Knife & Axe Simulator",
           "GAME"
          ],
          [
           "CK FFXIV Companion",
           "FAMILY"
          ],
          [
           "Skill Tree - BL Pre Sequel",
           "FAMILY"
          ],
          [
           "Awake Dating",
           "DATING"
          ],
          [
           "R. Physics Puzzle Game",
           "FAMILY"
          ],
          [
           "Deus Ex GO",
           "FAMILY"
          ],
          [
           "Superheroes, Marvel, DC, Comics, TV, Movies News",
           "COMICS"
          ],
          [
           "NPR News",
           "NEWS_AND_MAGAZINES"
          ],
          [
           "Snake VS Block",
           "GAME"
          ],
          [
           "TI-84 CE Graphing Calculator Manual TI 84",
           "FAMILY"
          ],
          [
           "Turbo AI™ - Personal assistant",
           "PRODUCTIVITY"
          ],
          [
           "CBRadioTab",
           "TOOLS"
          ],
          [
           "Je Parle ANGLAIS - Apprendre l’anglais Audio cours",
           "FAMILY"
          ],
          [
           "EzCalculator",
           "TOOLS"
          ],
          [
           "Calculator - unit converter",
           "PRODUCTIVITY"
          ],
          [
           "EP RSS Reader",
           "COMMUNICATION"
          ],
          [
           "GTS-M",
           "TOOLS"
          ],
          [
           "AX Video Player",
           "VIDEO_PLAYERS"
          ],
          [
           "Business Calendar 2",
           "PRODUCTIVITY"
          ],
          [
           "Bloomberg Professional",
           "FINANCE"
          ],
          [
           "Z Day: Hearts of Heroes",
           "FAMILY"
          ],
          [
           "Water Surfer Racing In Moto",
           "GAME"
          ],
          [
           "Feed Baby - Baby Tracker",
           "PARENTING"
          ],
          [
           "Star Girl - Fashion, Makeup & Dress Up",
           "FAMILY"
          ],
          [
           "AC Remote for Carrier - NOW FREE",
           "TOOLS"
          ],
          [
           "Baby Game Animal Jam Free",
           "GAME"
          ],
          [
           "The Video Messenger App",
           "SOCIAL"
          ],
          [
           "BN Mi Banco",
           "BUSINESS"
          ],
          [
           "BX Mobile TMC for SAP B1",
           "BUSINESS"
          ],
          [
           "Crazy Doctor",
           "FAMILY"
          ],
          [
           "Microsoft Power BI–Business data analytics",
           "BUSINESS"
          ],
          [
           "BD Internet Packages (Updated)",
           "COMMUNICATION"
          ],
          [
           "Cv maker / Job cv maker",
           "FAMILY"
          ],
          [
           "Birmingham City FC",
           "SPORTS"
          ],
          [
           "Ap Video Downloader for fb New 2018",
           "TOOLS"
          ],
          [
           "Talking Tom & Ben News",
           "FAMILY"
          ],
          [
           "CX-40",
           "FAMILY"
          ],
          [
           "K-@ Mail - Email App",
           "COMMUNICATION"
          ],
          [
           "CQ ESPM",
           "BUSINESS"
          ],
          [
           "Nature Sounds",
           "LIFESTYLE"
          ],
          [
           "Crazy Wheels",
           "GAME"
          ],
          [
           "HSL - Tickets, route planner and information",
           "TRAVEL_AND_LOCAL"
          ],
          [
           "most expensive app (H)",
           "FAMILY"
          ],
          [
           "Bitcoin Bx (Thailand)",
           "FINANCE"
          ],
          [
           "Racing Moto",
           "GAME"
          ],
          [
           "FollowMyHealth®",
           "MEDICAL"
          ],
          [
           "FORUM Credit Union CU Online",
           "FINANCE"
          ],
          [
           "Candy simply-Fi",
           "LIFESTYLE"
          ],
          [
           "Louis CK",
           "FAMILY"
          ],
          [
           "Cy-Fair VFD EMS Protocols",
           "MEDICAL"
          ],
          [
           "Al Jazeera English",
           "NEWS_AND_MAGAZINES"
          ],
          [
           "BM speed test",
           "TOOLS"
          ],
          [
           "Wireless BP",
           "MEDICAL"
          ],
          [
           "SB · FN 1870 Mobile Banking",
           "FINANCE"
          ],
          [
           "BkEmu - BK-0010/11M emulator",
           "FAMILY"
          ],
          [
           "Ice Crush 2018 - A new Puzzle Matching Adventure",
           "GAME"
          ],
          [
           "NBC Sports",
           "SPORTS"
          ],
          [
           "World History Quick e-Book",
           "FAMILY"
          ],
          [
           "Co-op CRS",
           "LIFESTYLE"
          ],
          [
           "LiveMe - Video chat, new friends, and make money",
           "SOCIAL"
          ],
          [
           "daskal.eu",
           "FAMILY"
          ],
          [
           "DZ PROMOS - Promotions & Sale Alerts in Algeria",
           "SHOPPING"
          ],
          [
           "Girly Lock Screen Wallpaper with Quotes",
           "ENTERTAINMENT"
          ],
          [
           "My Days - Ovulation Calendar & Period Tracker ™",
           "HEALTH_AND_FITNESS"
          ],
          [
           "Du Chinese – Mandarin Lessons",
           "FAMILY"
          ],
          [
           "Kimbrough AH",
           "MEDICAL"
          ],
          [
           "Bedroom Decorating Ideas",
           "HOUSE_AND_HOME"
          ],
          [
           "Jumia online shopping",
           "SHOPPING"
          ],
          [
           "QuickBooks Self-Employed:Mileage Tracker and Taxes",
           "FINANCE"
          ],
          [
           "Insta Square Profile DP",
           "PHOTOGRAPHY"
          ],
          [
           "Selfie Camera: Beauty Camera, Photo Editor,Collage",
           "PHOTOGRAPHY"
          ],
          [
           "sustainability@BU",
           "LIFESTYLE"
          ],
          [
           "Rolly Vortex",
           "GAME"
          ],
          [
           "Official AL Fishing & Hunting",
           "TRAVEL_AND_LOCAL"
          ],
          [
           "DRC Sim - Wii U Gamepad",
           "FAMILY"
          ],
          [
           "Freeme Launcher—Stylish Theme",
           "PERSONALIZATION"
          ],
          [
           "SegPlay Mobile Paint by Number",
           "FAMILY"
          ],
          [
           "Shop 'n Save",
           "SHOPPING"
          ],
          [
           "Pic Collage - Photo Editor",
           "PHOTOGRAPHY"
          ],
          [
           "Snapseed",
           "PHOTOGRAPHY"
          ],
          [
           "EZ LED",
           "TOOLS"
          ],
          [
           "Zombie Hunter King",
           "GAME"
          ],
          [
           "Cp Calculator for Evolution:GO",
           "FAMILY"
          ],
          [
           "OnePlus Icon Pack - Square",
           "PERSONALIZATION"
          ],
          [
           "Jazz Wi-Fi",
           "COMMUNICATION"
          ],
          [
           "RocketDial Dialer & Contacts",
           "COMMUNICATION"
          ],
          [
           "X your Ex - Break Up Treatment",
           "HEALTH_AND_FITNESS"
          ],
          [
           "Dp for girls",
           "ART_AND_DESIGN"
          ],
          [
           "Castle Defense 2",
           "FAMILY"
          ],
          [
           "Modern Action Commando 3D",
           "GAME"
          ],
          [
           "Fantasy Football Manager (FPL)",
           "SPORTS"
          ],
          [
           "SarashpazPapion (Cooking with Chef Bowls)",
           "FOOD_AND_DRINK"
          ],
          [
           "I'm Ping Pong King :)",
           "SPORTS"
          ],
          [
           "Stupid Zombies",
           "GAME"
          ],
          [
           "Disaster Will Strike",
           "FAMILY"
          ],
          [
           "Transenger – Ts Dating and Chat for Free",
           "DATING"
          ],
          [
           "US Stock Market",
           "FINANCE"
          ],
          [
           "Kids Doctor ER Emergency Rescue Kids Hospital Game",
           "FAMILY"
          ],
          [
           "Footej Camera",
           "PHOTOGRAPHY"
          ],
          [
           "Dialysis of Drugs",
           "MEDICAL"
          ],
          [
           "EMT Review Plus",
           "MEDICAL"
          ],
          [
           "Hero Fighter X",
           "GAME"
          ],
          [
           "BM FlexCheck",
           "AUTO_AND_VEHICLES"
          ],
          [
           "Crisis Action: 2018 NO.1 FPS",
           "GAME"
          ],
          [
           "My CU - Caucasus University",
           "PRODUCTIVITY"
          ],
          [
           "Moony Lab - Print Photos, Books & Magnets ™",
           "PHOTOGRAPHY"
          ],
          [
           "Radio K - KUOM",
           "FAMILY"
          ],
          [
           "Smart Air Conditioner",
           "TOOLS"
          ],
          [
           "NAVITIME - Map & Transfer Navi",
           "MAPS_AND_NAVIGATION"
          ],
          [
           "Homesnap Real Estate & Rentals",
           "HOUSE_AND_HOME"
          ],
          [
           "EZ Quran",
           "BOOKS_AND_REFERENCE"
          ],
          [
           "Run Sausage Run!",
           "GAME"
          ],
          [
           "Kohl's: Scan, Shop, Pay & Save",
           "SHOPPING"
          ],
          [
           "Pink Water Sakura Keyboard Theme",
           "LIBRARIES_AND_DEMO"
          ],
          [
           "Hard Time (Prison Sim)",
           "GAME"
          ],
          [
           "Interactive CT & MRI Anat.Lite",
           "MEDICAL"
          ],
          [
           "The House of Da Vinci",
           "FAMILY"
          ],
          [
           "Baby Tiger Care - My Cute Virtual Pet Friend",
           "FAMILY"
          ],
          [
           "DS App Manager",
           "TOOLS"
          ],
          [
           "Morse Player Free",
           "FAMILY"
          ],
          [
           "KakaoTalk: Free Calls & Text",
           "COMMUNICATION"
          ],
          [
           "J Touch",
           "TOOLS"
          ],
          [
           "LA Stories 4 New Order Sandbox 2018",
           "GAME"
          ],
          [
           "Dr. Battery - Fast Charger - Super Cleaner 2018",
           "TOOLS"
          ],
          [
           "Permit Test Connecticut CT DMV",
           "FAMILY"
          ],
          [
           "Alabama Gameday Live",
           "SPORTS"
          ],
          [
           "AJ Jump: Animal Jam Kangaroos!",
           "GAME"
          ],
          [
           "Ring",
           "COMMUNICATION"
          ],
          [
           "Child Growth Tracking",
           "PARENTING"
          ],
          [
           "2017 EMRA Antibiotic Guide",
           "MEDICAL"
          ],
          [
           "K.MOJI",
           "FAMILY"
          ],
          [
           "NFP 2018",
           "EVENTS"
          ],
          [
           "Masha and the Bear. Games for kids",
           "FAMILY"
          ],
          [
           "SCM FPS Status",
           "BUSINESS"
          ],
          [
           "My Little Pony Celebration",
           "FAMILY"
          ],
          [
           "FilmoraGo - Free Video Editor",
           "VIDEO_PLAYERS"
          ],
          [
           "How Old am I?",
           "FAMILY"
          ],
          [
           "Limbo PC Emulator QEMU ARM x86",
           "TOOLS"
          ],
          [
           "Arrowhead AH App",
           "MEDICAL"
          ],
          [
           "iProperty Malaysia",
           "HOUSE_AND_HOME"
          ],
          [
           "Basket Manager 2016 Pro",
           "SPORTS"
          ],
          [
           "Klara weather",
           "WEATHER"
          ],
          [
           "Ace Screen Recorder w facecam",
           "TOOLS"
          ],
          [
           "Twice: Buy, Sell Clothing",
           "SHOPPING"
          ],
          [
           "CB Pay",
           "FINANCE"
          ],
          [
           "Futbol24",
           "SPORTS"
          ],
          [
           "EmuBox - Fast Retro Emulator",
           "GAME"
          ],
          [
           "Digital TV",
           "ENTERTAINMENT"
          ],
          [
           "Visage Lab – face retouch",
           "PHOTOGRAPHY"
          ],
          [
           "The Secret Daily Teachings",
           "LIFESTYLE"
          ],
          [
           "Dictionary - WordWeb",
           "BOOKS_AND_REFERENCE"
          ],
          [
           "Commission Manager",
           "PRODUCTIVITY"
          ],
          [
           "NissanConnect® EV & Services",
           "LIFESTYLE"
          ],
          [
           "Dp For WhatsApp",
           "PERSONALIZATION"
          ],
          [
           "I am Rich Premium Plus",
           "FINANCE"
          ],
          [
           "Culver's",
           "LIFESTYLE"
          ],
          [
           "CR Magazine",
           "BUSINESS"
          ],
          [
           "Dr. Chess",
           "GAME"
          ],
          [
           "Toca Life: City",
           "EDUCATION"
          ],
          [
           "U-Report",
           "SOCIAL"
          ],
          [
           "Lottery Results: Florida",
           "FAMILY"
          ],
          [
           "PixelLab - Text on pictures",
           "PHOTOGRAPHY"
          ],
          [
           "Dr.Android Repair Master 2017",
           "PRODUCTIVITY"
          ],
          [
           "Tiny Flashlight + LED",
           "TOOLS"
          ],
          [
           "Basket Manager 2017 Free",
           "SPORTS"
          ],
          [
           "Evolve CP Calc. for PokemonGo",
           "TOOLS"
          ],
          [
           "Profile pictures for WhatsApp",
           "PERSONALIZATION"
          ],
          [
           "Star Wars™: Galaxy of Heroes",
           "FAMILY"
          ],
          [
           "DK Murali",
           "SOCIAL"
          ],
          [
           "DP Editor",
           "PHOTOGRAPHY"
          ],
          [
           "Banking Calculator",
           "FINANCE"
          ],
          [
           "Arto: f.infrared photo",
           "PHOTOGRAPHY"
          ],
          [
           "textPlus: Free Text & Calls",
           "SOCIAL"
          ],
          [
           "Br Browser",
           "SOCIAL"
          ],
          [
           "ES Solar",
           "BUSINESS"
          ],
          [
           "The real aquarium - HD",
           "PERSONALIZATION"
          ],
          [
           "Lazada - Online Shopping & Deals",
           "SHOPPING"
          ],
          [
           "Sudy – Meet Elite & Rich Single",
           "DATING"
          ],
          [
           "Nose Surgery ER Simulator Lite",
           "FAMILY"
          ],
          [
           "ESPN",
           "SPORTS"
          ],
          [
           "OK K.O.! Lakewood Plaza Turbo",
           "FAMILY"
          ],
          [
           "No Crop & Square for Instagram",
           "PHOTOGRAPHY"
          ],
          [
           "BH Cosmetics",
           "BEAUTY"
          ],
          [
           "Toddler Kids Puzzles PUZZINGO",
           "FAMILY"
          ],
          [
           "Jurassic World™ Alive",
           "GAME"
          ],
          [
           "Children's Stories 2018 - The Lion Come Lion",
           "PARENTING"
          ],
          [
           "Bomb and Nade Timer for CS:GO",
           "PRODUCTIVITY"
          ],
          [
           "Remind: School Communication",
           "EDUCATION"
          ],
          [
           "nds4droid",
           "GAME"
          ],
          [
           "Extreme X Ray Robot Stunts",
           "GAME"
          ],
          [
           "Friendly for Facebook",
           "SOCIAL"
          ],
          [
           "CJ Browser - Fast & Private",
           "COMMUNICATION"
          ],
          [
           "PORTABLE SOCCER DX Lite",
           "SPORTS"
          ],
          [
           "Code",
           "VIDEO_PLAYERS"
          ],
          [
           "Educators CU Mobile Banking",
           "FINANCE"
          ],
          [
           "Cars Coloring Pages",
           "EDUCATION"
          ],
          [
           "Yanosik: \"antyradar\", traffic jams, navigation, camera",
           "MAPS_AND_NAVIGATION"
          ],
          [
           "Motorbike Driving Simulator 3D",
           "GAME"
          ],
          [
           "Energenie EG-PM1W Setup Wizard",
           "TOOLS"
          ],
          [
           "Shadowverse CCG",
           "GAME"
          ],
          [
           "ES File Explorer",
           "TOOLS"
          ],
          [
           "Chime - Mobile Banking",
           "FINANCE"
          ],
          [
           "Rope Superhero Unlimited",
           "GAME"
          ],
          [
           "3D Blue Glass Water Keyboard Theme",
           "PERSONALIZATION"
          ],
          [
           "File Commander - File Manager/Explorer",
           "BUSINESS"
          ],
          [
           "TED",
           "EDUCATION"
          ],
          [
           "E!",
           "FAMILY"
          ],
          [
           "TV Guide BR Gold",
           "FAMILY"
          ],
          [
           "DM 24/7",
           "TOOLS"
          ],
          [
           "Peers.TV: broadcast TV channels First, Match TV, TNT ...",
           "ENTERTAINMENT"
          ],
          [
           "Quotes",
           "LIBRARIES_AND_DEMO"
          ],
          [
           "FC Red Bull Salzburg App",
           "SPORTS"
          ],
          [
           "Sotheby's International Realty",
           "LIFESTYLE"
          ],
          [
           "Law of Creation: A Playable Manga",
           "GAME"
          ],
          [
           "iCard BD Plus",
           "SOCIAL"
          ],
          [
           "GKPB FP Online Church",
           "LIFESTYLE"
          ],
          [
           "DIY CD Craft Ideas",
           "LIFESTYLE"
          ],
          [
           "DN Blog",
           "SOCIAL"
          ],
          [
           "Guns'n'Glory WW2 Premium",
           "FAMILY"
          ],
          [
           "Jump'N'Shoot Attack",
           "GAME"
          ],
          [
           "MouseMingle",
           "DATING"
          ],
          [
           "Harkins Theatres",
           "ENTERTAINMENT"
          ],
          [
           "BW-Go Free",
           "GAME"
          ],
          [
           "Diabetes mellitus (DM) from zero to hero",
           "MEDICAL"
          ],
          [
           "SPG: Starwood Hotels & Resorts",
           "TRAVEL_AND_LOCAL"
          ],
          [
           "Device Help",
           "TOOLS"
          ],
          [
           "The Noise-O-Meter",
           "FAMILY"
          ],
          [
           "Professor Online SEDUC-CE",
           "FAMILY"
          ],
          [
           "Black Social",
           "SOCIAL"
          ],
          [
           "Blur Image - DSLR focus effect",
           "PHOTOGRAPHY"
          ],
          [
           "AF Comics Reader - Free",
           "COMICS"
          ],
          [
           "Photo Designer - Write your name with shapes",
           "ART_AND_DESIGN"
          ],
          [
           "Destroy Gunners Σ",
           "GAME"
          ],
          [
           "Northern Lights FREE (Aurora)",
           "PERSONALIZATION"
          ],
          [
           "Step By Step Hairstyles For Women",
           "BEAUTY"
          ],
          [
           "myvi by",
           "MEDICAL"
          ],
          [
           "The Zueira's Voice",
           "TOOLS"
          ],
          [
           "Voice changer with effects",
           "FAMILY"
          ],
          [
           "Daily DM",
           "PERSONALIZATION"
          ],
          [
           "Hypertension High blood pressure",
           "MEDICAL"
          ],
          [
           "CircleCI Viewer",
           "PRODUCTIVITY"
          ],
          [
           "Tumblr",
           "SOCIAL"
          ],
          [
           "H Band 2.0",
           "HEALTH_AND_FITNESS"
          ],
          [
           "Lumosity: #1 Brain Games & Cognitive Training App",
           "EDUCATION"
          ],
          [
           "Space X: Sky Wars of Air Force",
           "GAME"
          ],
          [
           "Fr. Daoud Lamei",
           "FAMILY"
          ],
          [
           "NSE Mobile Trading",
           "FINANCE"
          ],
          [
           "DRAGON QUEST IV",
           "FAMILY"
          ],
          [
           "ESLock File Recovery Lite",
           "PRODUCTIVITY"
          ],
          [
           "Companion for Fortnite & Fortnite Battle Royale",
           "FAMILY"
          ],
          [
           "Brandon Lakes AH",
           "MEDICAL"
          ],
          [
           "BF 4 Guns",
           "FAMILY"
          ],
          [
           "Signal Info",
           "TOOLS"
          ],
          [
           "Extreme Racing 2 - Real driving RC cars game!",
           "FAMILY"
          ],
          [
           "my face",
           "FINANCE"
          ],
          [
           "Genius Scan - PDF Scanner",
           "BUSINESS"
          ],
          [
           "Secret Codes For Android",
           "TOOLS"
          ],
          [
           "Microsoft Word",
           "PRODUCTIVITY"
          ],
          [
           "Match™ Dating - Meet Singles",
           "DATING"
          ],
          [
           "Perfect Viewer",
           "COMICS"
          ],
          [
           "DK Eyewitness Audio Walks",
           "TRAVEL_AND_LOCAL"
          ],
          [
           "My Dressing - Fashion closet",
           "LIFESTYLE"
          ],
          [
           "LabCorp | Patient",
           "MEDICAL"
          ],
          [
           "Catalyst AZ",
           "FAMILY"
          ],
          [
           "Speed Cameras Radar",
           "MAPS_AND_NAVIGATION"
          ],
          [
           "theScore esports",
           "SPORTS"
          ],
          [
           "Weather 14 Days",
           "WEATHER"
          ],
          [
           "Ankle Surgery ER Emergency",
           "FAMILY"
          ],
          [
           "Migraine, Headache Diary HeadApp Pro",
           "MEDICAL"
          ],
          [
           "Free Adblocker Browser - Adblock & Popup Blocker",
           "COMMUNICATION"
          ],
          [
           "ConvertPad - Unit Converter",
           "TOOLS"
          ],
          [
           "Twitch: Livestream Multiplayer Games & Esports",
           "ENTERTAINMENT"
          ],
          [
           "OfferUp - Buy. Sell. Offer Up",
           "SHOPPING"
          ],
          [
           "Gardenscapes",
           "GAME"
          ],
          [
           "BI Office",
           "BUSINESS"
          ],
          [
           "Yahoo! Weather for SH Forecast for understanding the approach of rain clouds Free",
           "WEATHER"
          ],
          [
           "Professional AV Solution & Products information",
           "PRODUCTIVITY"
          ],
          [
           "Mr. Number-Block calls & spam",
           "COMMUNICATION"
          ],
          [
           "Todoist: To-do lists for task management & errands",
           "PRODUCTIVITY"
          ],
          [
           "NetClient CS",
           "BUSINESS"
          ],
          [
           "BW App",
           "LIFESTYLE"
          ],
          [
           "How To Draw Food",
           "ART_AND_DESIGN"
          ],
          [
           "RadRevision: Anatomy on CT",
           "MEDICAL"
          ],
          [
           "Bubble Bo-Bo",
           "FAMILY"
          ],
          [
           "Logo Maker - Small Business",
           "ART_AND_DESIGN"
          ],
          [
           "X Home Bar - Home Bar Gesture Pro",
           "TOOLS"
          ],
          [
           "Deep Breathe BP",
           "HEALTH_AND_FITNESS"
          ],
          [
           "HTC Gallery",
           "VIDEO_PLAYERS"
          ],
          [
           "Choice Hotels",
           "TRAVEL_AND_LOCAL"
          ],
          [
           "Tennis 24 - tennis live scores",
           "SPORTS"
          ],
          [
           "Zenefits",
           "BUSINESS"
          ],
          [
           "Unicorn Photo",
           "PHOTOGRAPHY"
          ],
          [
           "BL Holo Theme",
           "PERSONALIZATION"
          ],
          [
           "Convert Coordinates DM to DMS",
           "MAPS_AND_NAVIGATION"
          ],
          [
           "DK Readers",
           "FAMILY"
          ],
          [
           "Crossy Road",
           "GAME"
          ],
          [
           "CALCU™ Stylish Calculator Free",
           "TOOLS"
          ],
          [
           "Bi en Línea",
           "FINANCE"
          ],
          [
           "SportCAM",
           "TOOLS"
          ],
          [
           "Lose Weight in 30 Days",
           "HEALTH_AND_FITNESS"
          ],
          [
           "EJ Elite Prospects League",
           "SPORTS"
          ],
          [
           "SMS AI Bot",
           "TOOLS"
          ],
          [
           "My Little Princess : Stores",
           "FAMILY"
          ],
          [
           "Snap Cat Face Camera",
           "PHOTOGRAPHY"
          ],
          [
           "Canvas Student",
           "EDUCATION"
          ],
          [
           "OLX - Buy and Sell",
           "SHOPPING"
          ],
          [
           "Ouedkniss",
           "SHOPPING"
          ],
          [
           "Scoompa Video - Slideshow Maker and Video Editor",
           "PHOTOGRAPHY"
          ],
          [
           "QR Code Pro",
           "PRODUCTIVITY"
          ],
          [
           "LG AC Smart Diagnosis",
           "LIFESTYLE"
          ],
          [
           "CV Builder",
           "BUSINESS"
          ],
          [
           "My baby firework (Remove ad)",
           "FAMILY"
          ],
          [
           "Remote for Onkyo AV Receivers & Smart TV/Blu-Ray",
           "TOOLS"
          ],
          [
           "COMSATS BOOK STORE FOR BS(CS)",
           "FAMILY"
          ],
          [
           "A. O. Smith",
           "TOOLS"
          ],
          [
           "Project Fi by Google",
           "TOOLS"
          ],
          [
           "BG Advisor™",
           "TOOLS"
          ],
          [
           "Hum Ek Hain 2.02",
           "SOCIAL"
          ],
          [
           "Selfie Camera",
           "BEAUTY"
          ],
          [
           "AE GTO Racing",
           "GAME"
          ],
          [
           "AKASO DV",
           "TOOLS"
          ],
          [
           "Frontback - Social Photos",
           "SOCIAL"
          ],
          [
           "Free coupons and vouchers",
           "FINANCE"
          ],
          [
           "FP Charging Daydream",
           "PERSONALIZATION"
          ],
          [
           "Sir C J New Primary School",
           "FAMILY"
          ],
          [
           "EZ Thanks",
           "BUSINESS"
          ],
          [
           "Multicraft Miner Exploration",
           "GAME"
          ],
          [
           "Truecaller: Caller ID, SMS spam blocking & Dialer",
           "COMMUNICATION"
          ],
          [
           "dB Sound Level Meter",
           "TOOLS"
          ],
          [
           "CR & CoC Private Server - Clash Barbarians PRO",
           "FAMILY"
          ],
          [
           "Gold Butterfly Keyboard Theme",
           "HOUSE_AND_HOME"
          ],
          [
           "Relax Melodies: Sleep Sounds",
           "HEALTH_AND_FITNESS"
          ],
          [
           "Polaris Office - Word, Docs, Sheets, Slide, PDF",
           "PRODUCTIVITY"
          ],
          [
           "Yahoo Sports - scores, stats, news, & highlights",
           "SPORTS"
          ],
          [
           "Blood Pressure(BP) Report Lite",
           "MEDICAL"
          ],
          [
           "Jorte Calendar & Organizer",
           "PRODUCTIVITY"
          ],
          [
           "Aldiko Book Reader",
           "BOOKS_AND_REFERENCE"
          ],
          [
           "Facebook Ads Manager",
           "BUSINESS"
          ],
          [
           "Invasive Alien Species Europe",
           "FAMILY"
          ],
          [
           "Facejjang",
           "PHOTOGRAPHY"
          ],
          [
           "Training schedule - AllUniver",
           "EDUCATION"
          ],
          [
           "EF Smart English for Phone",
           "FAMILY"
          ],
          [
           "Kids Fang - Infant Videos, Children's Songs, Fairy Tales, Lullaby Collections",
           "PARENTING"
          ],
          [
           "CritDice - Dice Roller",
           "FAMILY"
          ],
          [
           "Love Collage - Photo Editor",
           "PHOTOGRAPHY"
          ],
          [
           "Wendy’s – Food and Offers",
           "FOOD_AND_DRINK"
          ],
          [
           "The Divine Feminine App: the DF App",
           "LIFESTYLE"
          ],
          [
           "Smart Air Conditioner(CAC)",
           "TOOLS"
          ],
          [
           "Bank of America Mobile Banking",
           "FINANCE"
          ],
          [
           "Devise Dz",
           "FINANCE"
          ],
          [
           "AB Click2Shop",
           "SHOPPING"
          ],
          [
           "Ibotta: Cash Back Savings, Rewards & Coupons App",
           "SHOPPING"
          ],
          [
           "Live Weather & Daily Local Weather Forecast",
           "WEATHER"
          ],
          [
           "RadPad: Apartment Finder App",
           "HOUSE_AND_HOME"
          ],
          [
           "Last Day on Earth: Survival",
           "GAME"
          ],
          [
           "Dy So Exam",
           "FAMILY"
          ],
          [
           "Colorfit - Drawing & Coloring",
           "ART_AND_DESIGN"
          ],
          [
           "Princess Coloring Book",
           "EDUCATION"
          ],
          [
           "Adventure Xpress",
           "FAMILY"
          ],
          [
           "DB Sound Meter: Measure Noise Level- Decibel Meter",
           "TOOLS"
          ],
          [
           "Angry Birds Evolution",
           "FAMILY"
          ],
          [
           "LactMed",
           "MEDICAL"
          ],
          [
           "Co-Optima Mobile",
           "FINANCE"
          ],
          [
           "DB Browser",
           "TOOLS"
          ],
          [
           "Hospital ER Emergency Heart Surgery: Doctor Games",
           "FAMILY"
          ],
          [
           "Tiger Live Wallpaper",
           "PERSONALIZATION"
          ],
          [
           "Block Puzzle - Wood Legend",
           "FAMILY"
          ],
          [
           "Dr. Panda Supermarket",
           "FAMILY"
          ],
          [
           "Nokia mobile support",
           "TOOLS"
          ],
          [
           "Be My Eyes - Helping the blind",
           "LIFESTYLE"
          ],
          [
           "Free Dating App - YoCutie - Flirt, Chat & Meet",
           "DATING"
          ],
          [
           "Eternal Light AG",
           "SOCIAL"
          ],
          [
           "bp Magazine for Bipolar",
           "LIFESTYLE"
          ],
          [
           "Supermarket Manager: Cashier Simulator Kids Games",
           "FAMILY"
          ],
          [
           "Cover Fire: offline shooting games for free",
           "GAME"
          ],
          [
           "Talabat: Food Delivery",
           "FOOD_AND_DRINK"
          ],
          [
           "5 Nights at Cube Pizzeria City",
           "GAME"
          ],
          [
           "AR Tank Battle",
           "GAME"
          ],
          [
           "Free Dating App & Flirt Chat - Match with Singles",
           "DATING"
          ],
          [
           "Cook'n Recipe App",
           "LIFESTYLE"
          ],
          [
           "BQ Services",
           "TOOLS"
          ],
          [
           "Weather From DMI/YR",
           "WEATHER"
          ],
          [
           "Truck Driving Test Class 3 BC",
           "FAMILY"
          ],
          [
           "Yoga - Track Yoga",
           "HEALTH_AND_FITNESS"
          ],
          [
           "OpenGL ES Extensions - The OpenGL Utility",
           "TOOLS"
          ],
          [
           "CG Sanyukt Bharti Pariksha 2018",
           "FAMILY"
          ],
          [
           "Blood Pressure Log - MyDiary",
           "MEDICAL"
          ],
          [
           "GPS Navigation & Offline Maps Sygic",
           "MAPS_AND_NAVIGATION"
          ],
          [
           "foody Cyprus - online ordering",
           "SHOPPING"
          ],
          [
           "VCalendar - VenkatRama and Co",
           "LIFESTYLE"
          ],
          [
           "CG Patwari Exam",
           "FAMILY"
          ],
          [
           "Banana Kong",
           "GAME"
          ],
          [
           "F N Bail Bonds",
           "LIFESTYLE"
          ],
          [
           "R Instructor",
           "FAMILY"
          ],
          [
           "GPS Speedometer and Odometer",
           "MAPS_AND_NAVIGATION"
          ],
          [
           "DB Customer Connect",
           "BUSINESS"
          ],
          [
           "Sports Car Driving Simulator 2018",
           "GAME"
          ],
          [
           "Diabetes:M",
           "MEDICAL"
          ],
          [
           "Kawaii Easy Drawing : How to draw Step by Step",
           "LIFESTYLE"
          ],
          [
           "P Launcher Theme For Android™ 9.0",
           "PERSONALIZATION"
          ],
          [
           "Sway Medical",
           "MEDICAL"
          ],
          [
           "Hemnet",
           "HOUSE_AND_HOME"
          ],
          [
           "Telstra",
           "LIFESTYLE"
          ],
          [
           "Blood Pressure - Stay Healthy",
           "MEDICAL"
          ],
          [
           "Discover Mobile",
           "FINANCE"
          ],
          [
           "Au Mobile: Audition Chính Hiệu",
           "GAME"
          ],
          [
           "Word Link",
           "GAME"
          ],
          [
           "Batman: Gotham’s Most Wanted!",
           "FAMILY"
          ],
          [
           "A-Y Collection",
           "SHOPPING"
          ],
          [
           "Teen Titans GO Figure!",
           "FAMILY"
          ],
          [
           "Bitdefender Antivirus Free",
           "TOOLS"
          ],
          [
           "SAT Vocabulary",
           "EDUCATION"
          ],
          [
           "Google Play Games",
           "ENTERTAINMENT"
          ],
          [
           "Wallpaper",
           "PERSONALIZATION"
          ],
          [
           "Get Free V-bucks_fortnite Hints",
           "FAMILY"
          ],
          [
           "Websites.co.in Instant Website",
           "BUSINESS"
          ],
          [
           "CA Lottery Official App",
           "FAMILY"
          ],
          [
           "Tophatter - 90 Second Auctions",
           "SHOPPING"
          ],
          [
           "Name days",
           "EVENTS"
          ],
          [
           "My Android Device S/W & H/W",
           "FAMILY"
          ],
          [
           "ZenUI Launcher",
           "PERSONALIZATION"
          ],
          [
           "FC Barcelona Fantasy Manager: Real football mobile",
           "SPORTS"
          ],
          [
           "Holl & Co Barbers",
           "LIFESTYLE"
          ],
          [
           "Instant Ba-dum-tss",
           "FAMILY"
          ],
          [
           "NetSpend Prepaid",
           "FINANCE"
          ],
          [
           "Bubble Shooter",
           "GAME"
          ],
          [
           "CT-REMOTE",
           "GAME"
          ],
          [
           "Ringdroid",
           "VIDEO_PLAYERS"
          ],
          [
           "DU Privacy-hide apps、sms、file",
           "VIDEO_PLAYERS"
          ],
          [
           "To",
           "MEDICAL"
          ],
          [
           "Square InPic - Photo Editor & Collage Maker",
           "PHOTOGRAPHY"
          ],
          [
           "European War 6: 1804",
           "FAMILY"
          ],
          [
           "Little Panda Run",
           "FAMILY"
          ],
          [
           "Zombies, Run! 5k Training (Free)",
           "HEALTH_AND_FITNESS"
          ],
          [
           "Download Facebook Photo Albums",
           "TOOLS"
          ],
          [
           "Yahoo Mail – Stay Organized",
           "COMMUNICATION"
          ],
          [
           "Map Callouts for CS:GO",
           "GAME"
          ],
          [
           "Step By Step Eyes Makeup Tutorial",
           "BEAUTY"
          ],
          [
           "Open Heart Surgery Hospital ER: Crazy Doctor Sim",
           "FAMILY"
          ],
          [
           "Death Dragon Knights RPG",
           "FAMILY"
          ],
          [
           "AE 3D MOTOR :Racing Games Free",
           "GAME"
          ],
          [
           "DM Tuning",
           "SPORTS"
          ],
          [
           "Z Origins - (Z The Game)",
           "FAMILY"
          ],
          [
           "Teladoc Member",
           "MEDICAL"
          ],
          [
           "VOLT DROP CALCULATOR BS 7671",
           "TOOLS"
          ],
          [
           "AEMET's time",
           "WEATHER"
          ],
          [
           "Expert C Programming - Learn C Coding Easily",
           "FAMILY"
          ],
          [
           "Cloud DX Connected Health",
           "HEALTH_AND_FITNESS"
          ],
          [
           "Wii U Simulator",
           "FAMILY"
          ],
          [
           "Thai Handwriting",
           "EDUCATION"
          ],
          [
           "Weather by WeatherBug: Forecast, Radar & Alerts",
           "WEATHER"
          ],
          [
           "Major Mayhem",
           "GAME"
          ],
          [
           "Oxford Dictionary of English : Free",
           "BOOKS_AND_REFERENCE"
          ],
          [
           "Guns of Boom - Online Shooter",
           "GAME"
          ],
          [
           "DEER HUNTER RELOADED",
           "GAME"
          ],
          [
           "AT&T Smart Wi-Fi",
           "TOOLS"
          ],
          [
           "ClanManagerTT2",
           "FAMILY"
          ],
          [
           "Ek Kahani Aisi Bhi Season 3 - The Horror Story",
           "FAMILY"
          ],
          [
           "Blood Pressure(BP) Diary",
           "MEDICAL"
          ],
          [
           "Hi-Smart AC",
           "TOOLS"
          ],
          [
           "VidPlay",
           "VIDEO_PLAYERS"
          ],
          [
           "DZ sim",
           "TOOLS"
          ],
          [
           "TOSHIBA Smart AC",
           "TOOLS"
          ],
          [
           "Boys Photo Editor - Six Pack & Men's Suit",
           "ART_AND_DESIGN"
          ],
          [
           "DC-014",
           "PHOTOGRAPHY"
          ],
          [
           "DG Fitness",
           "HEALTH_AND_FITNESS"
          ],
          [
           "Toyota Cruisers & Trucks Mag",
           "TRAVEL_AND_LOCAL"
          ],
          [
           "Adult Color By Number Book: Number Coloring Pages",
           "FAMILY"
          ],
          [
           "Verdad o Reto",
           "SOCIAL"
          ],
          [
           "Age of Procreation DX",
           "FAMILY"
          ],
          [
           "Netspend Skylight ONE",
           "FINANCE"
          ],
          [
           "Dragon Hills",
           "GAME"
          ],
          [
           "Au Bon Pain",
           "FOOD_AND_DRINK"
          ],
          [
           "Dr. 2048",
           "FAMILY"
          ],
          [
           "My Photo Keyboard",
           "PHOTOGRAPHY"
          ],
          [
           "Jamaa Amino for Animal Jam",
           "SOCIAL"
          ],
          [
           "Messages, Text and Video Chat for Messenger",
           "SOCIAL"
          ],
          [
           "Redwood CU v3.1.0",
           "FINANCE"
          ],
          [
           "Texas Hold'em EV Calculator",
           "TOOLS"
          ],
          [
           "DP Creator for WhatsApp",
           "PHOTOGRAPHY"
          ],
          [
           "CXmodel-ufo",
           "FAMILY"
          ],
          [
           "ES Themes -- Classic Theme",
           "PERSONALIZATION"
          ],
          [
           "SCI-Ex",
           "HEALTH_AND_FITNESS"
          ],
          [
           "Force LTE Only",
           "TOOLS"
          ],
          [
           "Police Field Interview FI Card",
           "PRODUCTIVITY"
          ],
          [
           "AZ Screen Recorder - No Root",
           "VIDEO_PLAYERS"
          ],
          [
           "Transport DK",
           "MAPS_AND_NAVIGATION"
          ],
          [
           "CL Clock",
           "BUSINESS"
          ],
          [
           "CF Life",
           "FAMILY"
          ],
          [
           "Wheretoget: Shop in style",
           "LIFESTYLE"
          ],
          [
           "Black Commando | Special Ops | FPS Shooting",
           "GAME"
          ],
          [
           "BU Library",
           "FAMILY"
          ],
          [
           "Kidjo TV Kids Have Fun & Learn",
           "ENTERTAINMENT"
          ],
          [
           "Z City",
           "FAMILY"
          ],
          [
           "Arcraft - AR Sandbox",
           "GAME"
          ],
          [
           "EC Taximeter",
           "PRODUCTIVITY"
          ],
          [
           "CricQuick",
           "SPORTS"
          ],
          [
           "Project Grand Auto Town Sandbox Beta",
           "GAME"
          ],
          [
           "7 Cups: Anxiety & Stress Chat",
           "HEALTH_AND_FITNESS"
          ],
          [
           "Wisepilot for XPERIA™",
           "TRAVEL_AND_LOCAL"
          ],
          [
           "BayPort CU Mobile Banking",
           "FINANCE"
          ],
          [
           "Theme Android P Design for LG V30",
           "PERSONALIZATION"
          ],
          [
           "Manga Books",
           "COMICS"
          ],
          [
           "BURGER KING® App",
           "LIFESTYLE"
          ],
          [
           "SUBWAY®",
           "FOOD_AND_DRINK"
          ],
          [
           "Ultimate F1 Racing Championship",
           "AUTO_AND_VEHICLES"
          ],
          [
           "Bedouin Rivals",
           "FAMILY"
          ],
          [
           "GMAT Question Bank",
           "EDUCATION"
          ],
          [
           "Middlesbrough FC Official",
           "SPORTS"
          ],
          [
           "BJ's Express Scan",
           "SHOPPING"
          ],
          [
           "Cymera Camera- Photo Editor, Filter,Collage,Layout",
           "PHOTOGRAPHY"
          ],
          [
           "Speed Boat Racing",
           "SPORTS"
          ],
          [
           "bgtime.tv",
           "VIDEO_PLAYERS"
          ],
          [
           "AZ Camera - Manual Pro Cam",
           "PHOTOGRAPHY"
          ],
          [
           "Cops N Robbers 2",
           "GAME"
          ],
          [
           "Hypocam",
           "PHOTOGRAPHY"
          ],
          [
           "Chase Mobile",
           "FINANCE"
          ],
          [
           "Bo's Bedtime Story",
           "FAMILY"
          ],
          [
           "AE Sudoku",
           "FAMILY"
          ],
          [
           "Injustice 2",
           "GAME"
          ],
          [
           "Z War-Zombie Modern Combat",
           "FAMILY"
          ],
          [
           "MDLIVE: Talk to a Doctor 24/7",
           "MEDICAL"
          ],
          [
           "Downvids Helper - One touch DW",
           "VIDEO_PLAYERS"
          ],
          [
           "Hide N Seek : Mini Game",
           "GAME"
          ],
          [
           "ING Banking",
           "FINANCE"
          ],
          [
           "Faster Social for Facebook",
           "SOCIAL"
          ],
          [
           "Camping and Co - Camping in Europe",
           "TRAVEL_AND_LOCAL"
          ],
          [
           "AL Voice Recorder",
           "PRODUCTIVITY"
          ],
          [
           "GO Notifier",
           "COMMUNICATION"
          ],
          [
           "Clash Soundboard For CR & COC",
           "FAMILY"
          ],
          [
           "Tamilnadu Electricity Info",
           "TOOLS"
          ],
          [
           "CWT To Go",
           "TRAVEL_AND_LOCAL"
          ],
          [
           "30 Day Ab Challenge",
           "HEALTH_AND_FITNESS"
          ],
          [
           "Microsoft Edge",
           "COMMUNICATION"
          ],
          [
           "CS-Touch",
           "FAMILY"
          ],
          [
           "Gun Mod: Guns in Minecraft PE",
           "FAMILY"
          ],
          [
           "Jaumo Dating, Flirt & Live Video",
           "SOCIAL"
          ],
          [
           "Shoulder Surgery ER Emergency Doctor Game",
           "FAMILY"
          ],
          [
           "Messenger – Text and Video Chat for Free",
           "COMMUNICATION"
          ],
          [
           "CV-RECORD Pro",
           "COMMUNICATION"
          ],
          [
           "Pocket Prefix Plus",
           "COMMUNICATION"
          ],
          [
           "Fix Deposit Calculator (FD)",
           "FINANCE"
          ],
          [
           "Google My Business",
           "BUSINESS"
          ],
          [
           "Virtual lover",
           "FAMILY"
          ],
          [
           "Job Search by ZipRecruiter",
           "BUSINESS"
          ],
          [
           "Beauty Makeup – Photo Makeover",
           "PHOTOGRAPHY"
          ],
          [
           "NBC News",
           "NEWS_AND_MAGAZINES"
          ],
          [
           "SnipSnap Coupon App",
           "SHOPPING"
          ],
          [
           "CD CHOICE TUBE",
           "FAMILY"
          ],
          [
           "CF Climb",
           "LIFESTYLE"
          ],
          [
           "B-Grade Renegade",
           "GAME"
          ],
          [
           "DHgate-Shop Wholesale Prices",
           "SHOPPING"
          ],
          [
           "ChatBot AI Talking Girl",
           "FAMILY"
          ],
          [
           "FarmersOnly Dating",
           "DATING"
          ],
          [
           "HTC Mail",
           "PRODUCTIVITY"
          ],
          [
           "App for Craigslist Pro - Buy & Sell Postings",
           "LIFESTYLE"
          ],
          [
           "Dinosaur Simulator: Dino World",
           "GAME"
          ],
          [
           "C BOOK-C PROGRAMS",
           "FAMILY"
          ],
          [
           "Book of AK-47",
           "LIFESTYLE"
          ],
          [
           "Ear Agent: Super Hearing",
           "COMMUNICATION"
          ],
          [
           "Dr. Truck Driver : Real Truck Simulator 3D",
           "FAMILY"
          ],
          [
           "Spectrum TV",
           "ENTERTAINMENT"
          ],
          [
           "UM BP Track",
           "MEDICAL"
          ],
          [
           "Hospitalist Handbook",
           "MEDICAL"
          ],
          [
           "MiAI (Artificial Intelligence) Assistant",
           "PRODUCTIVITY"
          ],
          [
           "Live Girls Talk - Free Video Chat",
           "DATING"
          ],
          [
           "Control Center iOS 11 - Phone X Control Panel",
           "TOOLS"
          ],
          [
           "Intellijoy Early Learning Academy",
           "FAMILY"
          ],
          [
           "DU Cleaner – Memory cleaner & clean phone cache",
           "TOOLS"
          ],
          [
           "Voxer Walkie Talkie Messenger",
           "COMMUNICATION"
          ],
          [
           "Morse Machine for Ham Radio",
           "COMMUNICATION"
          ],
          [
           "Alipay",
           "FINANCE"
          ],
          [
           "Weight Watchers Mobile",
           "HEALTH_AND_FITNESS"
          ],
          [
           "Dr. Shogi",
           "GAME"
          ],
          [
           "Cooking Channel",
           "ENTERTAINMENT"
          ],
          [
           "Sportractive GPS Running Cycling Distance Tracker",
           "HEALTH_AND_FITNESS"
          ],
          [
           "C4droid - C/C++ compiler & IDE",
           "FAMILY"
          ],
          [
           "Wheelie Challenge",
           "GAME"
          ],
          [
           "Fuzzy Seasons: Animal Forest",
           "FAMILY"
          ],
          [
           "Comic Es - Shojo manga / love comics free of charge ♪ ♪",
           "COMICS"
          ],
          [
           "PUBG MOBILE",
           "GAME"
          ],
          [
           "BlackJack 21 Pro",
           "GAME"
          ],
          [
           "Cake Shop - Kids Cooking",
           "FAMILY"
          ],
          [
           "Create A Superhero HD",
           "FAMILY"
          ],
          [
           "CVS Caremark",
           "MEDICAL"
          ],
          [
           "Dreamland Arcade - Steven Universe",
           "GAME"
          ],
          [
           "Flim Af Somali Hindi Fanproj",
           "FAMILY"
          ],
          [
           "Texas Holdem Poker Pro",
           "GAME"
          ],
          [
           "AE City Jump",
           "GAME"
          ],
          [
           "Picai - Smart AI Camera",
           "PHOTOGRAPHY"
          ],
          [
           "Metal Detector Pro 2015",
           "TOOLS"
          ],
          [
           "DU Security",
           "TOOLS"
          ],
          [
           "myChevrolet",
           "LIFESTYLE"
          ],
          [
           "PBS KIDS Games",
           "FAMILY"
          ],
          [
           "SayHi Chat, Meet New People",
           "SOCIAL"
          ],
          [
           "BT Remote (SPP) for Bluetooth",
           "TOOLS"
          ],
          [
           "Luxy Pro- Elite Dating Single",
           "DATING"
          ],
          [
           "11st",
           "SHOPPING"
          ],
          [
           "Blackjack",
           "GAME"
          ],
          [
           "Om Waleed Sweets",
           "FOOD_AND_DRINK"
          ],
          [
           "AZ Screen Recorder pro",
           "TOOLS"
          ],
          [
           "Mirk V Launcher Theme",
           "PERSONALIZATION"
          ],
          [
           "Morse Decoder for Ham Radio",
           "COMMUNICATION"
          ],
          [
           "Dr. McDougall Mobile Cookbook",
           "HEALTH_AND_FITNESS"
          ],
          [
           "Today Calendar 2017",
           "PRODUCTIVITY"
          ],
          [
           "Traffic Sniper Counter Attack",
           "GAME"
          ],
          [
           "British Airways",
           "TRAVEL_AND_LOCAL"
          ],
          [
           "Color Touch Effects",
           "PHOTOGRAPHY"
          ],
          [
           "Nights at Cube Pizzeria 3D – 4",
           "GAME"
          ],
          [
           "N-Com Wizard",
           "COMMUNICATION"
          ],
          [
           "FL Lottery Results",
           "FAMILY"
          ],
          [
           "CT POSITIONING",
           "MEDICAL"
          ],
          [
           "Next Island: Dino Village",
           "FAMILY"
          ],
          [
           "Yandex.Disk",
           "PRODUCTIVITY"
          ],
          [
           "Meet4U - Chat, Love, Singles!",
           "DATING"
          ],
          [
           "my4D",
           "EVENTS"
          ],
          [
           "Super Ear",
           "MEDICAL"
          ],
          [
           "Home workouts - fat burning, abs, legs, arms,chest",
           "HEALTH_AND_FITNESS"
          ],
          [
           "iTranslate Translator & Dictionary",
           "PRODUCTIVITY"
          ],
          [
           "World of Warriors: Duel",
           "GAME"
          ],
          [
           "High Blood Pressure Symptoms",
           "MEDICAL"
          ],
          [
           "Top Mercato: football news",
           "SPORTS"
          ],
          [
           "Wide address pocket prep",
           "MEDICAL"
          ],
          [
           "I Can't Wake Up!",
           "TOOLS"
          ],
          [
           "EY TaxChat",
           "FINANCE"
          ],
          [
           "Clash of Clans",
           "GAME"
          ],
          [
           "Hacker's Keyboard",
           "PRODUCTIVITY"
          ],
          [
           "e-Boks.dk",
           "PRODUCTIVITY"
          ],
          [
           "Google Voice",
           "COMMUNICATION"
          ],
          [
           "Check Lottery Tickets - Florida",
           "FAMILY"
          ],
          [
           "Bike Unchained",
           "SPORTS"
          ],
          [
           "WEB.DE Mail",
           "COMMUNICATION"
          ],
          [
           "Height Converter feet-inch cm",
           "TOOLS"
          ],
          [
           "Carros Rebaixados BR",
           "GAME"
          ],
          [
           "U Guard",
           "TOOLS"
          ],
          [
           "Slendrina X",
           "GAME"
          ],
          [
           "NOOK App for NOOK Devices",
           "BOOKS_AND_REFERENCE"
          ],
          [
           "CB Trader",
           "FINANCE"
          ],
          [
           "Strava.cz",
           "SHOPPING"
          ],
          [
           "Burn Your Fat With Me! FG",
           "HEALTH_AND_FITNESS"
          ],
          [
           "Robocar X Ray",
           "GAME"
          ],
          [
           "CG Yojna & Jansampark",
           "FAMILY"
          ],
          [
           "TETRIS Blitz",
           "FAMILY"
          ],
          [
           "iCam - Webcam Video Streaming",
           "TOOLS"
          ],
          [
           "Truck Chat & CB for Truckers",
           "MAPS_AND_NAVIGATION"
          ],
          [
           "KPS CHAUHAN DY/DX",
           "FAMILY"
          ],
          [
           "Power BI Ultimate Orientation",
           "FAMILY"
          ],
          [
           "AF-STROKE (FREE)",
           "MEDICAL"
          ],
          [
           "AZ Browser. Private & Download",
           "COMMUNICATION"
          ],
          [
           "ei Calc",
           "TOOLS"
          ],
          [
           "EG Movi",
           "TOOLS"
          ],
          [
           "Daily Yoga - Yoga Fitness Plans",
           "HEALTH_AND_FITNESS"
          ],
          [
           "OurHome – chores, rewards, groceries and calendar",
           "FAMILY"
          ],
          [
           "Moodpath - Depression & Anxiety Test",
           "MEDICAL"
          ],
          [
           "The Great Wobo Escape Ep.1",
           "FAMILY"
          ],
          [
           "Kids Videos",
           "PARENTING"
          ],
          [
           "Hairstyles step by step",
           "BEAUTY"
          ],
          [
           "OptoDrum",
           "MEDICAL"
          ],
          [
           "NOMISMA.com.cy by FMW",
           "NEWS_AND_MAGAZINES"
          ],
          [
           "AK Lodi Films",
           "VIDEO_PLAYERS"
          ],
          [
           "PayPal",
           "FINANCE"
          ],
          [
           "ODTMobile",
           "BUSINESS"
          ],
          [
           "Medical terms (OFFLINE)",
           "MEDICAL"
          ],
          [
           "My Dy Dice - 3D Dice Roller",
           "LIFESTYLE"
          ],
          [
           "Where Am I? GPS Loc",
           "TRAVEL_AND_LOCAL"
          ],
          [
           "IV Calc CP Calculator Toolkit",
           "TOOLS"
          ],
          [
           "Moto Photo Editor",
           "PHOTOGRAPHY"
          ],
          [
           "Photo Editor Selfie Camera Filter & Mirror Image",
           "PHOTOGRAPHY"
          ],
          [
           "Candy Crush Soda Saga",
           "GAME"
          ],
          [
           "Funny Pics",
           "ENTERTAINMENT"
          ],
          [
           "FD Community FCU Mobile",
           "FINANCE"
          ],
          [
           "Eg Call",
           "COMMUNICATION"
          ],
          [
           "Fan App for Portsmouth FC",
           "SPORTS"
          ],
          [
           "HD Themes Toyota Cruiser 70",
           "PERSONALIZATION"
          ],
          [
           "TNEB Quick Pay Easy",
           "FINANCE"
          ],
          [
           "Length Converter: convert mm,cm,m, feet,yard,mile",
           "TOOLS"
          ],
          [
           "Simple EV Calc",
           "PRODUCTIVITY"
          ],
          [
           "Orbitz - Hotels, Flights & Package Deals",
           "TRAVEL_AND_LOCAL"
          ],
          [
           "ao",
           "FAMILY"
          ],
          [
           "Draw A Stickman",
           "GAME"
          ],
          [
           "What's Up, Snoopy? - Peanuts",
           "FAMILY"
          ],
          [
           "Human Dx",
           "MEDICAL"
          ],
          [
           "Hero Hunters",
           "GAME"
          ],
          [
           "Alarm Clock",
           "TOOLS"
          ],
          [
           "Like A Boss",
           "FAMILY"
          ],
          [
           "MIX by Camera360",
           "PHOTOGRAPHY"
          ],
          [
           "Swamp Attack",
           "GAME"
          ],
          [
           "Stickers for Facebook",
           "SOCIAL"
          ],
          [
           "foodpanda - Local Food Delivery",
           "FOOD_AND_DRINK"
          ],
          [
           "ba",
           "FAMILY"
          ],
          [
           "My CW",
           "TOOLS"
          ],
          [
           "Roland DG Mobile Panel",
           "TOOLS"
          ],
          [
           "YouTube TV - Watch & Record Live TV",
           "FAMILY"
          ],
          [
           "Car Driving Simulator Drift",
           "GAME"
          ],
          [
           "BEYBLADE BURST app",
           "GAME"
          ],
          [
           "Nighty Night Circus",
           "FAMILY"
          ],
          [
           "X-plore File Manager",
           "TOOLS"
          ],
          [
           "Active Soccer 2 DX",
           "SPORTS"
          ],
          [
           "Texas Hold’em Poker + | Social",
           "GAME"
          ],
          [
           "Quik – Free Video Editor for photos, clips, music",
           "VIDEO_PLAYERS"
          ],
          [
           "War and Order",
           "GAME"
          ],
          [
           "ZenUI Dialer & Contacts",
           "COMMUNICATION"
          ],
          [
           "Cookpad",
           "FOOD_AND_DRINK"
          ],
          [
           "Analog Clock AW Plus-7",
           "TOOLS"
          ],
          [
           "Mix Virtual DJ 2018",
           "TOOLS"
          ],
          [
           "ASUS Quick Memo",
           "PRODUCTIVITY"
          ],
          [
           "Mini Golf King - Multiplayer Game",
           "GAME"
          ],
          [
           "Read it easy for BK",
           "LIFESTYLE"
          ],
          [
           "Tech CU Mobile Banking",
           "FINANCE"
          ],
          [
           "Tetrobot and Co.",
           "FAMILY"
          ],
          [
           "Allsetra B.V.",
           "BUSINESS"
          ],
          [
           "Sugar Daddy Dating App",
           "DATING"
          ],
          [
           "Dr. Seuss's ABC",
           "FAMILY"
          ],
          [
           "Super Cars Wallpapers And Backgrounds",
           "AUTO_AND_VEHICLES"
          ],
          [
           "GollerCepte 1903",
           "SPORTS"
          ],
          [
           "LEDSHOWTW",
           "TOOLS"
          ],
          [
           "Agar.io",
           "GAME"
          ],
          [
           "X Launcher Pro - IOS Style Theme & Control Center",
           "ART_AND_DESIGN"
          ],
          [
           "Foods Co",
           "SHOPPING"
          ],
          [
           "HTC Sense Input-LV",
           "TOOLS"
          ],
          [
           "Endurance Lifestyle",
           "EVENTS"
          ],
          [
           "PGA TOUR LIVE",
           "SPORTS"
          ],
          [
           "Fun Kid Racing - Motocross",
           "FAMILY"
          ],
          [
           "RadarNow!",
           "WEATHER"
          ],
          [
           "CA Mobile OTP",
           "TOOLS"
          ],
          [
           "The Coupons App",
           "SHOPPING"
          ],
          [
           "InstaBeauty -Makeup Selfie Cam",
           "PHOTOGRAPHY"
          ],
          [
           "Sam's Club: Wholesale Shopping & Instant Savings",
           "SHOPPING"
          ],
          [
           "NOOK: Read eBooks & Magazines",
           "BOOKS_AND_REFERENCE"
          ],
          [
           "Piano Tiles 2™",
           "GAME"
          ],
          [
           "Dubsmash",
           "VIDEO_PLAYERS"
          ],
          [
           "be Produbanco",
           "FINANCE"
          ],
          [
           "Girls Live Talk - Free Text and Video Chat",
           "DATING"
          ],
          [
           "FOX Sports: Live Streaming, Scores & News",
           "SPORTS"
          ],
          [
           "Homestyler Interior Design & Decorating Ideas",
           "LIFESTYLE"
          ],
          [
           "Learn Body Parts in English",
           "FAMILY"
          ],
          [
           "Discovery K!ds Play! Español",
           "FAMILY"
          ],
          [
           "Startupticker.ch News, Events",
           "NEWS_AND_MAGAZINES"
          ],
          [
           "IV Go（get IV for Pokemon）",
           "GAME"
          ],
          [
           "Keyboard for Sony Xperia J",
           "PERSONALIZATION"
          ],
          [
           "Calculator CM",
           "TOOLS"
          ],
          [
           "Amazon Prime Video",
           "ENTERTAINMENT"
          ],
          [
           "EU VAT Checker",
           "BUSINESS"
          ],
          [
           "ePay.bg",
           "FINANCE"
          ],
          [
           "The Vikings",
           "GAME"
          ],
          [
           "Pregnancy Calculator and Tracker app",
           "MEDICAL"
          ],
          [
           "SAY-U",
           "FAMILY"
          ],
          [
           "Workout Tracker & Gym Trainer - Fitness Log Book",
           "HEALTH_AND_FITNESS"
          ],
          [
           "Kernel Manager for Franco Kernel ✨",
           "TOOLS"
          ],
          [
           "Dictionary - Merriam-Webster",
           "BOOKS_AND_REFERENCE"
          ],
          [
           "Mutual - LDS Dating",
           "DATING"
          ],
          [
           "BitTorrent®- Torrent Downloads",
           "VIDEO_PLAYERS"
          ],
          [
           "Dr. Panda Hospital",
           "FAMILY"
          ],
          [
           "photo keypad lockscreen",
           "TOOLS"
          ],
          [
           "50000 Free eBooks & Free AudioBooks",
           "BOOKS_AND_REFERENCE"
          ],
          [
           "Amtrak",
           "TRAVEL_AND_LOCAL"
          ],
          [
           "muzmatch: Muslim & Arab Singles, Marriage & Dating",
           "DATING"
          ],
          [
           "Cyprus Bus Companion",
           "MAPS_AND_NAVIGATION"
          ],
          [
           "Asahi Shimbun Digital",
           "NEWS_AND_MAGAZINES"
          ],
          [
           "Firefighters First CU",
           "FINANCE"
          ],
          [
           "Calculator Plus Free",
           "TOOLS"
          ],
          [
           "How Do I Look",
           "PHOTOGRAPHY"
          ],
          [
           "Meditation Studio",
           "HEALTH_AND_FITNESS"
          ],
          [
           "eharmony - Online Dating App",
           "DATING"
          ],
          [
           "Instacart: Grocery Delivery",
           "FOOD_AND_DRINK"
          ],
          [
           "Wemep - Special price representative (special / shopping / shopping app / coupon / shipping)",
           "SHOPPING"
          ],
          [
           "Basket Manager 2017 Pro",
           "SPORTS"
          ],
          [
           "Bloons TD 5",
           "FAMILY"
          ],
          [
           "R Programming Solution",
           "FAMILY"
          ],
          [
           "Water Garden Live Wallpaper",
           "PERSONALIZATION"
          ],
          [
           "AI with Python Tutorial",
           "FAMILY"
          ],
          [
           "San Andreas City : Auto Theft Car gangster",
           "GAME"
          ],
          [
           "NFL",
           "SPORTS"
          ],
          [
           "I LOVE PASTA",
           "FAMILY"
          ],
          [
           "Super Jim Jump - pixel 3d",
           "GAME"
          ],
          [
           "Lose It! - Calorie Counter",
           "HEALTH_AND_FITNESS"
          ],
          [
           "Аim Training for CS",
           "GAME"
          ],
          [
           "U Launcher Lite – FREE Live Cool Themes, Hide Apps",
           "ART_AND_DESIGN"
          ],
          [
           "My EF",
           "FAMILY"
          ],
          [
           "Texas HoldEm Poker Deluxe",
           "GAME"
          ],
          [
           "LateRooms: Find Hotel Deals",
           "TRAVEL_AND_LOCAL"
          ],
          [
           "Christella VoiceUp",
           "MEDICAL"
          ],
          [
           "Socratic - Math Answers & Homework Help",
           "EDUCATION"
          ],
          [
           "Garden Photo Frames - Garden Photo Editor",
           "PHOTOGRAPHY"
          ],
          [
           "Galactic Core Free Wallpaper",
           "PERSONALIZATION"
          ],
          [
           "Red River CU",
           "FINANCE"
          ],
          [
           "W Pro - Weather Forecast & Animated Weather Maps",
           "WEATHER"
          ],
          [
           "Mobile Strike",
           "FAMILY"
          ],
          [
           "Five Tries At Love Dating Sim",
           "FAMILY"
          ],
          [
           "MIUI Style GO Weather EX",
           "WEATHER"
          ],
          [
           "The Washington Post Classic",
           "NEWS_AND_MAGAZINES"
          ],
          [
           "WhatsVPN - Unlimited Free VPN",
           "TOOLS"
          ],
          [
           "Coupang",
           "SHOPPING"
          ],
          [
           "FOSSIL Q: DESIGN YOUR DIAL",
           "LIFESTYLE"
          ],
          [
           "CH info",
           "NEWS_AND_MAGAZINES"
          ],
          [
           "Speeding Joyride & Car Meet App",
           "DATING"
          ],
          [
           "Online Girls Chat Group",
           "DATING"
          ],
          [
           "Volume Control Ex",
           "TOOLS"
          ],
          [
           "AK Phone",
           "COMMUNICATION"
          ],
          [
           "WGT Golf Game by Topgolf",
           "SPORTS"
          ],
          [
           "weather HD",
           "PERSONALIZATION"
          ],
          [
           "Running Weight Loss Walking Jogging Hiking FITAPP",
           "HEALTH_AND_FITNESS"
          ],
          [
           "Idle Heroes",
           "GAME"
          ],
          [
           "Running & Jogging",
           "HEALTH_AND_FITNESS"
          ],
          [
           "Youper - AI Therapy",
           "MEDICAL"
          ],
          [
           "Euro Truck Driver (Simulator)",
           "FAMILY"
          ],
          [
           "My Diet Diary Calorie Counter",
           "HEALTH_AND_FITNESS"
          ],
          [
           "New: CL-150",
           "FAMILY"
          ],
          [
           "Baby Panda Learns Shapes",
           "PARENTING"
          ],
          [
           "Sweet Snap - live filter, Selfie photo edit",
           "PHOTOGRAPHY"
          ],
          [
           "BN Pro RobotoXL HD Text",
           "LIBRARIES_AND_DEMO"
          ],
          [
           "CW TV",
           "NEWS_AND_MAGAZINES"
          ],
          [
           "Doctor Pets",
           "FAMILY"
          ],
          [
           "Box",
           "BUSINESS"
          ],
          [
           "Kick the Buddy",
           "GAME"
          ],
          [
           "Google Earth",
           "TRAVEL_AND_LOCAL"
          ],
          [
           "AdClear Ad blocker for Samsung",
           "TOOLS"
          ],
          [
           "Police VAZ LADA Simulator",
           "FAMILY"
          ],
          [
           "Beauty Camera - Selfie Camera",
           "BEAUTY"
          ],
          [
           "Fake Call - Fake Caller ID",
           "PRODUCTIVITY"
          ],
          [
           "Atlan3D Navigation: Korea navigator",
           "MAPS_AND_NAVIGATION"
          ],
          [
           "EGW Writings 2",
           "BOOKS_AND_REFERENCE"
          ],
          [
           "Girls Live Chat - Free Text & Video Chat",
           "DATING"
          ],
          [
           "GirlTalk.dk",
           "SOCIAL"
          ],
          [
           "Virtual Families 2",
           "FAMILY"
          ],
          [
           "FC Barcelona Official App",
           "SPORTS"
          ],
          [
           "CT Scan Viewer 3D",
           "MEDICAL"
          ],
          [
           "Kill Shot Bravo: Sniper FPS",
           "GAME"
          ],
          [
           "Google Street View",
           "TRAVEL_AND_LOCAL"
          ],
          [
           "MiniMovie - Free Video and Slideshow Editor",
           "VIDEO_PLAYERS"
          ],
          [
           "Bingo Party - Free Bingo Games",
           "GAME"
          ],
          [
           "Driving n Parking School 2017",
           "FAMILY"
          ],
          [
           "Best Wallpapers QHD",
           "PERSONALIZATION"
          ],
          [
           "AC & TV, DVD, Set Top Box - Remote control IR",
           "TOOLS"
          ],
          [
           "My Little Work – Garage",
           "FAMILY"
          ],
          [
           "Jigsaw Volvo FH 16 Trucks",
           "FAMILY"
          ],
          [
           "Mind Games Pro",
           "FAMILY"
          ],
          [
           "Viva Decora - Decoration, Photos, Architecture, House",
           "HOUSE_AND_HOME"
          ],
          [
           "Hangouts",
           "COMMUNICATION"
          ],
          [
           "PixBox Coloring - Color by number Sandbox",
           "FAMILY"
          ],
          [
           "Honkai Impact 3rd",
           "GAME"
          ],
          [
           "Baby puzzles",
           "FAMILY"
          ],
          [
           "Word Search multilingual",
           "GAME"
          ],
          [
           "Math Quiz Free: Grades K,1,2,3",
           "FAMILY"
          ],
          [
           "CM Security Lite - Antivirus",
           "TOOLS"
          ],
          [
           "TN Patta Chitta EC Info",
           "TOOLS"
          ],
          [
           "du app",
           "LIFESTYLE"
          ],
          [
           "Selfie DV",
           "TOOLS"
          ],
          [
           "Free Dating App - Meet Local Singles - Flirt Chat",
           "DATING"
          ],
          [
           "Ebates: Cash Back, Coupons, Rewards & Savings",
           "SHOPPING"
          ],
          [
           "i am EB",
           "PHOTOGRAPHY"
          ],
          [
           "Quick PDF Scanner + OCR FREE",
           "BUSINESS"
          ],
          [
           "EF Smart English",
           "FAMILY"
          ],
          [
           "Propertyfinder",
           "LIFESTYLE"
          ],
          [
           "Nights at Cube Pizzeria 3D – 2",
           "GAME"
          ],
          [
           "FrostWire: Torrent Downloader & Music Player",
           "VIDEO_PLAYERS"
          ],
          [
           "Monster Truck Stunt 3D 2019",
           "AUTO_AND_VEHICLES"
          ],
          [
           "delivery.com: Order Food, Alcohol & Laundry",
           "FOOD_AND_DRINK"
          ],
          [
           "No. Color - Color by Number, Number Coloring",
           "FAMILY"
          ],
          [
           "Housing-Real Estate & Property",
           "LIFESTYLE"
          ],
          [
           "U of I Community Credit Union",
           "FINANCE"
          ],
          [
           "ForecaWeather",
           "WEATHER"
          ],
          [
           "Oracle CX Cloud Mobile",
           "BUSINESS"
          ],
          [
           "PRO MX MOTOCROSS 2",
           "GAME"
          ],
          [
           "Sisense Mobile BI",
           "BUSINESS"
          ],
          [
           "CompTIA A+ Pocket Prep",
           "FAMILY"
          ],
          [
           "BZ Zombie VR",
           "GAME"
          ],
          [
           "Robots Vs Zombies: Transform To Race And Fight",
           "FAMILY"
          ],
          [
           "Pencil Sketch Drawing",
           "ART_AND_DESIGN"
          ],
          [
           "Anime Avatar Creator: Make Your Own Avatar",
           "LIFESTYLE"
          ],
          [
           "Google Ads",
           "BUSINESS"
          ],
          [
           "Aquarium Co-Op Podcast",
           "LIFESTYLE"
          ],
          [
           "Free Professional Resume Builder, CV, Cover Letter",
           "BUSINESS"
          ],
          [
           "Age of Conquest: N. America",
           "FAMILY"
          ],
          [
           "AK Booster",
           "TOOLS"
          ],
          [
           "Find My Friends",
           "SOCIAL"
          ],
          [
           "9th stage",
           "FOOD_AND_DRINK"
          ],
          [
           "24 megapixel hd camera",
           "PHOTOGRAPHY"
          ],
          [
           "B-52 Spirits of Glory Deluxe",
           "GAME"
          ],
          [
           "Haircut Tutorials/Haircut Videos",
           "BEAUTY"
          ],
          [
           "EZCast – Cast Media to TV",
           "VIDEO_PLAYERS"
          ],
          [
           "FERZU - Furries Social Network",
           "DATING"
          ],
          [
           "Red Embrace (BL/Yaoi Game)",
           "FAMILY"
          ],
          [
           "Hinge: Dating & Relationships",
           "DATING"
          ],
          [
           "VMate Lite - Funny Short Videos Social Network",
           "SOCIAL"
          ],
          [
           "Hidden Objects Treasure Hunt Adventure Games",
           "FAMILY"
          ],
          [
           "Facetune - For Free",
           "PHOTOGRAPHY"
          ],
          [
           "Penny Puss",
           "TOOLS"
          ],
          [
           "30-Day Ab Challenge Tracker",
           "HEALTH_AND_FITNESS"
          ],
          [
           "Xtreme Racing 2018 - Jeep & 4x4 off road simulator",
           "FAMILY"
          ],
          [
           "CV S ( CV Editor - Resume )",
           "BUSINESS"
          ],
          [
           "Keller Williams Real Estate",
           "LIFESTYLE"
          ],
          [
           "DC Public Library",
           "BOOKS_AND_REFERENCE"
          ],
          [
           "Axe Knight",
           "GAME"
          ],
          [
           "Block Battles: Heroes at War - Multiplayer PVP",
           "GAME"
          ],
          [
           "Content Transfer",
           "PRODUCTIVITY"
          ],
          [
           "BT Messenger",
           "COMMUNICATION"
          ],
          [
           "MARVEL Contest of Champions",
           "GAME"
          ],
          [
           "Ayat - Al Quran",
           "FAMILY"
          ],
          [
           "Block City Wars + skins export",
           "FAMILY"
          ],
          [
           "Candy selfie - photo editor, live filter camera",
           "PHOTOGRAPHY"
          ],
          [
           "Governor of Poker 2 - OFFLINE POKER GAME",
           "GAME"
          ],
          [
           "Speedcheck",
           "TOOLS"
          ],
          [
           "DG OFF - 100% Free Coupons & Deals",
           "SHOPPING"
          ],
          [
           "Cal - Google Calendar + Widget",
           "PRODUCTIVITY"
          ],
          [
           "10 Best Foods for You",
           "HEALTH_AND_FITNESS"
          ],
          [
           "EA Plus",
           "TRAVEL_AND_LOCAL"
          ],
          [
           "SDA Sabbath School Quarterly",
           "BOOKS_AND_REFERENCE"
          ],
          [
           "Tassa.fi Finland",
           "LIFESTYLE"
          ],
          [
           "Wattpad 📖 Free Books",
           "BOOKS_AND_REFERENCE"
          ],
          [
           "Call Free – Free Call",
           "COMMUNICATION"
          ],
          [
           "PJ Masks: HQ",
           "FAMILY"
          ],
          [
           "Easy Makeup Tutorials",
           "LIFESTYLE"
          ],
          [
           "Insave-Download for Instagram",
           "PHOTOGRAPHY"
          ],
          [
           "Wi-Fi Rabbit Unlock Key",
           "TOOLS"
          ],
          [
           "Comptia A+ 220-901 & 220-902",
           "FAMILY"
          ],
          [
           "Funny Ringtones",
           "PERSONALIZATION"
          ],
          [
           "Selfie Camera - Photo Editor & Filter & Sticker",
           "PHOTOGRAPHY"
          ],
          [
           "Climatempo Lite - 15 day weather forecast",
           "WEATHER"
          ],
          [
           "AE Jewels",
           "GAME"
          ],
          [
           "AI Today : Artificial Intelligence News & AI 101",
           "NEWS_AND_MAGAZINES"
          ],
          [
           "FL Racing Manager 2018 Pro",
           "SPORTS"
          ],
          [
           "USMLE Step 2 CK Flashcards",
           "FAMILY"
          ],
          [
           "Ultrasound A-Z",
           "FAMILY"
          ],
          [
           "Bubble Shooter 2",
           "GAME"
          ],
          [
           "Gun Shoot War Q",
           "GAME"
          ],
          [
           "MSN Money- Stock Quotes & News",
           "FINANCE"
          ],
          [
           "Alchemy Classic Ad Free",
           "FAMILY"
          ],
          [
           "Critical Ops",
           "GAME"
          ],
          [
           "Wells Fargo Mobile",
           "FINANCE"
          ],
          [
           "Once Upon a Tower",
           "GAME"
          ],
          [
           "Mico- Stranger Chat Random video Chat, Live, Meet",
           "SOCIAL"
          ],
          [
           "Telegram",
           "COMMUNICATION"
          ],
          [
           "Advanced EX for MITSUBISHI",
           "TOOLS"
          ],
          [
           "Real Tractor Farming",
           "AUTO_AND_VEHICLES"
          ],
          [
           "ZombieVital DG",
           "FAMILY"
          ],
          [
           "FirstCry Baby & Kids Shopping, Fashion & Parenting",
           "SHOPPING"
          ],
          [
           "Cardinal Glennon ER Reference",
           "MEDICAL"
          ],
          [
           "HD Camera for Android",
           "PHOTOGRAPHY"
          ],
          [
           "Glitch Fixers: Powerpuff Girls",
           "GAME"
          ],
          [
           "iHoroscope - 2018 Daily Horoscope & Astrology",
           "LIFESTYLE"
          ],
          [
           "Vienna U-Bahn",
           "MAPS_AND_NAVIGATION"
          ],
          [
           "QuickPic - Photo Gallery with Google Drive Support",
           "PHOTOGRAPHY"
          ],
          [
           "Stocard - Rewards Cards Wallet",
           "SHOPPING"
          ],
          [
           "Xray Scanner Prank",
           "FAMILY"
          ],
          [
           "Google Sheets",
           "PRODUCTIVITY"
          ],
          [
           "ES File Explorer File Manager",
           "PRODUCTIVITY"
          ],
          [
           "Tech CU Card Manager",
           "FINANCE"
          ],
          [
           "All Video Downloader 2018",
           "VIDEO_PLAYERS"
          ],
          [
           "Software Update",
           "TOOLS"
          ],
          [
           "Job CV Maker & Portfolio Maker",
           "FAMILY"
          ],
          [
           "POF Free Dating App",
           "SOCIAL"
          ],
          [
           "Yaoi Ooku: Distorted Love",
           "FAMILY"
          ],
          [
           "Bike Rivals",
           "GAME"
          ],
          [
           "Clear",
           "TOOLS"
          ],
          [
           "TouchPal Purple Butterfly Theme",
           "PERSONALIZATION"
          ],
          [
           "Rainfall radar - weather",
           "WEATHER"
          ],
          [
           "Paramedic Protocol Provider",
           "MEDICAL"
          ],
          [
           "CA Auth ID",
           "TOOLS"
          ],
          [
           "Bank of Brazil",
           "FINANCE"
          ],
          [
           "Superhero Doctor 2 -ER Surgery",
           "FAMILY"
          ],
          [
           "Sticky Note + : Sync Notes",
           "PRODUCTIVITY"
          ],
          [
           "Top Eleven 2018 - Be a Soccer Manager",
           "SPORTS"
          ],
          [
           "Extreme Super Car Driving 3D",
           "GAME"
          ],
          [
           "Zocdoc: Find Doctors & Book Appointments",
           "MEDICAL"
          ],
          [
           "Bo Aung Din",
           "EVENTS"
          ],
          [
           "cm, mm to inch, feet converter tool",
           "PRODUCTIVITY"
          ],
          [
           "Alpha Bank CY",
           "FINANCE"
          ],
          [
           "Disciple Maker’s (DM) Lab",
           "FAMILY"
          ],
          [
           "Guide for DB Xenoverse 2",
           "BOOKS_AND_REFERENCE"
          ],
          [
           "Color by Number: Pixel Art",
           "FAMILY"
          ],
          [
           "I'm Rich - Trump Edition",
           "LIFESTYLE"
          ],
          [
           "AD - News, Sports, Region & Entertainment",
           "NEWS_AND_MAGAZINES"
          ],
          [
           "MagicLight BT",
           "LIFESTYLE"
          ],
          [
           "A Manual of Acupuncture",
           "MEDICAL"
          ],
          [
           "Women\"s Health Tips(Breast,Face,Body,weight lose)",
           "HEALTH_AND_FITNESS"
          ],
          [
           "GPS Speedometer, Distance Meter",
           "MAPS_AND_NAVIGATION"
          ],
          [
           "SCS eC",
           "PRODUCTIVITY"
          ],
          [
           "KIM KARDASHIAN: HOLLYWOOD",
           "GAME"
          ],
          [
           "Sygic Truck GPS Navigation",
           "TRAVEL_AND_LOCAL"
          ],
          [
           "Monefy - Money Manager",
           "FINANCE"
          ],
          [
           "O Multiple - App Cloner, Duals APP, tarallel",
           "TOOLS"
          ],
          [
           "AP Mobile - Breaking News",
           "NEWS_AND_MAGAZINES"
          ],
          [
           "Mobile Number Tracker",
           "TOOLS"
          ],
          [
           "Ba Financial Calculator plus",
           "FINANCE"
          ],
          [
           "Universal AC Remote Control Simulator",
           "FAMILY"
          ],
          [
           "DC Comics Amino",
           "SOCIAL"
          ],
          [
           "JailBase - Arrests + Mugshots",
           "NEWS_AND_MAGAZINES"
          ],
          [
           "Lock Screen",
           "TOOLS"
          ],
          [
           "Stickers for Imo, fb, whatsapp",
           "SOCIAL"
          ],
          [
           "My Diet Coach - Weight Loss Motivation & Tracker",
           "HEALTH_AND_FITNESS"
          ],
          [
           "Best DP and Status",
           "SOCIAL"
          ],
          [
           "BS Meter (Ad Supported)",
           "FAMILY"
          ],
          [
           "Android P 9.0",
           "PERSONALIZATION"
          ],
          [
           "BLK - Swipe. Match. Chat.",
           "DATING"
          ],
          [
           "Learn C Programming (Examples) (OFFLINE)",
           "FAMILY"
          ],
          [
           "Bi-Tank",
           "GAME"
          ],
          [
           "Listen to the story~The Story of the Fairy Tales",
           "PARENTING"
          ],
          [
           "MealLogger-Photo Food Journal",
           "HEALTH_AND_FITNESS"
          ],
          [
           "AK-47: Simulator and Shooting",
           "FAMILY"
          ],
          [
           "Kingdom in Chaos",
           "FAMILY"
          ],
          [
           "DB Train Simulator",
           "FAMILY"
          ],
          [
           "iPlayIT for YouTube VR Player",
           "VIDEO_PLAYERS"
          ],
          [
           "Breaking News, Local news, Attacks and Alerts Free",
           "NEWS_AND_MAGAZINES"
          ],
          [
           "Words With Friends Classic",
           "GAME"
          ],
          [
           "Google Calendar",
           "PRODUCTIVITY"
          ],
          [
           "My Cancer Coach",
           "MEDICAL"
          ],
          [
           "ChefTap Recipes & Grocery List",
           "FOOD_AND_DRINK"
          ],
          [
           "XXX DISTILLERY",
           "BUSINESS"
          ],
          [
           "Ex Explorer : Dual view exproler / file manager",
           "TOOLS"
          ],
          [
           "PeopleTV - Watch Celebrity News",
           "FAMILY"
          ],
          [
           "AC Remote for Haier - NOW FREE",
           "TOOLS"
          ],
          [
           "Galaxy Live Wallpaper",
           "PERSONALIZATION"
          ],
          [
           "Local Services ads by Google",
           "BUSINESS"
          ],
          [
           "CI On The Go",
           "NEWS_AND_MAGAZINES"
          ],
          [
           "Easy Realistic Drawing Tutorial",
           "ART_AND_DESIGN"
          ],
          [
           "Citymapper - Transit Navigation",
           "MAPS_AND_NAVIGATION"
          ],
          [
           "Azpen eReader",
           "BOOKS_AND_REFERENCE"
          ],
          [
           "SeriesGuide – Show & Movie Manager",
           "ENTERTAINMENT"
          ],
          [
           "Tiny Call Confirm",
           "COMMUNICATION"
          ],
          [
           "591 Housing Trading - Hong Kong",
           "HOUSE_AND_HOME"
          ],
          [
           "Fake Call From Wengie Prank",
           "FAMILY"
          ],
          [
           "BK Traffic Control cum Chart",
           "SOCIAL"
          ],
          [
           "To-Do List Widget",
           "PRODUCTIVITY"
          ],
          [
           "Hulu: Stream TV, Movies & more",
           "ENTERTAINMENT"
          ],
          [
           "[verify-U] VideoIdent",
           "COMMUNICATION"
          ],
          [
           "All States Ag Parts",
           "SHOPPING"
          ],
          [
           "F-Secure Mobile Security",
           "TOOLS"
          ],
          [
           "FE CREDIT - TET VUI",
           "FINANCE"
          ],
          [
           "Google Duo - High Quality Video Calls",
           "COMMUNICATION"
          ],
          [
           "Maps - Navigate & Explore",
           "TRAVEL_AND_LOCAL"
          ],
          [
           "Mobile Legends: Bang Bang",
           "GAME"
          ],
          [
           "Airplane Fly Hawaii",
           "FAMILY"
          ],
          [
           "R M Lock Screen",
           "LIBRARIES_AND_DEMO"
          ],
          [
           "DC Super Hero Girls™",
           "GAME"
          ],
          [
           "WPTV 5 West Palm Beach",
           "NEWS_AND_MAGAZINES"
          ],
          [
           "Safest Call Blocker",
           "COMMUNICATION"
          ],
          [
           "FAST EO",
           "EVENTS"
          ],
          [
           "Guns'n'Glory Zombies Premium",
           "FAMILY"
          ],
          [
           "Glam - Premium Dating App",
           "DATING"
          ],
          [
           "Eternal life",
           "LIBRARIES_AND_DEMO"
          ],
          [
           "Sirens Fashion Style Game",
           "FAMILY"
          ],
          [
           "DT Driving Test Theory",
           "FAMILY"
          ],
          [
           "Google PDF Viewer",
           "PRODUCTIVITY"
          ],
          [
           "AV Tools",
           "TOOLS"
          ],
          [
           "Evolution CP & IV Calculator for pokemon",
           "FAMILY"
          ],
          [
           "You're an Anime",
           "MEDICAL"
          ],
          [
           "K-9 Mail",
           "COMMUNICATION"
          ],
          [
           "Cy-Reader",
           "FAMILY"
          ],
          [
           "CD Library",
           "PRODUCTIVITY"
          ],
          [
           "Solar CT PV System Power",
           "PRODUCTIVITY"
          ],
          [
           "Super P Launcher for Android P 9.0 launcher, theme",
           "TOOLS"
          ],
          [
           "Dungeons and Dragons DM Tools",
           "BOOKS_AND_REFERENCE"
          ],
          [
           "BL info",
           "TRAVEL_AND_LOCAL"
          ],
          [
           "DF Night Selfies",
           "PHOTOGRAPHY"
          ],
          [
           "Spreaker Podcast Radio",
           "NEWS_AND_MAGAZINES"
          ],
          [
           "metroZONE",
           "LIFESTYLE"
          ],
          [
           "BJ Bridge Pro 2018",
           "GAME"
          ],
          [
           "CV Engineer - Free Resume Maker & CV Templates",
           "BUSINESS"
          ],
          [
           "FlashLight HD LED Pro",
           "TOOLS"
          ],
          [
           "Love Fonts for FlipFont",
           "PERSONALIZATION"
          ],
          [
           "Butterfly Live Wallpaper",
           "PERSONALIZATION"
          ],
          [
           "DSLR Camera Hd Ultra Professional",
           "PHOTOGRAPHY"
          ],
          [
           "MbH BP",
           "MEDICAL"
          ],
          [
           "HTC Sense Input - FR",
           "TOOLS"
          ],
          [
           "Digit Save Money Automatically",
           "FINANCE"
          ],
          [
           "Classic Words Solo",
           "GAME"
          ],
          [
           "Video Downloader for Facebook",
           "TOOLS"
          ],
          [
           "Smart Keyboard Trial",
           "TOOLS"
          ],
          [
           "DB HOME",
           "LIFESTYLE"
          ],
          [
           "LINE I Love Coffee",
           "FAMILY"
          ],
          [
           "DV-2019 Results",
           "FAMILY"
          ],
          [
           "Itau bank",
           "FINANCE"
          ],
          [
           "Bejeweled Stars: Free Match 3",
           "FAMILY"
          ],
          [
           "Dr. B.R.Ambedkar",
           "SOCIAL"
          ],
          [
           "Groovebook Photo Books & Gifts",
           "PHOTOGRAPHY"
          ],
          [
           "Beach Buggy Blitz",
           "GAME"
          ],
          [
           "Deep Sleep Battery Saver",
           "TOOLS"
          ],
          [
           "Betting Tips / Sports Tips by CG Tipster",
           "SPORTS"
          ],
          [
           "Ninja Turtles: Legends",
           "FAMILY"
          ],
          [
           "Guess The Emoji",
           "GAME"
          ],
          [
           "8fit Workouts & Meal Planner",
           "HEALTH_AND_FITNESS"
          ],
          [
           "ChopAssistant",
           "TOOLS"
          ],
          [
           "[Sub/EMUI] P Pro - EMUI 8.1/8.0/5.X Theme",
           "PERSONALIZATION"
          ],
          [
           "OS-X EMUI 4/5/8 THEME",
           "PERSONALIZATION"
          ],
          [
           "Charlotte County, FL",
           "PRODUCTIVITY"
          ],
          [
           "MeetMe: Chat & Meet New People",
           "SOCIAL"
          ],
          [
           "UFC",
           "SPORTS"
          ],
          [
           "Al jazeera TV",
           "FAMILY"
          ],
          [
           "Dr. Dominoes",
           "GAME"
          ],
          [
           "TN Patta /Chitta /EC New",
           "SOCIAL"
          ],
          [
           "Phone Tracker : Family Locator",
           "SOCIAL"
          ],
          [
           "bpresso PRO",
           "MEDICAL"
          ],
          [
           "Quiz DC",
           "GAME"
          ],
          [
           "FC Barcelona Official Keyboard",
           "SPORTS"
          ],
          [
           "Time Planner - Schedule, To-Do List, Time Tracker",
           "PRODUCTIVITY"
          ],
          [
           "Free WiFi Connect",
           "COMMUNICATION"
          ],
          [
           "Urban Limo Taxi Simulator",
           "PARENTING"
          ],
          [
           "Eurosport",
           "SPORTS"
          ],
          [
           "Punch em",
           "GAME"
          ],
          [
           "bitcoin exchange bx thailand",
           "FINANCE"
          ],
          [
           "HTC Speak",
           "LIFESTYLE"
          ],
          [
           "Phone X Launcher, OS 11 iLauncher & Control Center",
           "TOOLS"
          ],
          [
           "Weight Loss Running by Verv",
           "HEALTH_AND_FITNESS"
          ],
          [
           "5 Minute Ab Workouts",
           "HEALTH_AND_FITNESS"
          ],
          [
           "REPUVE",
           "AUTO_AND_VEHICLES"
          ],
          [
           "Bonza Poly Art - Tenkyu Animal Jam for Kids",
           "FAMILY"
          ],
          [
           "DELISH KITCHEN - FREE recipe movies make food fun and easy!",
           "FOOD_AND_DRINK"
          ],
          [
           "Quadratic Equation Solver with Steps and Graphs",
           "FAMILY"
          ],
          [
           "Frequencies Free",
           "TOOLS"
          ],
          [
           "CL Mobile Pro - Classifieds for Craigslist",
           "SHOPPING"
          ],
          [
           "UPS Mobile",
           "BUSINESS"
          ],
          [
           "Pixel Z Gunner 3D - Battle Survival Fps",
           "GAME"
          ],
          [
           "TeamWard – live help for LoL",
           "FAMILY"
          ],
          [
           "dB: Sound Meter Pro",
           "TOOLS"
          ],
          [
           "Interracial Match Dating App",
           "DATING"
          ],
          [
           "HTC Sense Input-BG",
           "TOOLS"
          ],
          [
           "BU Students' Rep. Council",
           "FAMILY"
          ],
          [
           "Dungeon Quest",
           "FAMILY"
          ],
          [
           "CPU-Z",
           "TOOLS"
          ],
          [
           "Programming Hub, Learn to code",
           "EDUCATION"
          ],
          [
           "CE on the go",
           "TOOLS"
          ],
          [
           "Elkhart County 4-H Fair",
           "FAMILY"
          ],
          [
           "IQ Test",
           "PRODUCTIVITY"
          ],
          [
           "CBS Sports Fantasy",
           "SPORTS"
          ],
          [
           "Android P Rotation",
           "TOOLS"
          ],
          [
           "Kids Learn Languages by Mondly",
           "EDUCATION"
          ],
          [
           "LIKE – Magic Video Maker & Community",
           "VIDEO_PLAYERS"
          ],
          [
           "EG Classroom Decimals™",
           "FAMILY"
          ],
          [
           "Lie Detector",
           "FAMILY"
          ],
          [
           "Upohar BD",
           "BUSINESS"
          ],
          [
           "VisualCV Resume Builder",
           "BUSINESS"
          ],
          [
           "YouTube Gaming",
           "ENTERTAINMENT"
          ],
          [
           "FRONTLINE COMMANDO",
           "GAME"
          ],
          [
           "Laftel - Watching and Announcing Snooping, Streaming",
           "COMICS"
          ],
          [
           "Square Analog Clock AW-7",
           "TOOLS"
          ],
          [
           "ParaTek Ai Speech generator",
           "TOOLS"
          ],
          [
           "Monster High™ Minis Mania",
           "FAMILY"
          ],
          [
           "Clean Master Lite - For Low-End Phone",
           "TOOLS"
          ],
          [
           "Pocket Yoga",
           "HEALTH_AND_FITNESS"
          ],
          [
           "DN.VR",
           "NEWS_AND_MAGAZINES"
          ],
          [
           "EF Academy",
           "HEALTH_AND_FITNESS"
          ],
          [
           "Learn SQL",
           "EDUCATION"
          ],
          [
           "Cartoon Network App",
           "VIDEO_PLAYERS"
          ],
          [
           "bz Baselland E-Paper",
           "NEWS_AND_MAGAZINES"
          ],
          [
           "Visual Anatomy 2",
           "MEDICAL"
          ],
          [
           "JetBlue",
           "TRAVEL_AND_LOCAL"
          ],
          [
           "ClassDojo",
           "EDUCATION"
          ],
          [
           "Rabbithole",
           "FAMILY"
          ],
          [
           "AR Sport Cars",
           "FAMILY"
          ],
          [
           "Weather",
           "WEATHER"
          ],
          [
           "AE 3D Moto 3",
           "GAME"
          ],
          [
           "DIY Garden Ideas",
           "LIFESTYLE"
          ],
          [
           "Swift Dark CM / CM13 Theme",
           "PERSONALIZATION"
          ],
          [
           "FeaturePoints: Free Gift Cards",
           "FAMILY"
          ],
          [
           "FunForMobile Ringtones & Chat",
           "SOCIAL"
          ],
          [
           "BW-Joseki",
           "GAME"
          ],
          [
           "Reminder",
           "EVENTS"
          ],
          [
           "I am extremely Rich",
           "LIFESTYLE"
          ],
          [
           "Gangster Town: Vice District",
           "FAMILY"
          ],
          [
           "E! News",
           "NEWS_AND_MAGAZINES"
          ],
          [
           "I am rich(premium)",
           "FINANCE"
          ],
          [
           "AE Fishing Hunter",
           "GAME"
          ],
          [
           "video player for android",
           "VIDEO_PLAYERS"
          ],
          [
           "Angry Shark 2016",
           "FAMILY"
          ],
          [
           "BW-DGS plugin",
           "GAME"
          ],
          [
           "Break the Egg",
           "FAMILY"
          ],
          [
           "CJ'S TIRE AND AUTO INC.",
           "PRODUCTIVITY"
          ],
          [
           "Citizens Bank - CB Mobile",
           "FINANCE"
          ],
          [
           "Sentin Information Map",
           "MAPS_AND_NAVIGATION"
          ],
          [
           "Township",
           "FAMILY"
          ],
          [
           "Fr Agnel Pune",
           "FAMILY"
          ],
          [
           "EasyBib: Citation Generator",
           "EDUCATION"
          ],
          [
           "Baby Connect (activity log)",
           "PARENTING"
          ],
          [
           "Transfer",
           "FINANCE"
          ],
          [
           "PLAYzone.cz",
           "FAMILY"
          ],
          [
           "Disney Heroes: Battle Mode",
           "GAME"
          ],
          [
           "The Walking Dead: Road to Survival",
           "GAME"
          ],
          [
           "Motocross Fun Simulator",
           "FAMILY"
          ],
          [
           "LineStar For DK",
           "SPORTS"
          ],
          [
           "Droid Zap by Motorola",
           "VIDEO_PLAYERS"
          ],
          [
           "TomTom GPS Navigation Traffic",
           "MAPS_AND_NAVIGATION"
          ],
          [
           "Angry Birds Blast",
           "FAMILY"
          ],
          [
           "AV Buddy Free",
           "FAMILY"
          ],
          [
           "Have your say on Europe",
           "COMMUNICATION"
          ],
          [
           "CM Security Open VPN - Free, fast unlimited proxy",
           "TOOLS"
          ],
          [
           "OMG Gross Zit - Date Nightmare",
           "FAMILY"
          ],
          [
           "Arby's",
           "FOOD_AND_DRINK"
          ],
          [
           "Marathi DP - status and message,jokes,Video app",
           "FAMILY"
          ],
          [
           "Evie Launcher",
           "PERSONALIZATION"
          ],
          [
           "BR",
           "LIFESTYLE"
          ],
          [
           "Files To SD Card Pro",
           "TOOLS"
          ],
          [
           "DJ Music Pad",
           "FAMILY"
          ],
          [
           "Little Magnet BT",
           "TOOLS"
          ],
          [
           "To-Do Calendar Planner",
           "PRODUCTIVITY"
          ],
          [
           "Můj T-Mobile Business",
           "PRODUCTIVITY"
          ],
          [
           "Adventure Quest World Mobile Quiz",
           "FAMILY"
          ],
          [
           "Clumsy Santa ER Surgery",
           "FAMILY"
          ],
          [
           "Solo Locker (DIY Locker)",
           "TOOLS"
          ],
          [
           "Adobe Illustrator Draw",
           "PHOTOGRAPHY"
          ],
          [
           "CCleaner",
           "TOOLS"
          ],
          [
           "FRANCE 24",
           "NEWS_AND_MAGAZINES"
          ],
          [
           "EZ Video Download for Facebook",
           "SOCIAL"
          ],
          [
           "Premier League - Official App",
           "SPORTS"
          ],
          [
           "Wifi Test",
           "LIBRARIES_AND_DEMO"
          ],
          [
           "Koi Free Live Wallpaper",
           "PERSONALIZATION"
          ],
          [
           "BI Mobile Banking",
           "FINANCE"
          ],
          [
           "BW Taxi",
           "MAPS_AND_NAVIGATION"
          ],
          [
           "Coloring & Learn",
           "FAMILY"
          ],
          [
           "DP and Status",
           "FAMILY"
          ],
          [
           "Text Free: WiFi Calling App",
           "SOCIAL"
          ],
          [
           "SenseView BT Zephyr Sensor",
           "TOOLS"
          ],
          [
           "Fr. Mike Schmitz Audio Teachings",
           "FAMILY"
          ],
          [
           "Technutri - calorie counter, diet and carb tracker",
           "HEALTH_AND_FITNESS"
          ],
          [
           "Ek Maratha",
           "SOCIAL"
          ],
          [
           "Alba Heaven - Alvarez Job Portal Services",
           "BUSINESS"
          ],
          [
           "Meritrust CU Mobile Banking",
           "FINANCE"
          ],
          [
           "DG UPnP Player Free",
           "VIDEO_PLAYERS"
          ],
          [
           "Red Ball 4",
           "GAME"
          ],
          [
           "Digi Dex for DW Next Order @PS4",
           "TOOLS"
          ],
          [
           "Audiobooks from Audible",
           "BOOKS_AND_REFERENCE"
          ],
          [
           "DC All Access",
           "FAMILY"
          ],
          [
           "Loop - Habit Tracker",
           "PRODUCTIVITY"
          ],
          [
           "Pin-fo",
           "FAMILY"
          ],
          [
           "The Church at CW",
           "LIFESTYLE"
          ],
          [
           "Should I Answer?",
           "COMMUNICATION"
          ],
          [
           "BU Bus Tracker",
           "MAPS_AND_NAVIGATION"
          ],
          [
           "Club",
           "MEDICAL"
          ],
          [
           "Get Over Your Ex",
           "DATING"
          ],
          [
           "SHADOWGUN LEGENDS",
           "GAME"
          ],
          [
           "Official NBSTSA CSFA Exam Prep",
           "MEDICAL"
          ],
          [
           "Amex Mobile",
           "FINANCE"
          ],
          [
           "AfterFocus",
           "PHOTOGRAPHY"
          ],
          [
           "Exam Result BD",
           "FAMILY"
          ],
          [
           "Free Wi-fi HotspoT",
           "COMMUNICATION"
          ],
          [
           "X Launcher Pro: PhoneX Theme, OS11 Control Center",
           "ART_AND_DESIGN"
          ],
          [
           "BN Pro ArialXL-b HD Text",
           "LIBRARIES_AND_DEMO"
          ],
          [
           "Sword Art Online: Integral Factor",
           "FAMILY"
          ],
          [
           "Bh Public School",
           "FAMILY"
          ],
          [
           "Disc Label Print",
           "TOOLS"
          ],
          [
           "Florida - Pocket Brainbook",
           "BOOKS_AND_REFERENCE"
          ],
          [
           "Discovery Church Florida",
           "LIFESTYLE"
          ],
          [
           "Who am I? (Biblical)",
           "GAME"
          ],
          [
           "Al Quran (Tafsir & by Word)",
           "BOOKS_AND_REFERENCE"
          ],
          [
           "C W Browser",
           "COMMUNICATION"
          ],
          [
           "XE Currency",
           "TRAVEL_AND_LOCAL"
          ],
          [
           "A+ Mobile",
           "FINANCE"
          ],
          [
           "DX Spots Free",
           "TOOLS"
          ],
          [
           "Wedding LookBook by The Knot",
           "LIFESTYLE"
          ],
          [
           "San Andreas Crime Stories",
           "GAME"
          ],
          [
           "HomeAway Vacation Rentals",
           "TRAVEL_AND_LOCAL"
          ],
          [
           "SONIC Drive-In",
           "FOOD_AND_DRINK"
          ],
          [
           "Thumbnail Maker",
           "PHOTOGRAPHY"
          ],
          [
           "Da Fit",
           "SPORTS"
          ],
          [
           "Smart Wi-Fi Hotspot PRO",
           "COMMUNICATION"
          ],
          [
           "Inches to cm conversion",
           "TOOLS"
          ],
          [
           "EZ PZ RPG",
           "FAMILY"
          ],
          [
           "Memorado - Brain Games",
           "EDUCATION"
          ],
          [
           "Tafsiir Quraan MP3 Af Soomaali Quraanka Kariimka",
           "LIFESTYLE"
          ],
          [
           "El Laberinto del Demonio 3D",
           "FAMILY"
          ],
          [
           "Thomas & Friends: Race On!",
           "FAMILY"
          ],
          [
           "Gymnastics Superstar - Spin your way to gold!",
           "FAMILY"
          ],
          [
           "Path",
           "SOCIAL"
          ],
          [
           "DX Simulation for Kabuto Henshin Belt 2018",
           "FAMILY"
          ],
          [
           "Barbie Life™",
           "FAMILY"
          ],
          [
           "Heart mill",
           "DATING"
          ],
          [
           "Soccer 2018",
           "SPORTS"
          ],
          [
           "Lost Journey (Dreamsky)",
           "GAME"
          ],
          [
           "Chemin (fr)",
           "BOOKS_AND_REFERENCE"
          ],
          [
           "Cisco Webex Teams",
           "BUSINESS"
          ],
          [
           "ACTIVEON CX & CX GOLD",
           "VIDEO_PLAYERS"
          ],
          [
           "Chart - Myanmar Keyboard",
           "LIFESTYLE"
          ],
          [
           "BC Connect",
           "FAMILY"
          ],
          [
           "Files Go by Google: Free up space on your phone",
           "TOOLS"
          ],
          [
           "Thrive CF",
           "HEALTH_AND_FITNESS"
          ],
          [
           "Crazy Bike attack Racing New: motorcycle racing",
           "GAME"
          ],
          [
           "V BTS Wallpaper",
           "PERSONALIZATION"
          ],
          [
           "Unclouded - Cloud Manager",
           "PRODUCTIVITY"
          ],
          [
           "Glowing Flowers Live Wallpaper",
           "PERSONALIZATION"
          ],
          [
           "FD VR - Virtual Photo Gallery",
           "FAMILY"
          ],
          [
           "Spacecraft AR",
           "FAMILY"
          ],
          [
           "DF-Server Mobile",
           "PRODUCTIVITY"
          ],
          [
           "Access Point Browser",
           "TOOLS"
          ],
          [
           "CW Nuclear",
           "BOOKS_AND_REFERENCE"
          ],
          [
           "Ah! Coins",
           "GAME"
          ],
          [
           "Transit: Real-Time Transit App",
           "MAPS_AND_NAVIGATION"
          ],
          [
           "What is my IP address",
           "TOOLS"
          ],
          [
           "KFC CZ",
           "LIFESTYLE"
          ],
          [
           "Best Browser BD social networking",
           "COMMUNICATION"
          ],
          [
           "Powershop AU",
           "TOOLS"
          ],
          [
           "SYFY",
           "FAMILY"
          ],
          [
           "RetroSelfie - Selfie Editor",
           "PHOTOGRAPHY"
          ],
          [
           "GRE® Flashcards by Kaplan",
           "EDUCATION"
          ],
          [
           "Beauty and the Beast",
           "FAMILY"
          ],
          [
           "Business Mitra (BM)",
           "BUSINESS"
          ],
          [
           "Walk with Map My Walk",
           "HEALTH_AND_FITNESS"
          ],
          [
           "Butterfly Pixel Art - coloring by number",
           "FAMILY"
          ],
          [
           "Math Solver",
           "FAMILY"
          ],
          [
           "Südtirol2Go",
           "MAPS_AND_NAVIGATION"
          ],
          [
           "A-B repeater",
           "VIDEO_PLAYERS"
          ],
          [
           "Driving Zone",
           "GAME"
          ],
          [
           "B.T.",
           "NEWS_AND_MAGAZINES"
          ],
          [
           "2000 AD Comics and Judge Dredd",
           "COMICS"
          ],
          [
           "DT Smart",
           "TOOLS"
          ],
          [
           "China Town Auto Theft 2",
           "GAME"
          ],
          [
           "Ringtone Maker",
           "PERSONALIZATION"
          ],
          [
           "Ingress",
           "GAME"
          ],
          [
           "Ex Quotes",
           "LIFESTYLE"
          ],
          [
           "Download Accelerator Plus",
           "TOOLS"
          ],
          [
           "Instabridge - Free WiFi Passwords and Hotspots",
           "TOOLS"
          ],
          [
           "Depths of Betrayal CE (Full)",
           "FAMILY"
          ],
          [
           "Phogy, 3D Camera",
           "PHOTOGRAPHY"
          ],
          [
           "Dr. Panda Town: Vacation",
           "FAMILY"
          ],
          [
           "XCOM®: Enemy Within",
           "FAMILY"
          ],
          [
           "Kids Paint Free - Drawing Fun",
           "ART_AND_DESIGN"
          ],
          [
           "100 Doors of Revenge",
           "FAMILY"
          ],
          [
           "Story Saver for Instagram",
           "PHOTOGRAPHY"
          ],
          [
           "BF Browser by Betfilter - Stop Gambling Today!",
           "COMMUNICATION"
          ],
          [
           "OLX Uganda Sell Buy Cellphones",
           "SHOPPING"
          ],
          [
           "Little Teddy Bear Colouring Book Game",
           "ART_AND_DESIGN"
          ],
          [
           "AppLock - Fingerprint Unlock",
           "TOOLS"
          ],
          [
           "do",
           "FAMILY"
          ],
          [
           "Map My Fitness Workout Trainer",
           "HEALTH_AND_FITNESS"
          ],
          [
           "Real Estate, Car, Shopping and Others",
           "SHOPPING"
          ],
          [
           "Ai illustrator viewer",
           "ART_AND_DESIGN"
          ],
          [
           "Mafia City",
           "GAME"
          ],
          [
           "Rized ‼️ Color By Number & Pixel Coloring Book",
           "FAMILY"
          ],
          [
           "EZ Display",
           "PRODUCTIVITY"
          ],
          [
           "Battery HD Pro",
           "TOOLS"
          ],
          [
           "Power Spheres by BoBoiBoy",
           "FAMILY"
          ],
          [
           "Recycling Cy",
           "LIFESTYLE"
          ],
          [
           "Call of Duty:Black Ops Zombies",
           "GAME"
          ],
          [
           "Cat Sim Online: Play with Cats",
           "FAMILY"
          ],
          [
           "Power Widget",
           "TOOLS"
          ],
          [
           "Airport + Flight Tracker Radar",
           "TRAVEL_AND_LOCAL"
          ],
          [
           "Speed Camera Detector - Traffic & Speed Alert",
           "AUTO_AND_VEHICLES"
          ],
          [
           "Zillow: Find Houses for Sale & Apartments for Rent",
           "HOUSE_AND_HOME"
          ],
          [
           "Clean My House – Chore To Do List, Task Scheduler",
           "PRODUCTIVITY"
          ],
          [
           "MX Player Codec (ARMv7)",
           "LIBRARIES_AND_DEMO"
          ],
          [
           "U Camera : Phone 6s OS 9 style",
           "PHOTOGRAPHY"
          ],
          [
           "Shiver: Moonlit Grove CE",
           "FAMILY"
          ],
          [
           "ADP Mobile Solutions",
           "BUSINESS"
          ],
          [
           "Power Booster - Junk Cleaner & CPU Cooler & Boost",
           "PRODUCTIVITY"
          ],
          [
           "Bubble Shooter DX",
           "FAMILY"
          ],
          [
           "search.ch",
           "TRAVEL_AND_LOCAL"
          ],
          [
           "Overstock – Home Decor, Furniture Shopping",
           "SHOPPING"
          ],
          [
           "Moto Z Market",
           "TOOLS"
          ],
          [
           "Emerge EV App (eBike App)",
           "LIFESTYLE"
          ],
          [
           "EF English Live for tablets",
           "FAMILY"
          ],
          [
           "GO SMS Pro - Messenger, Free Themes, Emoji",
           "COMMUNICATION"
          ],
          [
           "BG Products",
           "AUTO_AND_VEHICLES"
          ],
          [
           "DW Event",
           "EVENTS"
          ],
          [
           "PLAYBULB X",
           "LIFESTYLE"
          ],
          [
           "NDS-controller",
           "TOOLS"
          ],
          [
           "FQ METER",
           "PRODUCTIVITY"
          ],
          [
           "BIG Launcher",
           "PERSONALIZATION"
          ],
          [
           "Sin City Crime Simulator V - Gangster",
           "GAME"
          ],
          [
           "BH Mail",
           "COMMUNICATION"
          ],
          [
           "Photo Frames",
           "PHOTOGRAPHY"
          ],
          [
           "Used car search Goo net whole car Go to net",
           "AUTO_AND_VEHICLES"
          ],
          [
           "Dr.Slender Ep 1 Guide (Eng)",
           "GAME"
          ],
          [
           "DB for Fallout Shelter",
           "FAMILY"
          ],
          [
           "Tickets SDA 2019 + Exam RF",
           "AUTO_AND_VEHICLES"
          ],
          [
           "GPS Traffic Speedcam Route Planner by ViaMichelin",
           "MAPS_AND_NAVIGATION"
          ],
          [
           "Live Golf Scores - US & European Golf",
           "SPORTS"
          ],
          [
           "How To Color Disney Princess - Coloring Pages",
           "ART_AND_DESIGN"
          ],
          [
           "Numbers Into Words",
           "PRODUCTIVITY"
          ],
          [
           "AZ Rockets",
           "GAME"
          ],
          [
           "Walk Freely (Ec Shlire)",
           "TOOLS"
          ],
          [
           "Calendar Widget Month + Agenda",
           "PRODUCTIVITY"
          ],
          [
           "VUE: video editor & camcorder",
           "VIDEO_PLAYERS"
          ],
          [
           "Where is my Train : Indian Railway & PNR Status",
           "TRAVEL_AND_LOCAL"
          ],
          [
           "Alto's Adventure",
           "GAME"
          ],
          [
           "РИА Новости",
           "NEWS_AND_MAGAZINES"
          ],
          [
           "Nucleus Smart",
           "MEDICAL"
          ],
          [
           "QR Code Reader",
           "TOOLS"
          ],
          [
           "BIGO LIVE - Live Stream",
           "SOCIAL"
          ],
          [
           "Soccer Star 2018 Top Leagues · MLS Soccer Games",
           "SPORTS"
          ],
          [
           "Meet U - Get Friends for Snapchat, Kik & Instagram",
           "SOCIAL"
          ],
          [
           "AC Remote Control Simulator",
           "FAMILY"
          ],
          [
           "Lovely Cute Pink Kitty Cat Keyboard Theme",
           "PERSONALIZATION"
          ],
          [
           "King Burger Dash",
           "FAMILY"
          ],
          [
           "Escaping the Prison",
           "FAMILY"
          ],
          [
           "Ulta Beauty",
           "BEAUTY"
          ],
          [
           "EC-HRV test",
           "SPORTS"
          ],
          [
           "FANDOM for: DC",
           "FAMILY"
          ],
          [
           "Cardi B Live Stream Video Chat - Prank",
           "DATING"
          ],
          [
           "Decibel X PRO - Sound Meter dBA, Noise Detector",
           "TOOLS"
          ],
          [
           "Shopfully - Weekly Ads & Deals",
           "SHOPPING"
          ],
          [
           "PINKFONG Baby Shark",
           "EDUCATION"
          ],
          [
           "Betul Ke Bohong Eh?",
           "GAME"
          ],
          [
           "Alphabet \"H\" Passcode Lock Screen",
           "PERSONALIZATION"
          ],
          [
           "G-NetTrack Pro",
           "TOOLS"
          ],
          [
           "Victoria, BC | Tour City",
           "TRAVEL_AND_LOCAL"
          ],
          [
           "Recipes for hair and face tried",
           "HEALTH_AND_FITNESS"
          ],
          [
           "Nights at Cube Pizzeria 3D – 3",
           "FAMILY"
          ],
          [
           "NBC Sports Gold",
           "SPORTS"
          ],
          [
           "Calcy IV",
           "TOOLS"
          ],
          [
           "EF English Live Business",
           "FAMILY"
          ],
          [
           "AJ Styles Wallpaper 2018 - AJ Styles HD Wallpaper",
           "ART_AND_DESIGN"
          ],
          [
           "InterracialCupid - Interracial Dating App",
           "DATING"
          ],
          [
           "DW Learn German - A1, A2, B1 and placement test",
           "FAMILY"
          ],
          [
           "Plants vs. Zombies™ Heroes",
           "FAMILY"
          ],
          [
           "Chess of Blades (Demo)",
           "FAMILY"
          ],
          [
           "Yoong: Kick 'Em Up!",
           "SPORTS"
          ],
          [
           "Shadow Fight 2 Special Edition",
           "GAME"
          ],
          [
           "News-Journal-Daytona Beach, FL",
           "NEWS_AND_MAGAZINES"
          ],
          [
           "Runtastic Running App & Mile Tracker",
           "HEALTH_AND_FITNESS"
          ],
          [
           "Zona Azul Digital Fácil SP CET - OFFICIAL São Paulo",
           "AUTO_AND_VEHICLES"
          ],
          [
           "Couch to 10K Running Trainer",
           "HEALTH_AND_FITNESS"
          ],
          [
           "Theme For Techno Camon CX",
           "PERSONALIZATION"
          ],
          [
           "FD VR - Virtual Reality Camera",
           "FAMILY"
          ],
          [
           "The Q - Live Trivia Game Network",
           "GAME"
          ],
          [
           "Rivals at War: 2084",
           "FAMILY"
          ],
          [
           "AliExpress - Smarter Shopping, Better Living",
           "SHOPPING"
          ],
          [
           "Updates for Samsung - Android Update Versions",
           "NEWS_AND_MAGAZINES"
          ],
          [
           "I AM RICH PRO PLUS",
           "FINANCE"
          ],
          [
           "💎 I'm rich",
           "LIFESTYLE"
          ],
          [
           "HTC Sense Input - FA",
           "TOOLS"
          ],
          [
           "Meme Generator",
           "ENTERTAINMENT"
          ],
          [
           "Asteroids 3D live wallpaper",
           "PERSONALIZATION"
          ],
          [
           "DC Metro Transit",
           "TRAVEL_AND_LOCAL"
          ],
          [
           "Grim Tales: The Wishes CE",
           "GAME"
          ],
          [
           "video player",
           "VIDEO_PLAYERS"
          ],
          [
           "eHub",
           "BUSINESS"
          ],
          [
           "PBS KIDS Video",
           "EDUCATION"
          ],
          [
           "Greater London A-Z 2016",
           "TRAVEL_AND_LOCAL"
          ],
          [
           "Google Chrome: Fast & Secure",
           "COMMUNICATION"
          ],
          [
           "Ez iCam",
           "PHOTOGRAPHY"
          ],
          [
           "Event Manager - AllEvents.in",
           "EVENTS"
          ],
          [
           "Financial Times",
           "NEWS_AND_MAGAZINES"
          ],
          [
           "Adivina el cantante de Trap y Reggaeton",
           "GAME"
          ],
          [
           "Theme Android P for LG G7 & V35",
           "PERSONALIZATION"
          ],
          [
           "Alzashop.com",
           "SHOPPING"
          ],
          [
           "NHL",
           "SPORTS"
          ],
          [
           "CG Freelancer",
           "NEWS_AND_MAGAZINES"
          ],
          [
           "Qeek for Instagram - Zoom profile insta DP",
           "SOCIAL"
          ],
          [
           "Moven - Smart Finances",
           "FINANCE"
          ],
          [
           "2 Amateur ham radio CW Morse code practice keys TX",
           "COMMUNICATION"
          ],
          [
           "AJ Blue Icon Pack",
           "PERSONALIZATION"
          ],
          [
           "Toy Battle Z",
           "FAMILY"
          ],
          [
           "Capitec Remote Banking",
           "FINANCE"
          ],
          [
           "Bokeh (Background defocus)",
           "PHOTOGRAPHY"
          ],
          [
           "CI Screwed - Icon Pack",
           "PERSONALIZATION"
          ],
          [
           "English translation from Bengali",
           "BOOKS_AND_REFERENCE"
          ],
          [
           "Adult Dating - AdultFinder",
           "DATING"
          ],
          [
           "PriorityONE Credit Union of Fl",
           "FINANCE"
          ],
          [
           "ricardo.ch",
           "SHOPPING"
          ],
          [
           "CJ Gospel Hour",
           "SOCIAL"
          ],
          [
           "Learn DS [BETA]",
           "FAMILY"
          ],
          [
           "FA Player Essentials",
           "SPORTS"
          ],
          [
           "Favorite children's songs",
           "PARENTING"
          ],
          [
           "issuu - Read Magazines, Catalogs, Newspapers.",
           "NEWS_AND_MAGAZINES"
          ],
          [
           "FreshBooks Classic",
           "BUSINESS"
          ],
          [
           "Retrica",
           "PHOTOGRAPHY"
          ],
          [
           "AY Recorder - Screen Recorder, Live, Video Editor",
           "TOOLS"
          ],
          [
           "GialloZafferano: Recipes",
           "FOOD_AND_DRINK"
          ],
          [
           "Anti Adware",
           "TOOLS"
          ],
          [
           "DK Browser",
           "COMMUNICATION"
          ],
          [
           "Zen Leaf",
           "MEDICAL"
          ],
          [
           "EGW Writings",
           "BOOKS_AND_REFERENCE"
          ],
          [
           "OmniMedix Medical Calculator",
           "MEDICAL"
          ],
          [
           "SH Script Runner",
           "PRODUCTIVITY"
          ],
          [
           "edp re:dy smarthome",
           "TOOLS"
          ],
          [
           "AutoCAD - DWG Viewer & Editor",
           "PRODUCTIVITY"
          ],
          [
           "Benefit Extras Mobile App",
           "HEALTH_AND_FITNESS"
          ],
          [
           "EZ Screenshot",
           "TOOLS"
          ],
          [
           "Dt Tracking",
           "AUTO_AND_VEHICLES"
          ],
          [
           "AP Mobile",
           "FAMILY"
          ],
          [
           "EF English Live for phone",
           "FAMILY"
          ],
          [
           "Arab Halls - For Wedding & Events",
           "EVENTS"
          ],
          [
           "Il Coccodrillo Come Fa",
           "FAMILY"
          ],
          [
           "WeFi - Free Fast WiFi Connect & Find Wi-Fi Map",
           "COMMUNICATION"
          ],
          [
           "Huji Cam",
           "PHOTOGRAPHY"
          ],
          [
           "Big Days - Events Countdown",
           "LIFESTYLE"
          ],
          [
           "RPG ブレイジング ソウルズ アクセレイト",
           "FAMILY"
          ],
          [
           "EY India CFO Insights",
           "BUSINESS"
          ],
          [
           "Canon CameraWindow",
           "PHOTOGRAPHY"
          ],
          [
           "imo beta free calls and text",
           "COMMUNICATION"
          ],
          [
           "Photo Lock App - Hide Pictures & Videos",
           "PERSONALIZATION"
          ],
          [
           "TwitCasting Live",
           "SOCIAL"
          ],
          [
           "BC Highways - Road Conditions",
           "TRAVEL_AND_LOCAL"
          ],
          [
           "Educational Games for Kids",
           "FAMILY"
          ],
          [
           "Simple - Better Banking",
           "FINANCE"
          ],
          [
           "BN Pro Black Text on White",
           "LIBRARIES_AND_DEMO"
          ],
          [
           "BG Score",
           "SPORTS"
          ],
          [
           "Screen Lock",
           "TOOLS"
          ],
          [
           "DC Comics",
           "COMICS"
          ],
          [
           "Creative Destruction",
           "GAME"
          ],
          [
           "CG Creative Sets: 2D/3D Artist",
           "NEWS_AND_MAGAZINES"
          ],
          [
           "RST - Sale of cars on the PCT",
           "AUTO_AND_VEHICLES"
          ],
          [
           "Bw Events",
           "EVENTS"
          ],
          [
           "Fraction Calculator Plus Free",
           "TOOLS"
          ],
          [
           "Sports Tracker Running Cycling",
           "HEALTH_AND_FITNESS"
          ],
          [
           "Nyan Cat: Lost In Space",
           "GAME"
          ],
          [
           "Tuberculose Dz",
           "MEDICAL"
          ],
          [
           "Zombie Frontier",
           "GAME"
          ],
          [
           "Clash of Kings : The King Of Fighters version",
           "FAMILY"
          ],
          [
           "Udemy - Online Courses",
           "EDUCATION"
          ],
          [
           "Education First FCU Mobile",
           "FINANCE"
          ],
          [
           "Amazing Fart Sounds",
           "FAMILY"
          ],
          [
           "Security Master - Antivirus, VPN, AppLock, Booster",
           "TOOLS"
          ],
          [
           "Toca Kitchen 2",
           "FAMILY"
          ],
          [
           "ai.type Free Emoji Keyboard",
           "PERSONALIZATION"
          ],
          [
           "EV Trip Optimizer for Tesla",
           "AUTO_AND_VEHICLES"
          ],
          [
           "Satellite AR",
           "BOOKS_AND_REFERENCE"
          ],
          [
           "Manga Mania - Best online manga reader",
           "COMICS"
          ],
          [
           "Smash Hit",
           "GAME"
          ],
          [
           "Brica BPRO5 AE",
           "PHOTOGRAPHY"
          ],
          [
           "ABCmouse.com",
           "FAMILY"
          ],
          [
           "tutti.ch - Free Classifieds",
           "SHOPPING"
          ],
          [
           "Mobizen Screen Recorder for LG - Record, Capture",
           "VIDEO_PLAYERS"
          ],
          [
           "Naruto Shippuden - Watch Free!",
           "VIDEO_PLAYERS"
          ],
          [
           "Roulette Advisor LITE",
           "GAME"
          ],
          [
           "Timetable",
           "EDUCATION"
          ],
          [
           "T-Mobile",
           "TOOLS"
          ],
          [
           "VIP Backgammon Free : Play Backgammon Online",
           "GAME"
          ],
          [
           "SKencar",
           "AUTO_AND_VEHICLES"
          ],
          [
           "Planning Center Services",
           "PRODUCTIVITY"
          ],
          [
           "AE Jewels 2: Island Adventures",
           "GAME"
          ],
          [
           "Backgammon NJ for Android",
           "GAME"
          ],
          [
           "BDCast - Bangla Live TV,Radio",
           "FAMILY"
          ],
          [
           "EK Platinum",
           "LIFESTYLE"
          ],
          [
           "Arizona Statutes, ARS (AZ Law)",
           "BOOKS_AND_REFERENCE"
          ],
          [
           "All Type Ac Repair & Services",
           "LIFESTYLE"
          ],
          [
           "FD VR Video Player - (Stored)",
           "FAMILY"
          ],
          [
           "The Tribez: Build a Village",
           "FAMILY"
          ],
          [
           "X-Plane to GPS",
           "TOOLS"
          ],
          [
           "Blood Donor",
           "MEDICAL"
          ],
          [
           "Garena Free Fire",
           "GAME"
          ],
          [
           "EZ-Placard - Free Placard Calculator",
           "TOOLS"
          ],
          [
           "My Ooredoo Algeria",
           "TOOLS"
          ],
          [
           "Salah Widget (DK+Malmo)",
           "LIFESTYLE"
          ],
          [
           "m.ride - your motorcycle app",
           "AUTO_AND_VEHICLES"
          ],
          [
           "Moment",
           "SOCIAL"
          ],
          [
           "EF Classroom",
           "FAMILY"
          ],
          [
           "Loved by King Bs",
           "FAMILY"
          ],
          [
           "Ab Workouts",
           "HEALTH_AND_FITNESS"
          ],
          [
           "FindLoving",
           "DATING"
          ],
          [
           "NQ Mobile Security & Antivirus",
           "PRODUCTIVITY"
          ],
          [
           "Sniper Gun Shot 3D: Impossible Missions",
           "GAME"
          ],
          [
           "Q-slope",
           "TOOLS"
          ],
          [
           "РееI Smart Remote MP3 CD Player",
           "TOOLS"
          ],
          [
           "Council Voting Calculator",
           "COMMUNICATION"
          ],
          [
           "Dr. Oetker recipe ideas",
           "FOOD_AND_DRINK"
          ],
          [
           "FamilySearch Tree",
           "BOOKS_AND_REFERENCE"
          ],
          [
           "Baskin-Robbins",
           "FOOD_AND_DRINK"
          ],
          [
           "CL e-bank",
           "FINANCE"
          ],
          [
           "Oral-B App",
           "HEALTH_AND_FITNESS"
          ],
          [
           "Apartment, Home Rental Search: Realtor.com Rentals",
           "HOUSE_AND_HOME"
          ],
          [
           "Football Manager Mobile 2018",
           "SPORTS"
          ],
          [
           "DX Simulation for X-aid Dx Belt",
           "FAMILY"
          ],
          [
           "Uber Eats: Local Food Delivery",
           "FOOD_AND_DRINK"
          ],
          [
           "I Screen Dialer",
           "TOOLS"
          ],
          [
           "Vonage Mobile® Call Video Text",
           "COMMUNICATION"
          ],
          [
           "English with Lingualeo",
           "EDUCATION"
          ],
          [
           "TickTick: To Do List with Reminder, Day Planner",
           "PRODUCTIVITY"
          ],
          [
           "CB Frequencies FREE!",
           "TOOLS"
          ],
          [
           "OneTouch Reveal",
           "MEDICAL"
          ],
          [
           "Waiting For U Launcher Theme",
           "PERSONALIZATION"
          ],
          [
           "Eshopcy.com.cy",
           "SHOPPING"
          ],
          [
           "T-Mobile in",
           "FINANCE"
          ],
          [
           "BZ Straußenführer",
           "TRAVEL_AND_LOCAL"
          ],
          [
           "D.L. Evans Bank Mobile Banking",
           "FINANCE"
          ],
          [
           "Ideal Weight, BMI Calculator",
           "HEALTH_AND_FITNESS"
          ],
          [
           "Bad Piggies HD",
           "FAMILY"
          ],
          [
           "Google Docs",
           "PRODUCTIVITY"
          ],
          [
           "감성학원 BL 첫사랑",
           "COMICS"
          ],
          [
           "OpenCV Manager",
           "LIBRARIES_AND_DEMO"
          ],
          [
           "Clash of Axe: Flippy Lumberjack Action X",
           "GAME"
          ],
          [
           "Shred! Downhill Mountainbiking",
           "GAME"
          ],
          [
           "Ay Up",
           "FAMILY"
          ],
          [
           "I Am Wizard",
           "FAMILY"
          ],
          [
           "Cardi B HD Wallpapers Lock Screen",
           "PERSONALIZATION"
          ],
          [
           "BBC Persian | BBC Farsi News",
           "NEWS_AND_MAGAZINES"
          ],
          [
           "Hungry Girl Diet Bk. Companion",
           "HEALTH_AND_FITNESS"
          ],
          [
           "Kroger",
           "SHOPPING"
          ],
          [
           "J-Novel Club",
           "FAMILY"
          ],
          [
           "I am Rich Plus",
           "FAMILY"
          ],
          [
           "Creative Ideas - DIY & Craft",
           "LIFESTYLE"
          ],
          [
           "Jewels Legend - Match 3 Puzzle",
           "GAME"
          ],
          [
           "Yandex.Weather",
           "WEATHER"
          ],
          [
           "Qapital - Save Small. Live Large",
           "FINANCE"
          ],
          [
           "ARuler - AR Ruler app, Measure tools",
           "TOOLS"
          ],
          [
           "QR Scanner & Barcode Scanner 2018",
           "PRODUCTIVITY"
          ],
          [
           "Fabulous: Motivate Me! Meditate, Relax, Sleep",
           "HEALTH_AND_FITNESS"
          ],
          [
           "3D Color Pixel by Number - Sandbox Art Coloring",
           "ART_AND_DESIGN"
          ],
          [
           "TelaDoc",
           "MEDICAL"
          ],
          [
           "ipsy: Makeup, Beauty, and Tips",
           "BEAUTY"
          ],
          [
           "Numerica CU",
           "FINANCE"
          ],
          [
           "Contents Provider(C.P.)Explorer",
           "TOOLS"
          ],
          [
           "USA Singles Meet, Match and Date Free - Date",
           "DATING"
          ],
          [
           "Antillean Gold Telegram (original version)",
           "COMMUNICATION"
          ],
          [
           "BestCam Selfie-selfie, beauty camera, photo editor",
           "BEAUTY"
          ],
          [
           "Puppy Shooting an AK-47: Platformer Zombie Game",
           "GAME"
          ],
          [
           "The Report, Fox, Breitbart - Conservative News",
           "NEWS_AND_MAGAZINES"
          ],
          [
           "BD Attendance",
           "PRODUCTIVITY"
          ],
          [
           "E.G. Chess Free",
           "GAME"
          ],
          [
           "Best Friends Dress Up & Makeup",
           "FAMILY"
          ],
          [
           "The Daily BJ",
           "HEALTH_AND_FITNESS"
          ],
          [
           "Final Fantasy XV: A New Empire",
           "GAME"
          ],
          [
           "Learn English Words Free",
           "EDUCATION"
          ],
          [
           "PIP Camera - PIP Collage Maker",
           "ART_AND_DESIGN"
          ],
          [
           "Farming Simulator 14",
           "FAMILY"
          ],
          [
           "Children's cartoons (Mithu-Mina-Raju)",
           "COMICS"
          ],
          [
           "Used car is the first car - used car purchase, used car quotation, dealer information to",
           "AUTO_AND_VEHICLES"
          ],
          [
           "Micro Fi",
           "FAMILY"
          ],
          [
           "BP-Tech",
           "FAMILY"
          ],
          [
           "codeSpark Academy & The Foos",
           "FAMILY"
          ],
          [
           "House party - live chat",
           "DATING"
          ],
          [
           "O'Route Orienteering",
           "SPORTS"
          ],
          [
           "Offline English Dictionary",
           "BOOKS_AND_REFERENCE"
          ],
          [
           "Smart TV Remote",
           "TOOLS"
          ],
          [
           "Profile Pictures - Best DP Status",
           "FAMILY"
          ],
          [
           "The Grand Wars: San Andreas",
           "GAME"
          ],
          [
           "AE Master Moto",
           "GAME"
          ],
          [
           "E-Z App™ Train Control",
           "TOOLS"
          ],
          [
           "RIDE ZERO",
           "GAME"
          ],
          [
           "Merge Dragons!",
           "GAME"
          ],
          [
           "Backgrounds HD (Wallpapers)",
           "PERSONALIZATION"
          ],
          [
           "Barca News - FC Barcelona, World Foot & Transfers",
           "SPORTS"
          ],
          [
           "The TK-App - everything under control",
           "HEALTH_AND_FITNESS"
          ],
          [
           "Battlelands Royale",
           "GAME"
          ],
          [
           "Lep's World 2 🍀🍀",
           "GAME"
          ],
          [
           "Narcos: Cartel Wars",
           "FAMILY"
          ],
          [
           "DM security - Dragon Mobile",
           "TOOLS"
          ],
          [
           "SignEasy | Sign and Fill PDF and other Documents",
           "BUSINESS"
          ],
          [
           "Even - organize your money, get paid early",
           "FINANCE"
          ],
          [
           "Rainbow - Journal & Activities",
           "PARENTING"
          ],
          [
           "DZ Popup Video Player",
           "VIDEO_PLAYERS"
          ],
          [
           "Dr. Driving 2",
           "GAME"
          ],
          [
           "Morse Notifier Free",
           "TOOLS"
          ],
          [
           "RandoChat - Chat roulette",
           "DATING"
          ],
          [
           "Learn JavaScript",
           "EDUCATION"
          ],
          [
           "DV-2019 UK/British",
           "FAMILY"
          ],
          [
           "VPN Free - Betternet Hotspot VPN & Private Browser",
           "TOOLS"
          ],
          [
           "Mozart Baby Sleep",
           "PARENTING"
          ],
          [
           "Advanced Warfare Guns",
           "FAMILY"
          ],
          [
           "codeEazy - C/C++/JAVA",
           "FAMILY"
          ],
          [
           "Where Am I At?",
           "TRAVEL_AND_LOCAL"
          ],
          [
           "Heart Surgery Doctor - ER Emergency Game",
           "FAMILY"
          ],
          [
           "Orbita AI — Exciting mobile puzzles & riddles",
           "FAMILY"
          ],
          [
           "Texas Hold'em Poker",
           "GAME"
          ],
          [
           "Black Theme Go Launcher EX",
           "PERSONALIZATION"
          ],
          [
           "reality.cz",
           "HOUSE_AND_HOME"
          ],
          [
           "Doctr – ER wait times in Canada",
           "MEDICAL"
          ],
          [
           "BL Mobile Banking",
           "FINANCE"
          ],
          [
           "Florida Beach Wallpapers HD",
           "TRAVEL_AND_LOCAL"
          ],
          [
           "easyJet: Travel App",
           "TRAVEL_AND_LOCAL"
          ],
          [
           "Wonder5 Masters R",
           "FAMILY"
          ],
          [
           "058.ba",
           "NEWS_AND_MAGAZINES"
          ],
          [
           "Paris ci la Sortie du Métro",
           "MAPS_AND_NAVIGATION"
          ],
          [
           "Barry EC",
           "TOOLS"
          ],
          [
           "BA Calculator",
           "PRODUCTIVITY"
          ],
          [
           "Adventure Time Game Wizard",
           "GAME"
          ],
          [
           "Video Player All Format for Android",
           "VIDEO_PLAYERS"
          ],
          [
           "Zara",
           "LIFESTYLE"
          ],
          [
           "Plug-in app (System AC)",
           "TOOLS"
          ],
          [
           "DC HSEMA",
           "BOOKS_AND_REFERENCE"
          ],
          [
           "Ag Valley Cooperative",
           "BUSINESS"
          ],
          [
           "Poynt",
           "TRAVEL_AND_LOCAL"
          ],
          [
           "Dr. Gomoku",
           "GAME"
          ],
          [
           "O-Star",
           "DATING"
          ],
          [
           "Deck Heroes: Legacy",
           "GAME"
          ],
          [
           "Ei Somoy & Dainik Sangbad & Statesman (PDF)",
           "NEWS_AND_MAGAZINES"
          ],
          [
           "Chinese Chess ( Xiangqi Free )",
           "GAME"
          ],
          [
           "Free Resume Builder – CV Maker",
           "BUSINESS"
          ],
          [
           "Eat24 Food Delivery & Takeout",
           "FOOD_AND_DRINK"
          ],
          [
           "Cheating Tom 3 - Genius School",
           "GAME"
          ],
          [
           "R-TYPE II",
           "GAME"
          ],
          [
           "Mercato foot by Maxifoot",
           "SPORTS"
          ],
          [
           "OO Launcher for Android O 8.0 Oreo™ Launcher",
           "PERSONALIZATION"
          ],
          [
           "BC Slots - The Lost Reels FREE",
           "GAME"
          ],
          [
           "英漢字典 EC Dictionary",
           "FAMILY"
          ],
          [
           "DP Maker",
           "PHOTOGRAPHY"
          ],
          [
           "Prosperity",
           "EVENTS"
          ],
          [
           "Bualuang mBanking",
           "FINANCE"
          ],
          [
           "Chelsea FC Official Keyboard",
           "PRODUCTIVITY"
          ],
          [
           "Results for CT Lottery",
           "FAMILY"
          ],
          [
           "Desperate Housewives: The Game",
           "FAMILY"
          ],
          [
           "Modern Counter Global Strike 3D",
           "GAME"
          ],
          [
           "Relaxing Sounds",
           "HEALTH_AND_FITNESS"
          ],
          [
           "pretty Easy privacy p≡p",
           "COMMUNICATION"
          ],
          [
           "I am Nose Doctor -Save my Nose",
           "FAMILY"
          ],
          [
           "Open in WhatsApp (click to chat)",
           "TOOLS"
          ],
          [
           "Teen Patti by BL Games",
           "GAME"
          ]
         ],
         "hovertemplate": "Installs=%{x}<br>Rating=%{y}<br>App=%{customdata[0]}<br>Category=%{customdata[1]}<extra></extra>",
         "legendgroup": "",
         "marker": {
          "color": "#636efa",
          "symbol": "circle"
         },
         "mode": "markers",
         "name": "",
         "showlegend": false,
         "type": "scattergl",
         "x": {
          "bdata": "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",
          "dtype": "i4"
         },
         "xaxis": "x",
         "y": {
          "bdata": "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",
          "dtype": "f8"
         },
         "yaxis": "y"
        }
       ],
       "layout": {
        "legend": {
         "tracegroupgap": 0
        },
        "template": {
         "data": {
          "bar": [
           {
            "error_x": {
             "color": "#2a3f5f"
            },
            "error_y": {
             "color": "#2a3f5f"
            },
            "marker": {
             "line": {
              "color": "#E5ECF6",
              "width": 0.5
             },
             "pattern": {
              "fillmode": "overlay",
              "size": 10,
              "solidity": 0.2
             }
            },
            "type": "bar"
           }
          ],
          "barpolar": [
           {
            "marker": {
             "line": {
              "color": "#E5ECF6",
              "width": 0.5
             },
             "pattern": {
              "fillmode": "overlay",
              "size": 10,
              "solidity": 0.2
             }
            },
            "type": "barpolar"
           }
          ],
          "carpet": [
           {
            "aaxis": {
             "endlinecolor": "#2a3f5f",
             "gridcolor": "white",
             "linecolor": "white",
             "minorgridcolor": "white",
             "startlinecolor": "#2a3f5f"
            },
            "baxis": {
             "endlinecolor": "#2a3f5f",
             "gridcolor": "white",
             "linecolor": "white",
             "minorgridcolor": "white",
             "startlinecolor": "#2a3f5f"
            },
            "type": "carpet"
           }
          ],
          "choropleth": [
           {
            "colorbar": {
             "outlinewidth": 0,
             "ticks": ""
            },
            "type": "choropleth"
           }
          ],
          "contour": [
           {
            "colorbar": {
             "outlinewidth": 0,
             "ticks": ""
            },
            "colorscale": [
             [
              0,
              "#0d0887"
             ],
             [
              0.1111111111111111,
              "#46039f"
             ],
             [
              0.2222222222222222,
              "#7201a8"
             ],
             [
              0.3333333333333333,
              "#9c179e"
             ],
             [
              0.4444444444444444,
              "#bd3786"
             ],
             [
              0.5555555555555556,
              "#d8576b"
             ],
             [
              0.6666666666666666,
              "#ed7953"
             ],
             [
              0.7777777777777778,
              "#fb9f3a"
             ],
             [
              0.8888888888888888,
              "#fdca26"
             ],
             [
              1,
              "#f0f921"
             ]
            ],
            "type": "contour"
           }
          ],
          "contourcarpet": [
           {
            "colorbar": {
             "outlinewidth": 0,
             "ticks": ""
            },
            "type": "contourcarpet"
           }
          ],
          "heatmap": [
           {
            "colorbar": {
             "outlinewidth": 0,
             "ticks": ""
            },
            "colorscale": [
             [
              0,
              "#0d0887"
             ],
             [
              0.1111111111111111,
              "#46039f"
             ],
             [
              0.2222222222222222,
              "#7201a8"
             ],
             [
              0.3333333333333333,
              "#9c179e"
             ],
             [
              0.4444444444444444,
              "#bd3786"
             ],
             [
              0.5555555555555556,
              "#d8576b"
             ],
             [
              0.6666666666666666,
              "#ed7953"
             ],
             [
              0.7777777777777778,
              "#fb9f3a"
             ],
             [
              0.8888888888888888,
              "#fdca26"
             ],
             [
              1,
              "#f0f921"
             ]
            ],
            "type": "heatmap"
           }
          ],
          "histogram": [
           {
            "marker": {
             "pattern": {
              "fillmode": "overlay",
              "size": 10,
              "solidity": 0.2
             }
            },
            "type": "histogram"
           }
          ],
          "histogram2d": [
           {
            "colorbar": {
             "outlinewidth": 0,
             "ticks": ""
            },
            "colorscale": [
             [
              0,
              "#0d0887"
             ],
             [
              0.1111111111111111,
              "#46039f"
             ],
             [
              0.2222222222222222,
              "#7201a8"
             ],
             [
              0.3333333333333333,
              "#9c179e"
             ],
             [
              0.4444444444444444,
              "#bd3786"
             ],
             [
              0.5555555555555556,
              "#d8576b"
             ],
             [
              0.6666666666666666,
              "#ed7953"
             ],
             [
              0.7777777777777778,
              "#fb9f3a"
             ],
             [
              0.8888888888888888,
              "#fdca26"
             ],
             [
              1,
              "#f0f921"
             ]
            ],
            "type": "histogram2d"
           }
          ],
          "histogram2dcontour": [
           {
            "colorbar": {
             "outlinewidth": 0,
             "ticks": ""
            },
            "colorscale": [
             [
              0,
              "#0d0887"
             ],
             [
              0.1111111111111111,
              "#46039f"
             ],
             [
              0.2222222222222222,
              "#7201a8"
             ],
             [
              0.3333333333333333,
              "#9c179e"
             ],
             [
              0.4444444444444444,
              "#bd3786"
             ],
             [
              0.5555555555555556,
              "#d8576b"
             ],
             [
              0.6666666666666666,
              "#ed7953"
             ],
             [
              0.7777777777777778,
              "#fb9f3a"
             ],
             [
              0.8888888888888888,
              "#fdca26"
             ],
             [
              1,
              "#f0f921"
             ]
            ],
            "type": "histogram2dcontour"
           }
          ],
          "mesh3d": [
           {
            "colorbar": {
             "outlinewidth": 0,
             "ticks": ""
            },
            "type": "mesh3d"
           }
          ],
          "parcoords": [
           {
            "line": {
             "colorbar": {
              "outlinewidth": 0,
              "ticks": ""
             }
            },
            "type": "parcoords"
           }
          ],
          "pie": [
           {
            "automargin": true,
            "type": "pie"
           }
          ],
          "scatter": [
           {
            "fillpattern": {
             "fillmode": "overlay",
             "size": 10,
             "solidity": 0.2
            },
            "type": "scatter"
           }
          ],
          "scatter3d": [
           {
            "line": {
             "colorbar": {
              "outlinewidth": 0,
              "ticks": ""
             }
            },
            "marker": {
             "colorbar": {
              "outlinewidth": 0,
              "ticks": ""
             }
            },
            "type": "scatter3d"
           }
          ],
          "scattercarpet": [
           {
            "marker": {
             "colorbar": {
              "outlinewidth": 0,
              "ticks": ""
             }
            },
            "type": "scattercarpet"
           }
          ],
          "scattergeo": [
           {
            "marker": {
             "colorbar": {
              "outlinewidth": 0,
              "ticks": ""
             }
            },
            "type": "scattergeo"
           }
          ],
          "scattergl": [
           {
            "marker": {
             "colorbar": {
              "outlinewidth": 0,
              "ticks": ""
             }
            },
            "type": "scattergl"
           }
          ],
          "scattermap": [
           {
            "marker": {
             "colorbar": {
              "outlinewidth": 0,
              "ticks": ""
             }
            },
            "type": "scattermap"
           }
          ],
          "scattermapbox": [
           {
            "marker": {
             "colorbar": {
              "outlinewidth": 0,
              "ticks": ""
             }
            },
            "type": "scattermapbox"
           }
          ],
          "scatterpolar": [
           {
            "marker": {
             "colorbar": {
              "outlinewidth": 0,
              "ticks": ""
             }
            },
            "type": "scatterpolar"
           }
          ],
          "scatterpolargl": [
           {
            "marker": {
             "colorbar": {
              "outlinewidth": 0,
              "ticks": ""
             }
            },
            "type": "scatterpolargl"
           }
          ],
          "scatterternary": [
           {
            "marker": {
             "colorbar": {
              "outlinewidth": 0,
              "ticks": ""
             }
            },
            "type": "scatterternary"
           }
          ],
          "surface": [
           {
            "colorbar": {
             "outlinewidth": 0,
             "ticks": ""
            },
            "colorscale": [
             [
              0,
              "#0d0887"
             ],
             [
              0.1111111111111111,
              "#46039f"
             ],
             [
              0.2222222222222222,
              "#7201a8"
             ],
             [
              0.3333333333333333,
              "#9c179e"
             ],
             [
              0.4444444444444444,
              "#bd3786"
             ],
             [
              0.5555555555555556,
              "#d8576b"
             ],
             [
              0.6666666666666666,
              "#ed7953"
             ],
             [
              0.7777777777777778,
              "#fb9f3a"
             ],
             [
              0.8888888888888888,
              "#fdca26"
             ],
             [
              1,
              "#f0f921"
             ]
            ],
            "type": "surface"
           }
          ],
          "table": [
           {
            "cells": {
             "fill": {
              "color": "#EBF0F8"
             },
             "line": {
              "color": "white"
             }
            },
            "header": {
             "fill": {
              "color": "#C8D4E3"
             },
             "line": {
              "color": "white"
             }
            },
            "type": "table"
           }
          ]
         },
         "layout": {
          "annotationdefaults": {
           "arrowcolor": "#2a3f5f",
           "arrowhead": 0,
           "arrowwidth": 1
          },
          "autotypenumbers": "strict",
          "coloraxis": {
           "colorbar": {
            "outlinewidth": 0,
            "ticks": ""
           }
          },
          "colorscale": {
           "diverging": [
            [
             0,
             "#8e0152"
            ],
            [
             0.1,
             "#c51b7d"
            ],
            [
             0.2,
             "#de77ae"
            ],
            [
             0.3,
             "#f1b6da"
            ],
            [
             0.4,
             "#fde0ef"
            ],
            [
             0.5,
             "#f7f7f7"
            ],
            [
             0.6,
             "#e6f5d0"
            ],
            [
             0.7,
             "#b8e186"
            ],
            [
             0.8,
             "#7fbc41"
            ],
            [
             0.9,
             "#4d9221"
            ],
            [
             1,
             "#276419"
            ]
           ],
           "sequential": [
            [
             0,
             "#0d0887"
            ],
            [
             0.1111111111111111,
             "#46039f"
            ],
            [
             0.2222222222222222,
             "#7201a8"
            ],
            [
             0.3333333333333333,
             "#9c179e"
            ],
            [
             0.4444444444444444,
             "#bd3786"
            ],
            [
             0.5555555555555556,
             "#d8576b"
            ],
            [
             0.6666666666666666,
             "#ed7953"
            ],
            [
             0.7777777777777778,
             "#fb9f3a"
            ],
            [
             0.8888888888888888,
             "#fdca26"
            ],
            [
             1,
             "#f0f921"
            ]
           ],
           "sequentialminus": [
            [
             0,
             "#0d0887"
            ],
            [
             0.1111111111111111,
             "#46039f"
            ],
            [
             0.2222222222222222,
             "#7201a8"
            ],
            [
             0.3333333333333333,
             "#9c179e"
            ],
            [
             0.4444444444444444,
             "#bd3786"
            ],
            [
             0.5555555555555556,
             "#d8576b"
            ],
            [
             0.6666666666666666,
             "#ed7953"
            ],
            [
             0.7777777777777778,
             "#fb9f3a"
            ],
            [
             0.8888888888888888,
             "#fdca26"
            ],
            [
             1,
             "#f0f921"
            ]
           ]
          },
          "colorway": [
           "#636efa",
           "#EF553B",
           "#00cc96",
           "#ab63fa",
           "#FFA15A",
           "#19d3f3",
           "#FF6692",
           "#B6E880",
           "#FF97FF",
           "#FECB52"
          ],
          "font": {
           "color": "#2a3f5f"
          },
          "geo": {
           "bgcolor": "white",
           "lakecolor": "white",
           "landcolor": "#E5ECF6",
           "showlakes": true,
           "showland": true,
           "subunitcolor": "white"
          },
          "hoverlabel": {
           "align": "left"
          },
          "hovermode": "closest",
          "mapbox": {
           "style": "light"
          },
          "paper_bgcolor": "white",
          "plot_bgcolor": "#E5ECF6",
          "polar": {
           "angularaxis": {
            "gridcolor": "white",
            "linecolor": "white",
            "ticks": ""
           },
           "bgcolor": "#E5ECF6",
           "radialaxis": {
            "gridcolor": "white",
            "linecolor": "white",
            "ticks": ""
           }
          },
          "scene": {
           "xaxis": {
            "backgroundcolor": "#E5ECF6",
            "gridcolor": "white",
            "gridwidth": 2,
            "linecolor": "white",
            "showbackground": true,
            "ticks": "",
            "zerolinecolor": "white"
           },
           "yaxis": {
            "backgroundcolor": "#E5ECF6",
            "gridcolor": "white",
            "gridwidth": 2,
            "linecolor": "white",
            "showbackground": true,
            "ticks": "",
            "zerolinecolor": "white"
           },
           "zaxis": {
            "backgroundcolor": "#E5ECF6",
            "gridcolor": "white",
            "gridwidth": 2,
            "linecolor": "white",
            "showbackground": true,
            "ticks": "",
            "zerolinecolor": "white"
           }
          },
          "shapedefaults": {
           "line": {
            "color": "#2a3f5f"
           }
          },
          "ternary": {
           "aaxis": {
            "gridcolor": "white",
            "linecolor": "white",
            "ticks": ""
           },
           "baxis": {
            "gridcolor": "white",
            "linecolor": "white",
            "ticks": ""
           },
           "bgcolor": "#E5ECF6",
           "caxis": {
            "gridcolor": "white",
            "linecolor": "white",
            "ticks": ""
           }
          },
          "title": {
           "x": 0.05
          },
          "xaxis": {
           "automargin": true,
           "gridcolor": "white",
           "linecolor": "white",
           "ticks": "",
           "title": {
            "standoff": 15
           },
           "zerolinecolor": "white",
           "zerolinewidth": 2
          },
          "yaxis": {
           "automargin": true,
           "gridcolor": "white",
           "linecolor": "white",
           "ticks": "",
           "title": {
            "standoff": 15
           },
           "zerolinecolor": "white",
           "zerolinewidth": 2
          }
         }
        },
        "title": {
         "text": "Installs vs Rating (sample, interactive)"
        },
        "xaxis": {
         "anchor": "y",
         "domain": [
          0,
          1
         ],
         "title": {
          "text": "Installs"
         },
         "type": "log"
        },
        "yaxis": {
         "anchor": "x",
         "domain": [
          0,
          1
         ],
         "title": {
          "text": "Rating"
         }
        }
       }
      },
      "image/png": "[encoded data removed]"
     },
     "metadata": {},
     "output_type": "display_data"
    }
   ],
   "source": [
    "# Cell 6 - Interactive plots with Plotly\n",
    "# If Plotly is not installed: pip install plotly\n",
    "\n",
    "try:\n",
    "    import plotly.express as px\n",
    "    interactive_available = True\n",
    "except:\n",
    "    print(\"Plotly not installed. Install with: pip install plotly\")\n",
    "    interactive_available = False\n",
    "\n",
    "if interactive_available:\n",
    "    # Interactive bar for categories\n",
    "    fig = px.bar(cat_counts.head(20), x='category', y='count', title='Top 20 Categories (interactive)')\n",
    "    fig.update_layout(xaxis_tickangle=-45)\n",
    "    fig.show()\n",
    "\n",
    "    # Interactive scatter: Installs vs Rating (log)\n",
    "    df_scatter = apps.dropna(subset=['Installs','Rating'])\n",
    "    fig2 = px.scatter(df_scatter.sample(min(2000, len(df_scatter))), x='Installs', y='Rating',\n",
    "                      hover_data=['App','Category'] if 'App' in apps.columns else None,\n",
    "                      log_x=True, title='Installs vs Rating (sample, interactive)')\n",
    "    fig2.show()\n",
    "else:\n",
    "    print(\"Plotly not available; see earlier static matplotlib plots.\")"
   ]
  },
  {
   "cell_type": "markdown",
   "id": "6b10fd14-a73a-4423-bccc-a7a86fc7cd14",
   "metadata": {},
   "source": [
    "# 7. Sentiment + Category Insights (join reviews -> apps)"
   ]
  },
  {
   "cell_type": "code",
   "execution_count": 30,
   "id": "42349ad3-90bf-4f71-a361-226d49d20419",
   "metadata": {},
   "outputs": [
    {
     "name": "stdout",
     "output_type": "stream",
     "text": [
      "Apps name col: App Reviews name col: App\n",
      "Merged shape: (37432, 6)\n",
      "No sentiment labels found in merged reviews. Run sentiment analysis earlier.\n"
     ]
    }
   ],
   "source": [
    "# Cell 7 - Join reviews with apps to get category-level sentiment\n",
    "# This cell assumes reviews have an 'App' or 'App Name' column matching apps['App'] or similar.\n",
    "\n",
    "app_name_col_apps = None\n",
    "for c in apps.columns:\n",
    "    if c.lower() in ('app', 'app_name', 'title'):\n",
    "        app_name_col_apps = c\n",
    "        break\n",
    "\n",
    "app_name_col_reviews = None\n",
    "for c in reviews.columns:\n",
    "    if c.lower() in ('app', 'app_name', 'app_title'):\n",
    "        app_name_col_reviews = c\n",
    "        break\n",
    "\n",
    "print(\"Apps name col:\", app_name_col_apps, \"Reviews name col:\", app_name_col_reviews)\n",
    "\n",
    "if app_name_col_apps and app_name_col_reviews:\n",
    "    merged = reviews.merge(apps[[app_name_col_apps, category_col]], left_on=app_name_col_reviews, right_on=app_name_col_apps, how='left', suffixes=('_rev','_app'))\n",
    "    print(\"Merged shape:\", merged.shape)\n",
    "    # if sentiment column exists from earlier (vader_label or proxy_sentiment)\n",
    "    if 'vader_label' in merged.columns:\n",
    "        by_cat = merged.groupby(category_col)['vader_label'].value_counts(normalize=True).mul(100).rename('pct').reset_index()\n",
    "        display(by_cat.head(20))\n",
    "    elif 'proxy_sentiment' in merged.columns:\n",
    "        by_cat = merged.groupby(category_col)['proxy_sentiment'].value_counts(normalize=True).mul(100).rename('pct').reset_index()\n",
    "        display(by_cat.head(20))\n",
    "    else:\n",
    "        print(\"No sentiment labels found in merged reviews. Run sentiment analysis earlier.\")\n",
    "else:\n",
    "    print(\"Could not detect matching app name columns for join. Check apps.columns and reviews.columns.\")\n"
   ]
  },
  {
   "cell_type": "markdown",
   "id": "35e3d90d-bebf-4dff-bd8d-c3a5da244f78",
   "metadata": {},
   "source": [
    "# 8. Skill enhancement — applying visualization best practices (small multiples, annotation, color/shape selection)"
   ]
  },
  {
   "cell_type": "code",
   "execution_count": 37,
   "id": "3361a3a4-4ed9-4ee1-82bf-c0701ea0e2ab",
   "metadata": {},
   "outputs": [
    {
     "data": {
      "image/png": "[encoded data removed]",
      "text/plain": [
       "<Figure size 1400x800 with 6 Axes>"
      ]
     },
     "metadata": {},
     "output_type": "display_data"
    }
   ],
   "source": [
    "# Cell 8 - Small multiples: Ratings distribution per top categories (matplotlib)\n",
    "top_cats = cat_counts.head(6)['category'].tolist()\n",
    "subset = apps[apps[category_col].isin(top_cats)]\n",
    "\n",
    "fig, axes = plt.subplots(nrows=2, ncols=3, figsize=(14,8), sharey=True)\n",
    "axes = axes.flatten()\n",
    "for ax, cat in zip(axes, top_cats):\n",
    "    data = subset[subset[category_col]==cat]['Rating'].dropna()\n",
    "    ax.hist(data, bins=10)\n",
    "    ax.set_title(cat)\n",
    "    ax.set_xlim(0,5.1)\n",
    "    ax.set_xlabel(\"Rating\")\n",
    "axes[-1].axis('off')  # if fewer categories than axes\n",
    "plt.suptitle(\"Ratings distribution across top categories (small multiples)\")\n",
    "plt.tight_layout(rect=[0,0,1,0.96])\n",
    "plt.show()"
   ]
  },
  {
   "cell_type": "code",
   "execution_count": 38,
   "id": "e0d879cc-0cd1-48ee-897e-cfa57aa4d8d2",
   "metadata": {},
   "outputs": [
    {
     "data": {
      "image/png": "[encoded data removed]",
      "text/plain": [
       "<Figure size 1000x500 with 1 Axes>"
      ]
     },
     "metadata": {},
     "output_type": "display_data"
    }
   ],
   "source": [
    "# Annotation example: annotate a high-outlier app\n",
    "if 'Installs' in apps.columns and 'App' in apps.columns:\n",
    "    top_installed = apps.sort_values('Installs', ascending=False).head(1).iloc[0]\n",
    "    plt.figure()\n",
    "    plt.scatter(apps['Installs'].fillna(0)+1, apps['Rating'].fillna(0), alpha=0.2)\n",
    "    plt.xscale('log')\n",
    "    plt.xlabel(\"Installs (log scale)\")\n",
    "    plt.ylabel(\"Rating\")\n",
    "    plt.title(\"Installs vs Rating with annotation\")\n",
    "    plt.annotate(top_installed['App'],\n",
    "                 xy=(top_installed['Installs'] if pd.notna(top_installed['Installs']) else 0,\n",
    "                     top_installed['Rating']),\n",
    "                 xytext=(50, 4.5),\n",
    "                 textcoords='offset points',\n",
    "                 arrowprops=dict(arrowstyle=\"->\"))\n",
    "    plt.show()"
   ]
  },
  {
   "cell_type": "markdown",
   "id": "3ada899b-ea44-4c66-bf53-2879c21b741d",
   "metadata": {},
   "source": [
    "# 9. Export cleaned datasets (so you can reuse)"
   ]
  },
  {
   "cell_type": "code",
   "execution_count": 39,
   "id": "948ae356-1930-4122-a1c0-9506d1d3f98b",
   "metadata": {},
   "outputs": [
    {
     "name": "stdout",
     "output_type": "stream",
     "text": [
      "Exported apps_cleaned.csv and reviews_cleaned.csv to current directory.\n"
     ]
    }
   ],
   "source": [
    "# Cell 9 - Save cleaned datasets to disk\n",
    "apps.to_csv(\"apps_cleaned.csv\", index=False)\n",
    "reviews.to_csv(\"reviews_cleaned.csv\", index=False)\n",
    "print(\"Exported apps_cleaned.csv and reviews_cleaned.csv to current directory.\")"
   ]
  },
  {
   "cell_type": "code",
   "execution_count": null,
   "id": "a4b401f9-d95f-4f1f-9245-e1890aea88fc",
   "metadata": {},
   "outputs": [],
   "source": []
  }
 ],
 "metadata": {
  "kernelspec": {
   "display_name": "Python 3 (ipykernel)",
   "language": "python",
   "name": "python3"
  },
  "language_info": {
   "codemirror_mode": {
    "name": "ipython",
    "version": 3
   },
   "file_extension": ".py",
   "mimetype": "text/x-python",
   "name": "python",
   "nbconvert_exporter": "python",
   "pygments_lexer": "ipython3",
   "version": "3.13.5"
  }
 },
 "nbformat": 4,
 "nbformat_minor": 5
}
